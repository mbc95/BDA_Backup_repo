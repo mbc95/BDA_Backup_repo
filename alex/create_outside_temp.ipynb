{
 "cells": [
  {
   "cell_type": "code",
   "execution_count": 2,
   "id": "1b84dc8b-94ab-467b-9c26-9286caa6e611",
   "metadata": {},
   "outputs": [],
   "source": [
    "import pandas as pd\n",
    "import numpy as np\n",
    "from matplotlib import pyplot as plt"
   ]
  },
  {
   "cell_type": "code",
   "execution_count": 36,
   "id": "63889931-011f-4d5d-9dd7-e3580ec74b88",
   "metadata": {
    "tags": []
   },
   "outputs": [],
   "source": [
    "df_garbage = pd.read_csv(\"../data/preprocessed/cleaned_data_v3.csv\")\n",
    "df_weather = pd.read_csv(\"../data/preprocessed/weather_data.csv\", sep=\";\")"
   ]
  },
  {
   "cell_type": "code",
   "execution_count": 37,
   "id": "789f6147-cc09-411f-a6ff-339de737fb2c",
   "metadata": {},
   "outputs": [
    {
     "data": {
      "text/html": [
       "<div>\n",
       "<style scoped>\n",
       "    .dataframe tbody tr th:only-of-type {\n",
       "        vertical-align: middle;\n",
       "    }\n",
       "\n",
       "    .dataframe tbody tr th {\n",
       "        vertical-align: top;\n",
       "    }\n",
       "\n",
       "    .dataframe thead th {\n",
       "        text-align: right;\n",
       "    }\n",
       "</style>\n",
       "<table border=\"1\" class=\"dataframe\">\n",
       "  <thead>\n",
       "    <tr style=\"text-align: right;\">\n",
       "      <th></th>\n",
       "      <th>id</th>\n",
       "      <th>container_id</th>\n",
       "      <th>messungszähler</th>\n",
       "      <th>height_in_cm</th>\n",
       "      <th>temperatur_in_grad</th>\n",
       "      <th>tilt_in_grad</th>\n",
       "      <th>niederschlag_in_mm</th>\n",
       "      <th>height_delta</th>\n",
       "      <th>height_increase</th>\n",
       "      <th>laengengrad</th>\n",
       "      <th>...</th>\n",
       "      <th>DEVEUI_70B3D50070001780</th>\n",
       "      <th>DEVEUI_70B3D50070001781</th>\n",
       "      <th>DEVEUI_70B3D50070001782</th>\n",
       "      <th>DEVEUI_70B3D50070001786</th>\n",
       "      <th>DEVEUI_70B3D50070001787</th>\n",
       "      <th>DEVEUI_70B3D50070001788</th>\n",
       "      <th>DEVEUI_70B3D50070001789</th>\n",
       "      <th>farbe_brown</th>\n",
       "      <th>farbe_green</th>\n",
       "      <th>farbe_white</th>\n",
       "    </tr>\n",
       "  </thead>\n",
       "  <tbody>\n",
       "    <tr>\n",
       "      <th>0</th>\n",
       "      <td>4110576</td>\n",
       "      <td>1</td>\n",
       "      <td>193</td>\n",
       "      <td>112</td>\n",
       "      <td>14.0</td>\n",
       "      <td>1</td>\n",
       "      <td>0.0</td>\n",
       "      <td>0.0</td>\n",
       "      <td>0.000000e+00</td>\n",
       "      <td>50.13464</td>\n",
       "      <td>...</td>\n",
       "      <td>0</td>\n",
       "      <td>0</td>\n",
       "      <td>0</td>\n",
       "      <td>0</td>\n",
       "      <td>0</td>\n",
       "      <td>0</td>\n",
       "      <td>0</td>\n",
       "      <td>0</td>\n",
       "      <td>0</td>\n",
       "      <td>1</td>\n",
       "    </tr>\n",
       "    <tr>\n",
       "      <th>1</th>\n",
       "      <td>4110093</td>\n",
       "      <td>1</td>\n",
       "      <td>192</td>\n",
       "      <td>112</td>\n",
       "      <td>17.0</td>\n",
       "      <td>1</td>\n",
       "      <td>0.0</td>\n",
       "      <td>4.0</td>\n",
       "      <td>1.109070e-06</td>\n",
       "      <td>50.13464</td>\n",
       "      <td>...</td>\n",
       "      <td>0</td>\n",
       "      <td>0</td>\n",
       "      <td>0</td>\n",
       "      <td>0</td>\n",
       "      <td>0</td>\n",
       "      <td>0</td>\n",
       "      <td>0</td>\n",
       "      <td>0</td>\n",
       "      <td>0</td>\n",
       "      <td>1</td>\n",
       "    </tr>\n",
       "    <tr>\n",
       "      <th>2</th>\n",
       "      <td>4109607</td>\n",
       "      <td>1</td>\n",
       "      <td>191</td>\n",
       "      <td>108</td>\n",
       "      <td>15.0</td>\n",
       "      <td>0</td>\n",
       "      <td>0.0</td>\n",
       "      <td>-18.0</td>\n",
       "      <td>-5.000290e-06</td>\n",
       "      <td>50.13464</td>\n",
       "      <td>...</td>\n",
       "      <td>0</td>\n",
       "      <td>0</td>\n",
       "      <td>0</td>\n",
       "      <td>0</td>\n",
       "      <td>0</td>\n",
       "      <td>0</td>\n",
       "      <td>0</td>\n",
       "      <td>0</td>\n",
       "      <td>0</td>\n",
       "      <td>1</td>\n",
       "    </tr>\n",
       "    <tr>\n",
       "      <th>3</th>\n",
       "      <td>4109118</td>\n",
       "      <td>1</td>\n",
       "      <td>190</td>\n",
       "      <td>126</td>\n",
       "      <td>19.0</td>\n",
       "      <td>1</td>\n",
       "      <td>0.0</td>\n",
       "      <td>8.0</td>\n",
       "      <td>2.222260e-06</td>\n",
       "      <td>50.13464</td>\n",
       "      <td>...</td>\n",
       "      <td>0</td>\n",
       "      <td>0</td>\n",
       "      <td>0</td>\n",
       "      <td>0</td>\n",
       "      <td>0</td>\n",
       "      <td>0</td>\n",
       "      <td>0</td>\n",
       "      <td>0</td>\n",
       "      <td>0</td>\n",
       "      <td>1</td>\n",
       "    </tr>\n",
       "    <tr>\n",
       "      <th>4</th>\n",
       "      <td>4108627</td>\n",
       "      <td>1</td>\n",
       "      <td>189</td>\n",
       "      <td>118</td>\n",
       "      <td>20.0</td>\n",
       "      <td>0</td>\n",
       "      <td>0.0</td>\n",
       "      <td>-4.0</td>\n",
       "      <td>-2.777940e-07</td>\n",
       "      <td>50.13464</td>\n",
       "      <td>...</td>\n",
       "      <td>0</td>\n",
       "      <td>0</td>\n",
       "      <td>0</td>\n",
       "      <td>0</td>\n",
       "      <td>0</td>\n",
       "      <td>0</td>\n",
       "      <td>0</td>\n",
       "      <td>0</td>\n",
       "      <td>0</td>\n",
       "      <td>1</td>\n",
       "    </tr>\n",
       "  </tbody>\n",
       "</table>\n",
       "<p>5 rows × 102 columns</p>\n",
       "</div>"
      ],
      "text/plain": [
       "        id  container_id  messungszähler  height_in_cm  temperatur_in_grad  \\\n",
       "0  4110576             1             193           112                14.0   \n",
       "1  4110093             1             192           112                17.0   \n",
       "2  4109607             1             191           108                15.0   \n",
       "3  4109118             1             190           126                19.0   \n",
       "4  4108627             1             189           118                20.0   \n",
       "\n",
       "   tilt_in_grad  niederschlag_in_mm  height_delta  height_increase  \\\n",
       "0             1                 0.0           0.0     0.000000e+00   \n",
       "1             1                 0.0           4.0     1.109070e-06   \n",
       "2             0                 0.0         -18.0    -5.000290e-06   \n",
       "3             1                 0.0           8.0     2.222260e-06   \n",
       "4             0                 0.0          -4.0    -2.777940e-07   \n",
       "\n",
       "   laengengrad  ...  DEVEUI_70B3D50070001780  DEVEUI_70B3D50070001781  \\\n",
       "0     50.13464  ...                        0                        0   \n",
       "1     50.13464  ...                        0                        0   \n",
       "2     50.13464  ...                        0                        0   \n",
       "3     50.13464  ...                        0                        0   \n",
       "4     50.13464  ...                        0                        0   \n",
       "\n",
       "   DEVEUI_70B3D50070001782  DEVEUI_70B3D50070001786 DEVEUI_70B3D50070001787  \\\n",
       "0                        0                        0                       0   \n",
       "1                        0                        0                       0   \n",
       "2                        0                        0                       0   \n",
       "3                        0                        0                       0   \n",
       "4                        0                        0                       0   \n",
       "\n",
       "   DEVEUI_70B3D50070001788  DEVEUI_70B3D50070001789  farbe_brown  farbe_green  \\\n",
       "0                        0                        0            0            0   \n",
       "1                        0                        0            0            0   \n",
       "2                        0                        0            0            0   \n",
       "3                        0                        0            0            0   \n",
       "4                        0                        0            0            0   \n",
       "\n",
       "   farbe_white  \n",
       "0            1  \n",
       "1            1  \n",
       "2            1  \n",
       "3            1  \n",
       "4            1  \n",
       "\n",
       "[5 rows x 102 columns]"
      ]
     },
     "execution_count": 37,
     "metadata": {},
     "output_type": "execute_result"
    }
   ],
   "source": [
    "df_garbage.head()"
   ]
  },
  {
   "cell_type": "code",
   "execution_count": 38,
   "id": "11b95de9-053d-4c34-b487-f8651bc7d64e",
   "metadata": {},
   "outputs": [
    {
     "name": "stdout",
     "output_type": "stream",
     "text": [
      "old format:  2019120501 \n",
      "new format:  2019-12-05 01:00:00\n"
     ]
    }
   ],
   "source": [
    "weather = df_weather.copy()\n",
    "weather[\"MESS_DATUM\"] = pd.to_datetime(weather[\"MESS_DATUM\"], format=\"%Y%m%d%H\")\n",
    "print(\"old format: \", df_weather[\"MESS_DATUM\"][1],\"\\n\" + \"new format: \", weather[\"MESS_DATUM\"][1])"
   ]
  },
  {
   "cell_type": "code",
   "execution_count": 39,
   "id": "27a75de9-bad1-4e12-bcd3-72bb9a056348",
   "metadata": {},
   "outputs": [
    {
     "name": "stdout",
     "output_type": "stream",
     "text": [
      "     MESS_DATUM  TT_TU\n",
      "3744 2020-05-09   15.9\n",
      "      MESS_DATUM  TT_TU\n",
      "12504 2021-05-09    7.5\n"
     ]
    }
   ],
   "source": [
    "minloc = weather.loc[weather[\"MESS_DATUM\"]== \"2020-05-09\"]\n",
    "print(minloc)\n",
    "maxloc = weather.loc[weather[\"MESS_DATUM\"]== \"2021-05-09\"]\n",
    "print(maxloc)"
   ]
  },
  {
   "cell_type": "code",
   "execution_count": 40,
   "id": "fc5e8155-2d8e-454e-826a-764a911e0c6f",
   "metadata": {},
   "outputs": [],
   "source": [
    "weather = weather.truncate(before=3744, after=12504)\n",
    "weather = weather.reindex(index=weather.index[::-1])\n",
    "weather = weather.reset_index(drop=True)"
   ]
  },
  {
   "cell_type": "code",
   "execution_count": 42,
   "id": "1de26e6c-ffc6-454f-be0e-1d5dc60e8c85",
   "metadata": {},
   "outputs": [],
   "source": [
    "datum_garbage = df_garbage[[\"container_id\", \"datum\"]]"
   ]
  },
  {
   "cell_type": "code",
   "execution_count": 43,
   "id": "d2638455-e9fc-48ce-ad13-9c95e1c0698c",
   "metadata": {},
   "outputs": [
    {
     "name": "stderr",
     "output_type": "stream",
     "text": [
      "<ipython-input-43-670b55637b0a>:1: SettingWithCopyWarning: \n",
      "A value is trying to be set on a copy of a slice from a DataFrame.\n",
      "Try using .loc[row_indexer,col_indexer] = value instead\n",
      "\n",
      "See the caveats in the documentation: https://pandas.pydata.org/pandas-docs/stable/user_guide/indexing.html#returning-a-view-versus-a-copy\n",
      "  datum_garbage[\"datum\"] = pd.to_datetime(datum_garbage[\"datum\"])\n"
     ]
    }
   ],
   "source": [
    "datum_garbage[\"datum\"] = pd.to_datetime(datum_garbage[\"datum\"])"
   ]
  },
  {
   "cell_type": "code",
   "execution_count": 44,
   "id": "6b3ea943-2634-4374-8efd-e927f931b019",
   "metadata": {},
   "outputs": [
    {
     "data": {
      "text/html": [
       "<div>\n",
       "<style scoped>\n",
       "    .dataframe tbody tr th:only-of-type {\n",
       "        vertical-align: middle;\n",
       "    }\n",
       "\n",
       "    .dataframe tbody tr th {\n",
       "        vertical-align: top;\n",
       "    }\n",
       "\n",
       "    .dataframe thead th {\n",
       "        text-align: right;\n",
       "    }\n",
       "</style>\n",
       "<table border=\"1\" class=\"dataframe\">\n",
       "  <thead>\n",
       "    <tr style=\"text-align: right;\">\n",
       "      <th></th>\n",
       "      <th>container_id</th>\n",
       "      <th>datum</th>\n",
       "    </tr>\n",
       "  </thead>\n",
       "  <tbody>\n",
       "    <tr>\n",
       "      <th>0</th>\n",
       "      <td>1</td>\n",
       "      <td>2021-05-08 20:26:00.596017</td>\n",
       "    </tr>\n",
       "    <tr>\n",
       "      <th>1</th>\n",
       "      <td>1</td>\n",
       "      <td>2021-05-08 19:26:05.713448</td>\n",
       "    </tr>\n",
       "    <tr>\n",
       "      <th>2</th>\n",
       "      <td>1</td>\n",
       "      <td>2021-05-08 18:25:59.323267</td>\n",
       "    </tr>\n",
       "    <tr>\n",
       "      <th>3</th>\n",
       "      <td>1</td>\n",
       "      <td>2021-05-08 17:25:59.523137</td>\n",
       "    </tr>\n",
       "    <tr>\n",
       "      <th>4</th>\n",
       "      <td>1</td>\n",
       "      <td>2021-05-08 16:25:59.577446</td>\n",
       "    </tr>\n",
       "    <tr>\n",
       "      <th>...</th>\n",
       "      <td>...</td>\n",
       "      <td>...</td>\n",
       "    </tr>\n",
       "    <tr>\n",
       "      <th>515032</th>\n",
       "      <td>77</td>\n",
       "      <td>2020-05-09 04:50:15.056761</td>\n",
       "    </tr>\n",
       "    <tr>\n",
       "      <th>515033</th>\n",
       "      <td>77</td>\n",
       "      <td>2020-05-09 03:50:15.256986</td>\n",
       "    </tr>\n",
       "    <tr>\n",
       "      <th>515034</th>\n",
       "      <td>77</td>\n",
       "      <td>2020-05-09 02:50:15.408009</td>\n",
       "    </tr>\n",
       "    <tr>\n",
       "      <th>515035</th>\n",
       "      <td>77</td>\n",
       "      <td>2020-05-09 01:50:15.558981</td>\n",
       "    </tr>\n",
       "    <tr>\n",
       "      <th>515036</th>\n",
       "      <td>77</td>\n",
       "      <td>2020-05-09 00:50:15.726339</td>\n",
       "    </tr>\n",
       "  </tbody>\n",
       "</table>\n",
       "<p>515037 rows × 2 columns</p>\n",
       "</div>"
      ],
      "text/plain": [
       "        container_id                      datum\n",
       "0                  1 2021-05-08 20:26:00.596017\n",
       "1                  1 2021-05-08 19:26:05.713448\n",
       "2                  1 2021-05-08 18:25:59.323267\n",
       "3                  1 2021-05-08 17:25:59.523137\n",
       "4                  1 2021-05-08 16:25:59.577446\n",
       "...              ...                        ...\n",
       "515032            77 2020-05-09 04:50:15.056761\n",
       "515033            77 2020-05-09 03:50:15.256986\n",
       "515034            77 2020-05-09 02:50:15.408009\n",
       "515035            77 2020-05-09 01:50:15.558981\n",
       "515036            77 2020-05-09 00:50:15.726339\n",
       "\n",
       "[515037 rows x 2 columns]"
      ]
     },
     "execution_count": 44,
     "metadata": {},
     "output_type": "execute_result"
    }
   ],
   "source": [
    "datum_garbage"
   ]
  },
  {
   "cell_type": "code",
   "execution_count": 45,
   "id": "e1db1a80-f5de-4a85-b5fe-6410b57fd9e4",
   "metadata": {},
   "outputs": [
    {
     "name": "stderr",
     "output_type": "stream",
     "text": [
      "<ipython-input-45-2283538105e4>:1: SettingWithCopyWarning: \n",
      "A value is trying to be set on a copy of a slice from a DataFrame.\n",
      "Try using .loc[row_indexer,col_indexer] = value instead\n",
      "\n",
      "See the caveats in the documentation: https://pandas.pydata.org/pandas-docs/stable/user_guide/indexing.html#returning-a-view-versus-a-copy\n",
      "  datum_garbage[\"datum\"] = pd.Series(datum_garbage[\"datum\"]).dt.round(\"H\")\n"
     ]
    }
   ],
   "source": [
    "datum_garbage[\"datum\"] = pd.Series(datum_garbage[\"datum\"]).dt.round(\"H\")"
   ]
  },
  {
   "cell_type": "code",
   "execution_count": 31,
   "id": "188c1231-f2d1-4a48-a5f4-a098221dd00b",
   "metadata": {},
   "outputs": [
    {
     "data": {
      "text/plain": [
       "0      2021-05-09 00:00:00\n",
       "1      2021-05-08 23:00:00\n",
       "2      2021-05-08 22:00:00\n",
       "3      2021-05-08 21:00:00\n",
       "4      2021-05-08 20:00:00\n",
       "               ...        \n",
       "8756   2020-05-09 04:00:00\n",
       "8757   2020-05-09 03:00:00\n",
       "8758   2020-05-09 02:00:00\n",
       "8759   2020-05-09 01:00:00\n",
       "8760   2020-05-09 00:00:00\n",
       "Name: MESS_DATUM, Length: 8761, dtype: datetime64[ns]"
      ]
     },
     "execution_count": 31,
     "metadata": {},
     "output_type": "execute_result"
    }
   ],
   "source": [
    "weather[\"MESS_DATUM\"]"
   ]
  },
  {
   "cell_type": "code",
   "execution_count": 51,
   "id": "a785e47e-4da7-42f4-b6fd-8bc5353f86a0",
   "metadata": {},
   "outputs": [
    {
     "name": "stderr",
     "output_type": "stream",
     "text": [
      "<ipython-input-51-d3679838fa2e>:1: SettingWithCopyWarning: \n",
      "A value is trying to be set on a copy of a slice from a DataFrame.\n",
      "Try using .loc[row_indexer,col_indexer] = value instead\n",
      "\n",
      "See the caveats in the documentation: https://pandas.pydata.org/pandas-docs/stable/user_guide/indexing.html#returning-a-view-versus-a-copy\n",
      "  datum_garbage[\"temp_outside\"] = \"NaN\"\n"
     ]
    }
   ],
   "source": [
    "datum_garbage[\"temp_outside\"] = \"NaN\""
   ]
  },
  {
   "cell_type": "code",
   "execution_count": 52,
   "id": "affbddd0-fee3-4ae7-8577-e9a3ce65af7d",
   "metadata": {},
   "outputs": [
    {
     "data": {
      "text/html": [
       "<div>\n",
       "<style scoped>\n",
       "    .dataframe tbody tr th:only-of-type {\n",
       "        vertical-align: middle;\n",
       "    }\n",
       "\n",
       "    .dataframe tbody tr th {\n",
       "        vertical-align: top;\n",
       "    }\n",
       "\n",
       "    .dataframe thead th {\n",
       "        text-align: right;\n",
       "    }\n",
       "</style>\n",
       "<table border=\"1\" class=\"dataframe\">\n",
       "  <thead>\n",
       "    <tr style=\"text-align: right;\">\n",
       "      <th></th>\n",
       "      <th>container_id</th>\n",
       "      <th>datum</th>\n",
       "      <th>temp_outside</th>\n",
       "    </tr>\n",
       "  </thead>\n",
       "  <tbody>\n",
       "    <tr>\n",
       "      <th>0</th>\n",
       "      <td>1</td>\n",
       "      <td>2021-05-08 20:00:00</td>\n",
       "      <td>NaN</td>\n",
       "    </tr>\n",
       "    <tr>\n",
       "      <th>1</th>\n",
       "      <td>1</td>\n",
       "      <td>2021-05-08 19:00:00</td>\n",
       "      <td>NaN</td>\n",
       "    </tr>\n",
       "    <tr>\n",
       "      <th>2</th>\n",
       "      <td>1</td>\n",
       "      <td>2021-05-08 18:00:00</td>\n",
       "      <td>NaN</td>\n",
       "    </tr>\n",
       "    <tr>\n",
       "      <th>3</th>\n",
       "      <td>1</td>\n",
       "      <td>2021-05-08 17:00:00</td>\n",
       "      <td>NaN</td>\n",
       "    </tr>\n",
       "    <tr>\n",
       "      <th>4</th>\n",
       "      <td>1</td>\n",
       "      <td>2021-05-08 16:00:00</td>\n",
       "      <td>NaN</td>\n",
       "    </tr>\n",
       "    <tr>\n",
       "      <th>...</th>\n",
       "      <td>...</td>\n",
       "      <td>...</td>\n",
       "      <td>...</td>\n",
       "    </tr>\n",
       "    <tr>\n",
       "      <th>515032</th>\n",
       "      <td>77</td>\n",
       "      <td>2020-05-09 05:00:00</td>\n",
       "      <td>NaN</td>\n",
       "    </tr>\n",
       "    <tr>\n",
       "      <th>515033</th>\n",
       "      <td>77</td>\n",
       "      <td>2020-05-09 04:00:00</td>\n",
       "      <td>NaN</td>\n",
       "    </tr>\n",
       "    <tr>\n",
       "      <th>515034</th>\n",
       "      <td>77</td>\n",
       "      <td>2020-05-09 03:00:00</td>\n",
       "      <td>NaN</td>\n",
       "    </tr>\n",
       "    <tr>\n",
       "      <th>515035</th>\n",
       "      <td>77</td>\n",
       "      <td>2020-05-09 02:00:00</td>\n",
       "      <td>NaN</td>\n",
       "    </tr>\n",
       "    <tr>\n",
       "      <th>515036</th>\n",
       "      <td>77</td>\n",
       "      <td>2020-05-09 01:00:00</td>\n",
       "      <td>NaN</td>\n",
       "    </tr>\n",
       "  </tbody>\n",
       "</table>\n",
       "<p>515037 rows × 3 columns</p>\n",
       "</div>"
      ],
      "text/plain": [
       "        container_id               datum temp_outside\n",
       "0                  1 2021-05-08 20:00:00          NaN\n",
       "1                  1 2021-05-08 19:00:00          NaN\n",
       "2                  1 2021-05-08 18:00:00          NaN\n",
       "3                  1 2021-05-08 17:00:00          NaN\n",
       "4                  1 2021-05-08 16:00:00          NaN\n",
       "...              ...                 ...          ...\n",
       "515032            77 2020-05-09 05:00:00          NaN\n",
       "515033            77 2020-05-09 04:00:00          NaN\n",
       "515034            77 2020-05-09 03:00:00          NaN\n",
       "515035            77 2020-05-09 02:00:00          NaN\n",
       "515036            77 2020-05-09 01:00:00          NaN\n",
       "\n",
       "[515037 rows x 3 columns]"
      ]
     },
     "execution_count": 52,
     "metadata": {},
     "output_type": "execute_result"
    }
   ],
   "source": [
    "datum_garbage"
   ]
  },
  {
   "cell_type": "code",
   "execution_count": 78,
   "id": "5fd1306b-ead4-4f76-bea7-02862a3dc078",
   "metadata": {},
   "outputs": [
    {
     "data": {
      "text/plain": [
       "-0.3"
      ]
     },
     "execution_count": 78,
     "metadata": {},
     "output_type": "execute_result"
    }
   ],
   "source": [
    "weather[\"TT_TU\"][20]"
   ]
  },
  {
   "cell_type": "code",
   "execution_count": 69,
   "id": "7a8eca36-d470-4f04-ac6c-5e766e3c29a7",
   "metadata": {},
   "outputs": [
    {
     "data": {
      "text/plain": [
       "Timestamp('2021-05-08 04:00:00')"
      ]
     },
     "execution_count": 69,
     "metadata": {},
     "output_type": "execute_result"
    }
   ],
   "source": [
    "datum_garbage[\"datum\"][10]"
   ]
  },
  {
   "cell_type": "code",
   "execution_count": 79,
   "id": "aae5417c-11a8-4b42-bb02-d6ba50ccd9eb",
   "metadata": {},
   "outputs": [
    {
     "name": "stderr",
     "output_type": "stream",
     "text": [
      "<ipython-input-79-6726004340ef>:4: SettingWithCopyWarning: \n",
      "A value is trying to be set on a copy of a slice from a DataFrame\n",
      "\n",
      "See the caveats in the documentation: https://pandas.pydata.org/pandas-docs/stable/user_guide/indexing.html#returning-a-view-versus-a-copy\n",
      "  datum_garbage[\"temp_outside\"][i] = temp\n",
      "C:\\Users\\alexa\\.virtualenvs\\bda-analytics-challenge-Bk2p0L_m\\lib\\site-packages\\IPython\\core\\interactiveshell.py:3441: SettingWithCopyWarning: \n",
      "A value is trying to be set on a copy of a slice from a DataFrame\n",
      "\n",
      "See the caveats in the documentation: https://pandas.pydata.org/pandas-docs/stable/user_guide/indexing.html#returning-a-view-versus-a-copy\n",
      "  exec(code_obj, self.user_global_ns, self.user_ns)\n"
     ]
    }
   ],
   "source": [
    "for datum, temp in zip(weather[\"MESS_DATUM\"], weather[\"TT_TU\"]):\n",
    "    for i, date in enumerate(datum_garbage[\"datum\"]):\n",
    "        if datum == date:\n",
    "            datum_garbage[\"temp_outside\"][i] = temp\n",
    "            "
   ]
  },
  {
   "cell_type": "code",
   "execution_count": 1,
   "id": "e8957513-404f-4993-98c1-ac44046283d2",
   "metadata": {},
   "outputs": [
    {
     "ename": "NameError",
     "evalue": "name 'datum_garbage' is not defined",
     "output_type": "error",
     "traceback": [
      "\u001b[1;31m---------------------------------------------------------------------------\u001b[0m",
      "\u001b[1;31mNameError\u001b[0m                                 Traceback (most recent call last)",
      "\u001b[1;32m<ipython-input-1-2816aa718127>\u001b[0m in \u001b[0;36m<module>\u001b[1;34m\u001b[0m\n\u001b[1;32m----> 1\u001b[1;33m \u001b[0mdatum_garbage\u001b[0m\u001b[1;33m\u001b[0m\u001b[1;33m\u001b[0m\u001b[0m\n\u001b[0m",
      "\u001b[1;31mNameError\u001b[0m: name 'datum_garbage' is not defined"
     ]
    }
   ],
   "source": [
    "datum_garbage"
   ]
  },
  {
   "cell_type": "code",
   "execution_count": 95,
   "id": "4307ce41-0f41-46bf-b338-350d21ed07fe",
   "metadata": {},
   "outputs": [],
   "source": [
    "datum_garbage2 = datum_garbage.set_index(\"datum\")"
   ]
  },
  {
   "cell_type": "code",
   "execution_count": 130,
   "id": "1f1705da-e57b-4212-878b-99eed600ec4f",
   "metadata": {},
   "outputs": [],
   "source": [
    "datum_garbage2.to_csv(\"../data/preprocessed/\"+'outside_temp.csv', index=False) "
   ]
  },
  {
   "cell_type": "code",
   "execution_count": 3,
   "id": "54d47050-d621-4e52-9e0f-dc48035be14d",
   "metadata": {},
   "outputs": [],
   "source": [
    "# we've got the newest dataset version and the temp outside -> concatenate both\n",
    "df_new = pd.read_csv(\"../data/preprocessed/cleaned_data_v6.csv\")\n",
    "df_temp = pd.read_csv(\"../data/preprocessed/outside_temp.csv\")"
   ]
  },
  {
   "cell_type": "code",
   "execution_count": 7,
   "id": "07ac006b-cb3b-4e8f-92f9-aba6aa700a82",
   "metadata": {},
   "outputs": [],
   "source": [
    "temp_outside = df_temp[\"temp_outside\"]"
   ]
  },
  {
   "cell_type": "code",
   "execution_count": 16,
   "id": "dd93b68d-ad02-4bde-bbfd-a508695d116a",
   "metadata": {},
   "outputs": [
    {
     "ename": "ValueError",
     "evalue": "cannot insert aussentemperatur, already exists",
     "output_type": "error",
     "traceback": [
      "\u001b[1;31m---------------------------------------------------------------------------\u001b[0m",
      "\u001b[1;31mValueError\u001b[0m                                Traceback (most recent call last)",
      "\u001b[1;32m<ipython-input-16-085d73fbec85>\u001b[0m in \u001b[0;36m<module>\u001b[1;34m\u001b[0m\n\u001b[1;32m----> 1\u001b[1;33m \u001b[0mdf_new\u001b[0m\u001b[1;33m.\u001b[0m\u001b[0minsert\u001b[0m\u001b[1;33m(\u001b[0m\u001b[1;36m3\u001b[0m\u001b[1;33m,\u001b[0m \u001b[1;34m\"aussentemperatur\"\u001b[0m\u001b[1;33m,\u001b[0m \u001b[0mtemp_outside\u001b[0m\u001b[1;33m)\u001b[0m\u001b[1;33m\u001b[0m\u001b[1;33m\u001b[0m\u001b[0m\n\u001b[0m",
      "\u001b[1;32m~\\.virtualenvs\\bda-analytics-challenge-Bk2p0L_m\\lib\\site-packages\\pandas\\core\\frame.py\u001b[0m in \u001b[0;36minsert\u001b[1;34m(self, loc, column, value, allow_duplicates)\u001b[0m\n\u001b[0;32m   3761\u001b[0m         \u001b[0mself\u001b[0m\u001b[1;33m.\u001b[0m\u001b[0m_ensure_valid_index\u001b[0m\u001b[1;33m(\u001b[0m\u001b[0mvalue\u001b[0m\u001b[1;33m)\u001b[0m\u001b[1;33m\u001b[0m\u001b[1;33m\u001b[0m\u001b[0m\n\u001b[0;32m   3762\u001b[0m         \u001b[0mvalue\u001b[0m \u001b[1;33m=\u001b[0m \u001b[0mself\u001b[0m\u001b[1;33m.\u001b[0m\u001b[0m_sanitize_column\u001b[0m\u001b[1;33m(\u001b[0m\u001b[0mcolumn\u001b[0m\u001b[1;33m,\u001b[0m \u001b[0mvalue\u001b[0m\u001b[1;33m,\u001b[0m \u001b[0mbroadcast\u001b[0m\u001b[1;33m=\u001b[0m\u001b[1;32mFalse\u001b[0m\u001b[1;33m)\u001b[0m\u001b[1;33m\u001b[0m\u001b[1;33m\u001b[0m\u001b[0m\n\u001b[1;32m-> 3763\u001b[1;33m         \u001b[0mself\u001b[0m\u001b[1;33m.\u001b[0m\u001b[0m_mgr\u001b[0m\u001b[1;33m.\u001b[0m\u001b[0minsert\u001b[0m\u001b[1;33m(\u001b[0m\u001b[0mloc\u001b[0m\u001b[1;33m,\u001b[0m \u001b[0mcolumn\u001b[0m\u001b[1;33m,\u001b[0m \u001b[0mvalue\u001b[0m\u001b[1;33m,\u001b[0m \u001b[0mallow_duplicates\u001b[0m\u001b[1;33m=\u001b[0m\u001b[0mallow_duplicates\u001b[0m\u001b[1;33m)\u001b[0m\u001b[1;33m\u001b[0m\u001b[1;33m\u001b[0m\u001b[0m\n\u001b[0m\u001b[0;32m   3764\u001b[0m \u001b[1;33m\u001b[0m\u001b[0m\n\u001b[0;32m   3765\u001b[0m     \u001b[1;32mdef\u001b[0m \u001b[0massign\u001b[0m\u001b[1;33m(\u001b[0m\u001b[0mself\u001b[0m\u001b[1;33m,\u001b[0m \u001b[1;33m**\u001b[0m\u001b[0mkwargs\u001b[0m\u001b[1;33m)\u001b[0m \u001b[1;33m->\u001b[0m \u001b[0mDataFrame\u001b[0m\u001b[1;33m:\u001b[0m\u001b[1;33m\u001b[0m\u001b[1;33m\u001b[0m\u001b[0m\n",
      "\u001b[1;32m~\\.virtualenvs\\bda-analytics-challenge-Bk2p0L_m\\lib\\site-packages\\pandas\\core\\internals\\managers.py\u001b[0m in \u001b[0;36minsert\u001b[1;34m(self, loc, item, value, allow_duplicates)\u001b[0m\n\u001b[0;32m   1189\u001b[0m         \u001b[1;32mif\u001b[0m \u001b[1;32mnot\u001b[0m \u001b[0mallow_duplicates\u001b[0m \u001b[1;32mand\u001b[0m \u001b[0mitem\u001b[0m \u001b[1;32min\u001b[0m \u001b[0mself\u001b[0m\u001b[1;33m.\u001b[0m\u001b[0mitems\u001b[0m\u001b[1;33m:\u001b[0m\u001b[1;33m\u001b[0m\u001b[1;33m\u001b[0m\u001b[0m\n\u001b[0;32m   1190\u001b[0m             \u001b[1;31m# Should this be a different kind of error??\u001b[0m\u001b[1;33m\u001b[0m\u001b[1;33m\u001b[0m\u001b[1;33m\u001b[0m\u001b[0m\n\u001b[1;32m-> 1191\u001b[1;33m             \u001b[1;32mraise\u001b[0m \u001b[0mValueError\u001b[0m\u001b[1;33m(\u001b[0m\u001b[1;34mf\"cannot insert {item}, already exists\"\u001b[0m\u001b[1;33m)\u001b[0m\u001b[1;33m\u001b[0m\u001b[1;33m\u001b[0m\u001b[0m\n\u001b[0m\u001b[0;32m   1192\u001b[0m \u001b[1;33m\u001b[0m\u001b[0m\n\u001b[0;32m   1193\u001b[0m         \u001b[1;32mif\u001b[0m \u001b[1;32mnot\u001b[0m \u001b[0misinstance\u001b[0m\u001b[1;33m(\u001b[0m\u001b[0mloc\u001b[0m\u001b[1;33m,\u001b[0m \u001b[0mint\u001b[0m\u001b[1;33m)\u001b[0m\u001b[1;33m:\u001b[0m\u001b[1;33m\u001b[0m\u001b[1;33m\u001b[0m\u001b[0m\n",
      "\u001b[1;31mValueError\u001b[0m: cannot insert aussentemperatur, already exists"
     ]
    }
   ],
   "source": [
    "df_new.insert(3, \"aussentemperatur\", temp_outside)\n"
   ]
  },
  {
   "cell_type": "code",
   "execution_count": 21,
   "id": "66ec9c22-c414-477c-82cc-1fb7225e4632",
   "metadata": {},
   "outputs": [
    {
     "data": {
      "text/html": [
       "<div>\n",
       "<style scoped>\n",
       "    .dataframe tbody tr th:only-of-type {\n",
       "        vertical-align: middle;\n",
       "    }\n",
       "\n",
       "    .dataframe tbody tr th {\n",
       "        vertical-align: top;\n",
       "    }\n",
       "\n",
       "    .dataframe thead th {\n",
       "        text-align: right;\n",
       "    }\n",
       "</style>\n",
       "<table border=\"1\" class=\"dataframe\">\n",
       "  <thead>\n",
       "    <tr style=\"text-align: right;\">\n",
       "      <th></th>\n",
       "      <th>container_id</th>\n",
       "      <th>height_in_cm</th>\n",
       "      <th>temperatur_in_grad</th>\n",
       "      <th>aussentemperatur</th>\n",
       "      <th>niederschlag_in_mm</th>\n",
       "      <th>ist_industriegebiet</th>\n",
       "      <th>ist_wohngebiet</th>\n",
       "      <th>ist_feiertag</th>\n",
       "      <th>datum</th>\n",
       "      <th>sekunde</th>\n",
       "      <th>...</th>\n",
       "      <th>jahr</th>\n",
       "      <th>farbe_brown</th>\n",
       "      <th>farbe_green</th>\n",
       "      <th>farbe_white</th>\n",
       "      <th>unix_time</th>\n",
       "      <th>time_delta</th>\n",
       "      <th>hight_delta</th>\n",
       "      <th>ist_ferien</th>\n",
       "      <th>laengengrad</th>\n",
       "      <th>breitengrad</th>\n",
       "    </tr>\n",
       "  </thead>\n",
       "  <tbody>\n",
       "    <tr>\n",
       "      <th>0</th>\n",
       "      <td>77</td>\n",
       "      <td>86</td>\n",
       "      <td>22.0</td>\n",
       "      <td>13.0</td>\n",
       "      <td>0.0</td>\n",
       "      <td>0</td>\n",
       "      <td>1</td>\n",
       "      <td>0</td>\n",
       "      <td>2020-05-09 00:50:15.726339</td>\n",
       "      <td>15</td>\n",
       "      <td>...</td>\n",
       "      <td>2020</td>\n",
       "      <td>0</td>\n",
       "      <td>1</td>\n",
       "      <td>0</td>\n",
       "      <td>1588980000000</td>\n",
       "      <td>0</td>\n",
       "      <td>0</td>\n",
       "      <td>0</td>\n",
       "      <td>50.126541</td>\n",
       "      <td>8.698816</td>\n",
       "    </tr>\n",
       "  </tbody>\n",
       "</table>\n",
       "<p>1 rows × 25 columns</p>\n",
       "</div>"
      ],
      "text/plain": [
       "   container_id  height_in_cm  temperatur_in_grad  aussentemperatur  \\\n",
       "0            77            86                22.0              13.0   \n",
       "\n",
       "   niederschlag_in_mm  ist_industriegebiet  ist_wohngebiet  ist_feiertag  \\\n",
       "0                 0.0                    0               1             0   \n",
       "\n",
       "                        datum  sekunde  ...  jahr  farbe_brown  farbe_green  \\\n",
       "0  2020-05-09 00:50:15.726339       15  ...  2020            0            1   \n",
       "\n",
       "   farbe_white      unix_time  time_delta  hight_delta  ist_ferien  \\\n",
       "0            0  1588980000000           0            0           0   \n",
       "\n",
       "   laengengrad  breitengrad  \n",
       "0    50.126541     8.698816  \n",
       "\n",
       "[1 rows x 25 columns]"
      ]
     },
     "execution_count": 21,
     "metadata": {},
     "output_type": "execute_result"
    }
   ],
   "source": [
    "df_new.head(1)"
   ]
  },
  {
   "cell_type": "code",
   "execution_count": 19,
   "id": "45830126-36f2-42e2-a4bc-298dd3aadb1f",
   "metadata": {},
   "outputs": [],
   "source": [
    "df_new.to_csv(\"../data/preprocessed/\"+'cleaned_data_v7.csv', index=False)"
   ]
  },
  {
   "cell_type": "code",
   "execution_count": 35,
   "id": "45cbcbdc-0b82-4129-8f38-c96a28f56007",
   "metadata": {},
   "outputs": [
    {
     "data": {
      "image/png": "[encoded data removed]",
      "text/plain": [
       "<Figure size 432x288 with 1 Axes>"
      ]
     },
     "metadata": {
      "needs_background": "light"
     },
     "output_type": "display_data"
    }
   ],
   "source": [
    "plt.plot(df_new[\"aussentemperatur\"].loc[(df_new[\"container_id\"]==2)])\n",
    "plt.plot(df_new[\"temperatur_in_grad\"].loc[(df_new[\"container_id\"]==2)], al)\n",
    "plt.show()"
   ]
  }
 ],
 "metadata": {
  "kernelspec": {
   "display_name": "BDA-NEW",
   "language": "python",
   "name": "bda-analytics-challenge-bk2p0l_m"
  },
  "language_info": {
   "codemirror_mode": {
    "name": "ipython",
    "version": 3
   },
   "file_extension": ".py",
   "mimetype": "text/x-python",
   "name": "python",
   "nbconvert_exporter": "python",
   "pygments_lexer": "ipython3",
   "version": "3.9.5"
  }
 },
 "nbformat": 4,
 "nbformat_minor": 5
}
