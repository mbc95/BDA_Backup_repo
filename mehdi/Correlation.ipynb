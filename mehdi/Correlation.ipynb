{
 "cells": [
  {
   "cell_type": "code",
   "execution_count": null,
   "id": "eb1be1a8-7cc1-4b58-985b-104a6881b8f0",
   "metadata": {},
   "outputs": [],
   "source": []
  },
  {
   "cell_type": "code",
   "execution_count": 4,
   "id": "8e88fc99-61f5-4f5e-b485-30901f9f0c19",
   "metadata": {},
   "outputs": [],
   "source": [
    "import pandas as pd\n",
    "from matplotlib import pyplot as plt\n",
    "import json\n",
    "from pandas.io.json import json_normalize\n",
    "from os import listdir\n",
    "import os\n",
    "from os.path import isfile, join\n",
    "from pathlib import Path as pt\n",
    "import numpy as np\n"
   ]
  },
  {
   "cell_type": "code",
   "execution_count": 5,
   "id": "bd707fa2-75d7-4c85-8f46-bb18627647cc",
   "metadata": {},
   "outputs": [],
   "source": [
    "path_in = \"C:/Users/bench/PycharmProjects/BDA/data/data/70b3d500700016dA.txt\""
   ]
  },
  {
   "cell_type": "markdown",
   "id": "fb7f09f5-17e4-4e32-8307-e4c8ae9aaedd",
   "metadata": {},
   "source": [
    "## Getting sensor data and Event data"
   ]
  },
  {
   "cell_type": "code",
   "execution_count": 6,
   "id": "7aafbc8d-5e70-4a0e-bd56-82fb3db271fb",
   "metadata": {},
   "outputs": [],
   "source": [
    "def txt_to_pd(path_in):\n",
    "    print(\"#### reading \"+ path_in +\" in initial_df ###############\")\n",
    "    initial_df = pd.read_json(path_in, lines=True)\n",
    "\n",
    "    # Relevante Daten in df\n",
    "    df_garbage = pd.DataFrame(initial_df[1][0])\n",
    "    dict_garbage = df_garbage.decoded_data[0]\n",
    "    keys_garbage = dict_garbage.keys()\n",
    "    values_garbage = dict_garbage.values()\n",
    "\n",
    "    # Decoded last column of df containing the sensor Data\n",
    "    df_decoded_data = json_normalize(df_garbage.decoded_data)\n",
    "\n",
    "    # print(df_decoded_data)\n",
    "\n",
    "    df_decoded_data[\"sensor_data.Height 1 (cm)\"] = df_decoded_data[\"sensor_data.Height 1\"].str.replace(\"cm\", \"\").astype(\n",
    "        int)\n",
    "    # print(df_decoded_data)\n",
    "    print(\"##################################Decoded################################\")\n",
    "    return df_decoded_data,df_garbage"
   ]
  },
  {
   "cell_type": "code",
   "execution_count": 7,
   "id": "8423a907-038d-4a97-a02d-aea6da2c85dd",
   "metadata": {},
   "outputs": [
    {
     "name": "stdout",
     "output_type": "stream",
     "text": [
      "#### reading C:/Users/bench/PycharmProjects/BDA/data/data/70b3d500700016dA.txt in initial_df ###############\n"
     ]
    },
    {
     "name": "stderr",
     "output_type": "stream",
     "text": [
      "<ipython-input-6-15bd363a455a>:12: FutureWarning: pandas.io.json.json_normalize is deprecated, use pandas.json_normalize instead\n",
      "  df_decoded_data = json_normalize(df_garbage.decoded_data)\n"
     ]
    },
    {
     "name": "stdout",
     "output_type": "stream",
     "text": [
      "##################################Decoded################################\n"
     ]
    },
    {
     "data": {
      "text/html": [
       "<div>\n",
       "<style scoped>\n",
       "    .dataframe tbody tr th:only-of-type {\n",
       "        vertical-align: middle;\n",
       "    }\n",
       "\n",
       "    .dataframe tbody tr th {\n",
       "        vertical-align: top;\n",
       "    }\n",
       "\n",
       "    .dataframe thead th {\n",
       "        text-align: right;\n",
       "    }\n",
       "</style>\n",
       "<table border=\"1\" class=\"dataframe\">\n",
       "  <thead>\n",
       "    <tr style=\"text-align: right;\">\n",
       "      <th></th>\n",
       "      <th>sensor_data.Status</th>\n",
       "      <th>sensor_data.Sensor ID</th>\n",
       "      <th>sensor_data.Events</th>\n",
       "      <th>sensor_data.Height 1</th>\n",
       "      <th>sensor_data.Height 2</th>\n",
       "      <th>sensor_data.Height 3</th>\n",
       "      <th>sensor_data.Height 4</th>\n",
       "      <th>sensor_data.Voltage</th>\n",
       "      <th>sensor_data.Temperature</th>\n",
       "      <th>sensor_data.Tilt</th>\n",
       "      <th>...</th>\n",
       "      <th>gws_data.fcnt</th>\n",
       "      <th>gws_data.port</th>\n",
       "      <th>gws_data.freq</th>\n",
       "      <th>gws_data.toa</th>\n",
       "      <th>gws_data.dr</th>\n",
       "      <th>gws_data.ack</th>\n",
       "      <th>gws_data.gws</th>\n",
       "      <th>gws_data.bat</th>\n",
       "      <th>gws_data.data</th>\n",
       "      <th>sensor_data.Height 1 (cm)</th>\n",
       "    </tr>\n",
       "  </thead>\n",
       "  <tbody>\n",
       "    <tr>\n",
       "      <th>0</th>\n",
       "      <td>[SS, Standalone, version_184]</td>\n",
       "      <td>700016da</td>\n",
       "      <td>SENS_EVENT_MEASURE</td>\n",
       "      <td>112 cm</td>\n",
       "      <td>112 cm</td>\n",
       "      <td>112 cm</td>\n",
       "      <td>112 cm</td>\n",
       "      <td>3620 mV</td>\n",
       "      <td>14 C</td>\n",
       "      <td>1 Degree</td>\n",
       "      <td>...</td>\n",
       "      <td>4097</td>\n",
       "      <td>2</td>\n",
       "      <td>867500000</td>\n",
       "      <td>123</td>\n",
       "      <td>SF8 BW125 4/5</td>\n",
       "      <td>False</td>\n",
       "      <td>[{'rssi': -105, 'snr': 4.5, 'ts': 162049836037...</td>\n",
       "      <td>254</td>\n",
       "      <td>ffff22b8da1600700138383838700e01c1</td>\n",
       "      <td>112</td>\n",
       "    </tr>\n",
       "    <tr>\n",
       "      <th>1</th>\n",
       "      <td>[SS, Standalone, version_184]</td>\n",
       "      <td>700016da</td>\n",
       "      <td>SENS_EVENT_MEASURE</td>\n",
       "      <td>112 cm</td>\n",
       "      <td>112 cm</td>\n",
       "      <td>112 cm</td>\n",
       "      <td>112 cm</td>\n",
       "      <td>3620 mV</td>\n",
       "      <td>17 C</td>\n",
       "      <td>1 Degree</td>\n",
       "      <td>...</td>\n",
       "      <td>4096</td>\n",
       "      <td>2</td>\n",
       "      <td>868100000</td>\n",
       "      <td>71</td>\n",
       "      <td>SF7 BW125 4/5</td>\n",
       "      <td>False</td>\n",
       "      <td>[{'rssi': -110, 'snr': 1, 'ts': 1620494765501,...</td>\n",
       "      <td>254</td>\n",
       "      <td>ffff22b8da1600700138383838701101c0</td>\n",
       "      <td>112</td>\n",
       "    </tr>\n",
       "    <tr>\n",
       "      <th>2</th>\n",
       "      <td>[SS, Standalone, version_184]</td>\n",
       "      <td>700016da</td>\n",
       "      <td>SENS_EVENT_MEASURE</td>\n",
       "      <td>108 cm</td>\n",
       "      <td>108 cm</td>\n",
       "      <td>108 cm</td>\n",
       "      <td>108 cm</td>\n",
       "      <td>3630 mV</td>\n",
       "      <td>15 C</td>\n",
       "      <td>0 Degree</td>\n",
       "      <td>...</td>\n",
       "      <td>4095</td>\n",
       "      <td>2</td>\n",
       "      <td>867700000</td>\n",
       "      <td>71</td>\n",
       "      <td>SF7 BW125 4/5</td>\n",
       "      <td>False</td>\n",
       "      <td>[{'rssi': -107, 'snr': 7.5, 'ts': 162049115888...</td>\n",
       "      <td>254</td>\n",
       "      <td>ffff22b8da1600700136363636710f00bf</td>\n",
       "      <td>108</td>\n",
       "    </tr>\n",
       "    <tr>\n",
       "      <th>3</th>\n",
       "      <td>[SS, Standalone, version_184]</td>\n",
       "      <td>700016da</td>\n",
       "      <td>SENS_EVENT_MEASURE</td>\n",
       "      <td>126 cm</td>\n",
       "      <td>126 cm</td>\n",
       "      <td>126 cm</td>\n",
       "      <td>126 cm</td>\n",
       "      <td>3630 mV</td>\n",
       "      <td>19 C</td>\n",
       "      <td>1 Degree</td>\n",
       "      <td>...</td>\n",
       "      <td>4094</td>\n",
       "      <td>2</td>\n",
       "      <td>867500000</td>\n",
       "      <td>71</td>\n",
       "      <td>SF7 BW125 4/5</td>\n",
       "      <td>False</td>\n",
       "      <td>[{'rssi': -102, 'snr': 5, 'ts': 1620487559091,...</td>\n",
       "      <td>254</td>\n",
       "      <td>ffff22b8da160070013f3f3f3f711301be</td>\n",
       "      <td>126</td>\n",
       "    </tr>\n",
       "    <tr>\n",
       "      <th>4</th>\n",
       "      <td>[SS, Standalone, version_184]</td>\n",
       "      <td>700016da</td>\n",
       "      <td>SENS_EVENT_MEASURE</td>\n",
       "      <td>118 cm</td>\n",
       "      <td>118 cm</td>\n",
       "      <td>118 cm</td>\n",
       "      <td>118 cm</td>\n",
       "      <td>3630 mV</td>\n",
       "      <td>20 C</td>\n",
       "      <td>0 Degree</td>\n",
       "      <td>...</td>\n",
       "      <td>4093</td>\n",
       "      <td>2</td>\n",
       "      <td>867900000</td>\n",
       "      <td>71</td>\n",
       "      <td>SF7 BW125 4/5</td>\n",
       "      <td>False</td>\n",
       "      <td>[{'rssi': -113, 'snr': 5.2, 'ts': 162048395916...</td>\n",
       "      <td>254</td>\n",
       "      <td>ffff22b8da160070013b3b3b3b711400bd</td>\n",
       "      <td>118</td>\n",
       "    </tr>\n",
       "    <tr>\n",
       "      <th>...</th>\n",
       "      <td>...</td>\n",
       "      <td>...</td>\n",
       "      <td>...</td>\n",
       "      <td>...</td>\n",
       "      <td>...</td>\n",
       "      <td>...</td>\n",
       "      <td>...</td>\n",
       "      <td>...</td>\n",
       "      <td>...</td>\n",
       "      <td>...</td>\n",
       "      <td>...</td>\n",
       "      <td>...</td>\n",
       "      <td>...</td>\n",
       "      <td>...</td>\n",
       "      <td>...</td>\n",
       "      <td>...</td>\n",
       "      <td>...</td>\n",
       "      <td>...</td>\n",
       "      <td>...</td>\n",
       "      <td>...</td>\n",
       "      <td>...</td>\n",
       "    </tr>\n",
       "    <tr>\n",
       "      <th>7301</th>\n",
       "      <td>[SS, Standalone, version_184]</td>\n",
       "      <td>700016da</td>\n",
       "      <td>SENS_EVENT_MEASURE</td>\n",
       "      <td>8 cm</td>\n",
       "      <td>8 cm</td>\n",
       "      <td>8 cm</td>\n",
       "      <td>8 cm</td>\n",
       "      <td>3570 mV</td>\n",
       "      <td>12 C</td>\n",
       "      <td>2 Degree</td>\n",
       "      <td>...</td>\n",
       "      <td>2277</td>\n",
       "      <td>2</td>\n",
       "      <td>868300000</td>\n",
       "      <td>71</td>\n",
       "      <td>SF7 BW125 4/5</td>\n",
       "      <td>False</td>\n",
       "      <td>[{'rssi': -98, 'snr': 6.2, 'ts': 1588992719129...</td>\n",
       "      <td>254</td>\n",
       "      <td>ffff22b8da16007001040404046b0c0292</td>\n",
       "      <td>8</td>\n",
       "    </tr>\n",
       "    <tr>\n",
       "      <th>7302</th>\n",
       "      <td>[SS, Standalone, version_184]</td>\n",
       "      <td>700016da</td>\n",
       "      <td>SENS_EVENT_MEASURE</td>\n",
       "      <td>8 cm</td>\n",
       "      <td>8 cm</td>\n",
       "      <td>8 cm</td>\n",
       "      <td>8 cm</td>\n",
       "      <td>3570 mV</td>\n",
       "      <td>13 C</td>\n",
       "      <td>1 Degree</td>\n",
       "      <td>...</td>\n",
       "      <td>2276</td>\n",
       "      <td>2</td>\n",
       "      <td>867300000</td>\n",
       "      <td>71</td>\n",
       "      <td>SF7 BW125 4/5</td>\n",
       "      <td>False</td>\n",
       "      <td>[{'rssi': -101, 'snr': 9.2, 'ts': 158898911931...</td>\n",
       "      <td>254</td>\n",
       "      <td>ffff22b8da16007001040404046b0d0191</td>\n",
       "      <td>8</td>\n",
       "    </tr>\n",
       "    <tr>\n",
       "      <th>7303</th>\n",
       "      <td>[SS, Standalone, version_184]</td>\n",
       "      <td>700016da</td>\n",
       "      <td>SENS_EVENT_MEASURE</td>\n",
       "      <td>8 cm</td>\n",
       "      <td>8 cm</td>\n",
       "      <td>8 cm</td>\n",
       "      <td>8 cm</td>\n",
       "      <td>3570 mV</td>\n",
       "      <td>11 C</td>\n",
       "      <td>1 Degree</td>\n",
       "      <td>...</td>\n",
       "      <td>2275</td>\n",
       "      <td>2</td>\n",
       "      <td>867100000</td>\n",
       "      <td>71</td>\n",
       "      <td>SF7 BW125 4/5</td>\n",
       "      <td>False</td>\n",
       "      <td>[{'rssi': -99, 'snr': 7.8, 'ts': 1588985519487...</td>\n",
       "      <td>254</td>\n",
       "      <td>ffff22b8da16007001040404046b0b0190</td>\n",
       "      <td>8</td>\n",
       "    </tr>\n",
       "    <tr>\n",
       "      <th>7304</th>\n",
       "      <td>[SS, Standalone, version_184]</td>\n",
       "      <td>700016da</td>\n",
       "      <td>SENS_EVENT_MEASURE</td>\n",
       "      <td>8 cm</td>\n",
       "      <td>8 cm</td>\n",
       "      <td>8 cm</td>\n",
       "      <td>8 cm</td>\n",
       "      <td>3570 mV</td>\n",
       "      <td>11 C</td>\n",
       "      <td>1 Degree</td>\n",
       "      <td>...</td>\n",
       "      <td>2274</td>\n",
       "      <td>2</td>\n",
       "      <td>867700000</td>\n",
       "      <td>71</td>\n",
       "      <td>SF7 BW125 4/5</td>\n",
       "      <td>False</td>\n",
       "      <td>[{'rssi': -99, 'snr': 8.5, 'ts': 1588981919681...</td>\n",
       "      <td>254</td>\n",
       "      <td>ffff22b8da16007001040404046b0b018f</td>\n",
       "      <td>8</td>\n",
       "    </tr>\n",
       "    <tr>\n",
       "      <th>7305</th>\n",
       "      <td>[SS, Standalone, version_184]</td>\n",
       "      <td>700016da</td>\n",
       "      <td>SENS_EVENT_MEASURE</td>\n",
       "      <td>8 cm</td>\n",
       "      <td>8 cm</td>\n",
       "      <td>8 cm</td>\n",
       "      <td>8 cm</td>\n",
       "      <td>3570 mV</td>\n",
       "      <td>13 C</td>\n",
       "      <td>1 Degree</td>\n",
       "      <td>...</td>\n",
       "      <td>2273</td>\n",
       "      <td>2</td>\n",
       "      <td>867300000</td>\n",
       "      <td>71</td>\n",
       "      <td>SF7 BW125 4/5</td>\n",
       "      <td>False</td>\n",
       "      <td>[{'rssi': -103, 'snr': 8, 'ts': 1588978319873,...</td>\n",
       "      <td>254</td>\n",
       "      <td>ffff22b8da16007001040404046b0d018e</td>\n",
       "      <td>8</td>\n",
       "    </tr>\n",
       "  </tbody>\n",
       "</table>\n",
       "<p>7306 rows × 26 columns</p>\n",
       "</div>"
      ],
      "text/plain": [
       "                 sensor_data.Status sensor_data.Sensor ID  sensor_data.Events  \\\n",
       "0     [SS, Standalone, version_184]              700016da  SENS_EVENT_MEASURE   \n",
       "1     [SS, Standalone, version_184]              700016da  SENS_EVENT_MEASURE   \n",
       "2     [SS, Standalone, version_184]              700016da  SENS_EVENT_MEASURE   \n",
       "3     [SS, Standalone, version_184]              700016da  SENS_EVENT_MEASURE   \n",
       "4     [SS, Standalone, version_184]              700016da  SENS_EVENT_MEASURE   \n",
       "...                             ...                   ...                 ...   \n",
       "7301  [SS, Standalone, version_184]              700016da  SENS_EVENT_MEASURE   \n",
       "7302  [SS, Standalone, version_184]              700016da  SENS_EVENT_MEASURE   \n",
       "7303  [SS, Standalone, version_184]              700016da  SENS_EVENT_MEASURE   \n",
       "7304  [SS, Standalone, version_184]              700016da  SENS_EVENT_MEASURE   \n",
       "7305  [SS, Standalone, version_184]              700016da  SENS_EVENT_MEASURE   \n",
       "\n",
       "     sensor_data.Height 1 sensor_data.Height 2 sensor_data.Height 3  \\\n",
       "0                  112 cm               112 cm               112 cm   \n",
       "1                  112 cm               112 cm               112 cm   \n",
       "2                  108 cm               108 cm               108 cm   \n",
       "3                  126 cm               126 cm               126 cm   \n",
       "4                  118 cm               118 cm               118 cm   \n",
       "...                   ...                  ...                  ...   \n",
       "7301                 8 cm                 8 cm                 8 cm   \n",
       "7302                 8 cm                 8 cm                 8 cm   \n",
       "7303                 8 cm                 8 cm                 8 cm   \n",
       "7304                 8 cm                 8 cm                 8 cm   \n",
       "7305                 8 cm                 8 cm                 8 cm   \n",
       "\n",
       "     sensor_data.Height 4 sensor_data.Voltage sensor_data.Temperature  \\\n",
       "0                  112 cm             3620 mV                    14 C   \n",
       "1                  112 cm             3620 mV                    17 C   \n",
       "2                  108 cm             3630 mV                    15 C   \n",
       "3                  126 cm             3630 mV                    19 C   \n",
       "4                  118 cm             3630 mV                    20 C   \n",
       "...                   ...                 ...                     ...   \n",
       "7301                 8 cm             3570 mV                    12 C   \n",
       "7302                 8 cm             3570 mV                    13 C   \n",
       "7303                 8 cm             3570 mV                    11 C   \n",
       "7304                 8 cm             3570 mV                    11 C   \n",
       "7305                 8 cm             3570 mV                    13 C   \n",
       "\n",
       "     sensor_data.Tilt  ... gws_data.fcnt gws_data.port gws_data.freq  \\\n",
       "0            1 Degree  ...          4097             2     867500000   \n",
       "1            1 Degree  ...          4096             2     868100000   \n",
       "2            0 Degree  ...          4095             2     867700000   \n",
       "3            1 Degree  ...          4094             2     867500000   \n",
       "4            0 Degree  ...          4093             2     867900000   \n",
       "...               ...  ...           ...           ...           ...   \n",
       "7301         2 Degree  ...          2277             2     868300000   \n",
       "7302         1 Degree  ...          2276             2     867300000   \n",
       "7303         1 Degree  ...          2275             2     867100000   \n",
       "7304         1 Degree  ...          2274             2     867700000   \n",
       "7305         1 Degree  ...          2273             2     867300000   \n",
       "\n",
       "      gws_data.toa    gws_data.dr  gws_data.ack  \\\n",
       "0              123  SF8 BW125 4/5         False   \n",
       "1               71  SF7 BW125 4/5         False   \n",
       "2               71  SF7 BW125 4/5         False   \n",
       "3               71  SF7 BW125 4/5         False   \n",
       "4               71  SF7 BW125 4/5         False   \n",
       "...            ...            ...           ...   \n",
       "7301            71  SF7 BW125 4/5         False   \n",
       "7302            71  SF7 BW125 4/5         False   \n",
       "7303            71  SF7 BW125 4/5         False   \n",
       "7304            71  SF7 BW125 4/5         False   \n",
       "7305            71  SF7 BW125 4/5         False   \n",
       "\n",
       "                                           gws_data.gws  gws_data.bat  \\\n",
       "0     [{'rssi': -105, 'snr': 4.5, 'ts': 162049836037...           254   \n",
       "1     [{'rssi': -110, 'snr': 1, 'ts': 1620494765501,...           254   \n",
       "2     [{'rssi': -107, 'snr': 7.5, 'ts': 162049115888...           254   \n",
       "3     [{'rssi': -102, 'snr': 5, 'ts': 1620487559091,...           254   \n",
       "4     [{'rssi': -113, 'snr': 5.2, 'ts': 162048395916...           254   \n",
       "...                                                 ...           ...   \n",
       "7301  [{'rssi': -98, 'snr': 6.2, 'ts': 1588992719129...           254   \n",
       "7302  [{'rssi': -101, 'snr': 9.2, 'ts': 158898911931...           254   \n",
       "7303  [{'rssi': -99, 'snr': 7.8, 'ts': 1588985519487...           254   \n",
       "7304  [{'rssi': -99, 'snr': 8.5, 'ts': 1588981919681...           254   \n",
       "7305  [{'rssi': -103, 'snr': 8, 'ts': 1588978319873,...           254   \n",
       "\n",
       "                           gws_data.data  sensor_data.Height 1 (cm)  \n",
       "0     ffff22b8da1600700138383838700e01c1                        112  \n",
       "1     ffff22b8da1600700138383838701101c0                        112  \n",
       "2     ffff22b8da1600700136363636710f00bf                        108  \n",
       "3     ffff22b8da160070013f3f3f3f711301be                        126  \n",
       "4     ffff22b8da160070013b3b3b3b711400bd                        118  \n",
       "...                                  ...                        ...  \n",
       "7301  ffff22b8da16007001040404046b0c0292                          8  \n",
       "7302  ffff22b8da16007001040404046b0d0191                          8  \n",
       "7303  ffff22b8da16007001040404046b0b0190                          8  \n",
       "7304  ffff22b8da16007001040404046b0b018f                          8  \n",
       "7305  ffff22b8da16007001040404046b0d018e                          8  \n",
       "\n",
       "[7306 rows x 26 columns]"
      ]
     },
     "execution_count": 7,
     "metadata": {},
     "output_type": "execute_result"
    }
   ],
   "source": [
    "df_decoded_data,df_garbage = txt_to_pd(path_in)\n",
    "df_decoded_data"
   ]
  },
  {
   "cell_type": "code",
   "execution_count": 8,
   "id": "e3a1cdc5-f5ea-4425-afc7-c1252e66bf5e",
   "metadata": {},
   "outputs": [
    {
     "data": {
      "text/html": [
       "<div>\n",
       "<style scoped>\n",
       "    .dataframe tbody tr th:only-of-type {\n",
       "        vertical-align: middle;\n",
       "    }\n",
       "\n",
       "    .dataframe tbody tr th {\n",
       "        vertical-align: top;\n",
       "    }\n",
       "\n",
       "    .dataframe thead th {\n",
       "        text-align: right;\n",
       "    }\n",
       "</style>\n",
       "<table border=\"1\" class=\"dataframe\">\n",
       "  <thead>\n",
       "    <tr style=\"text-align: right;\">\n",
       "      <th></th>\n",
       "      <th>id</th>\n",
       "      <th>deveui</th>\n",
       "      <th>unix_time</th>\n",
       "      <th>client_id</th>\n",
       "      <th>created_at</th>\n",
       "      <th>decoded_data</th>\n",
       "    </tr>\n",
       "  </thead>\n",
       "  <tbody>\n",
       "    <tr>\n",
       "      <th>0</th>\n",
       "      <td>4110576</td>\n",
       "      <td>70B3D500700016DA</td>\n",
       "      <td>1620498360377</td>\n",
       "      <td>FES Receiver</td>\n",
       "      <td>2021-05-08 20:26:00.596017</td>\n",
       "      <td>{'sensor_data': {'Status': ['SS', 'Standalone'...</td>\n",
       "    </tr>\n",
       "    <tr>\n",
       "      <th>1</th>\n",
       "      <td>4110093</td>\n",
       "      <td>70B3D500700016DA</td>\n",
       "      <td>1620494765501</td>\n",
       "      <td>FES Receiver</td>\n",
       "      <td>2021-05-08 19:26:05.713448</td>\n",
       "      <td>{'sensor_data': {'Status': ['SS', 'Standalone'...</td>\n",
       "    </tr>\n",
       "    <tr>\n",
       "      <th>2</th>\n",
       "      <td>4109607</td>\n",
       "      <td>70B3D500700016DA</td>\n",
       "      <td>1620491158880</td>\n",
       "      <td>FES Receiver</td>\n",
       "      <td>2021-05-08 18:25:59.323267</td>\n",
       "      <td>{'sensor_data': {'Status': ['SS', 'Standalone'...</td>\n",
       "    </tr>\n",
       "    <tr>\n",
       "      <th>3</th>\n",
       "      <td>4109118</td>\n",
       "      <td>70B3D500700016DA</td>\n",
       "      <td>1620487559091</td>\n",
       "      <td>FES Receiver</td>\n",
       "      <td>2021-05-08 17:25:59.523137</td>\n",
       "      <td>{'sensor_data': {'Status': ['SS', 'Standalone'...</td>\n",
       "    </tr>\n",
       "    <tr>\n",
       "      <th>4</th>\n",
       "      <td>4108627</td>\n",
       "      <td>70B3D500700016DA</td>\n",
       "      <td>1620483959154</td>\n",
       "      <td>FES Receiver</td>\n",
       "      <td>2021-05-08 16:25:59.577446</td>\n",
       "      <td>{'sensor_data': {'Status': ['SS', 'Standalone'...</td>\n",
       "    </tr>\n",
       "    <tr>\n",
       "      <th>...</th>\n",
       "      <td>...</td>\n",
       "      <td>...</td>\n",
       "      <td>...</td>\n",
       "      <td>...</td>\n",
       "      <td>...</td>\n",
       "      <td>...</td>\n",
       "    </tr>\n",
       "    <tr>\n",
       "      <th>7301</th>\n",
       "      <td>598784</td>\n",
       "      <td>70B3D500700016DA</td>\n",
       "      <td>1588992719129</td>\n",
       "      <td>hi3</td>\n",
       "      <td>2020-05-09 04:51:59.293896</td>\n",
       "      <td>{'sensor_data': {'Status': ['SS', 'Standalone'...</td>\n",
       "    </tr>\n",
       "    <tr>\n",
       "      <th>7302</th>\n",
       "      <td>598530</td>\n",
       "      <td>70B3D500700016DA</td>\n",
       "      <td>1588989119318</td>\n",
       "      <td>hi3</td>\n",
       "      <td>2020-05-09 03:51:59.488678</td>\n",
       "      <td>{'sensor_data': {'Status': ['SS', 'Standalone'...</td>\n",
       "    </tr>\n",
       "    <tr>\n",
       "      <th>7303</th>\n",
       "      <td>598280</td>\n",
       "      <td>70B3D500700016DA</td>\n",
       "      <td>1588985519487</td>\n",
       "      <td>hi3</td>\n",
       "      <td>2020-05-09 02:51:59.658736</td>\n",
       "      <td>{'sensor_data': {'Status': ['SS', 'Standalone'...</td>\n",
       "    </tr>\n",
       "    <tr>\n",
       "      <th>7304</th>\n",
       "      <td>598036</td>\n",
       "      <td>70B3D500700016DA</td>\n",
       "      <td>1588981919681</td>\n",
       "      <td>hi3</td>\n",
       "      <td>2020-05-09 01:51:59.856614</td>\n",
       "      <td>{'sensor_data': {'Status': ['SS', 'Standalone'...</td>\n",
       "    </tr>\n",
       "    <tr>\n",
       "      <th>7305</th>\n",
       "      <td>597793</td>\n",
       "      <td>70B3D500700016DA</td>\n",
       "      <td>1588978319873</td>\n",
       "      <td>hi3</td>\n",
       "      <td>2020-05-09 00:52:00.051726</td>\n",
       "      <td>{'sensor_data': {'Status': ['SS', 'Standalone'...</td>\n",
       "    </tr>\n",
       "  </tbody>\n",
       "</table>\n",
       "<p>7306 rows × 6 columns</p>\n",
       "</div>"
      ],
      "text/plain": [
       "           id            deveui      unix_time     client_id  \\\n",
       "0     4110576  70B3D500700016DA  1620498360377  FES Receiver   \n",
       "1     4110093  70B3D500700016DA  1620494765501  FES Receiver   \n",
       "2     4109607  70B3D500700016DA  1620491158880  FES Receiver   \n",
       "3     4109118  70B3D500700016DA  1620487559091  FES Receiver   \n",
       "4     4108627  70B3D500700016DA  1620483959154  FES Receiver   \n",
       "...       ...               ...            ...           ...   \n",
       "7301   598784  70B3D500700016DA  1588992719129           hi3   \n",
       "7302   598530  70B3D500700016DA  1588989119318           hi3   \n",
       "7303   598280  70B3D500700016DA  1588985519487           hi3   \n",
       "7304   598036  70B3D500700016DA  1588981919681           hi3   \n",
       "7305   597793  70B3D500700016DA  1588978319873           hi3   \n",
       "\n",
       "                      created_at  \\\n",
       "0     2021-05-08 20:26:00.596017   \n",
       "1     2021-05-08 19:26:05.713448   \n",
       "2     2021-05-08 18:25:59.323267   \n",
       "3     2021-05-08 17:25:59.523137   \n",
       "4     2021-05-08 16:25:59.577446   \n",
       "...                          ...   \n",
       "7301  2020-05-09 04:51:59.293896   \n",
       "7302  2020-05-09 03:51:59.488678   \n",
       "7303  2020-05-09 02:51:59.658736   \n",
       "7304  2020-05-09 01:51:59.856614   \n",
       "7305  2020-05-09 00:52:00.051726   \n",
       "\n",
       "                                           decoded_data  \n",
       "0     {'sensor_data': {'Status': ['SS', 'Standalone'...  \n",
       "1     {'sensor_data': {'Status': ['SS', 'Standalone'...  \n",
       "2     {'sensor_data': {'Status': ['SS', 'Standalone'...  \n",
       "3     {'sensor_data': {'Status': ['SS', 'Standalone'...  \n",
       "4     {'sensor_data': {'Status': ['SS', 'Standalone'...  \n",
       "...                                                 ...  \n",
       "7301  {'sensor_data': {'Status': ['SS', 'Standalone'...  \n",
       "7302  {'sensor_data': {'Status': ['SS', 'Standalone'...  \n",
       "7303  {'sensor_data': {'Status': ['SS', 'Standalone'...  \n",
       "7304  {'sensor_data': {'Status': ['SS', 'Standalone'...  \n",
       "7305  {'sensor_data': {'Status': ['SS', 'Standalone'...  \n",
       "\n",
       "[7306 rows x 6 columns]"
      ]
     },
     "execution_count": 8,
     "metadata": {},
     "output_type": "execute_result"
    }
   ],
   "source": [
    "df_garbage"
   ]
  },
  {
   "cell_type": "markdown",
   "id": "1fe27615-2a37-4316-93a9-69c43d4b30ce",
   "metadata": {},
   "source": [
    "### Time and Sensor Height in Focus (Batch of 100)"
   ]
  },
  {
   "cell_type": "code",
   "execution_count": 17,
   "id": "3f42d59e-e5b8-4c34-8093-07271b4a5662",
   "metadata": {},
   "outputs": [],
   "source": [
    "x = np.empty((4,7306))\n",
    "created_at=df_garbage.created_at\n",
    "# Processed once \n",
    "df_decoded_data[\"sensor_data.Temperature\"] = df_decoded_data[\"sensor_data.Temperature\"].str.replace(\"C\",\"\").astype(int)\n",
    "df_decoded_data[\"sensor_data.Voltage\"] = df_decoded_data[\"sensor_data.Voltage\"].str.replace(\"mV\",\"\").astype(int)\n",
    "new_df = pd.DataFrame(created_at.str.split(' ').tolist())\n",
    "new_df.columns = ['Date', 'Time']\n",
    "new_df['Time'] = new_df['Time'].map(lambda x: str(x)[:8])\n"
   ]
  },
  {
   "cell_type": "code",
   "execution_count": 18,
   "id": "f8387033-ce8d-4647-8e56-6f7fdd7c01ba",
   "metadata": {},
   "outputs": [
    {
     "data": {
      "text/html": [
       "<div>\n",
       "<style scoped>\n",
       "    .dataframe tbody tr th:only-of-type {\n",
       "        vertical-align: middle;\n",
       "    }\n",
       "\n",
       "    .dataframe tbody tr th {\n",
       "        vertical-align: top;\n",
       "    }\n",
       "\n",
       "    .dataframe thead th {\n",
       "        text-align: right;\n",
       "    }\n",
       "</style>\n",
       "<table border=\"1\" class=\"dataframe\">\n",
       "  <thead>\n",
       "    <tr style=\"text-align: right;\">\n",
       "      <th></th>\n",
       "      <th>Date</th>\n",
       "      <th>Temperature in C°</th>\n",
       "      <th>Voltage im mV</th>\n",
       "      <th>Height in cm</th>\n",
       "    </tr>\n",
       "  </thead>\n",
       "  <tbody>\n",
       "    <tr>\n",
       "      <th>0</th>\n",
       "      <td>2021-05-08</td>\n",
       "      <td>14</td>\n",
       "      <td>3620</td>\n",
       "      <td>112</td>\n",
       "    </tr>\n",
       "    <tr>\n",
       "      <th>1</th>\n",
       "      <td>2021-05-08</td>\n",
       "      <td>17</td>\n",
       "      <td>3620</td>\n",
       "      <td>112</td>\n",
       "    </tr>\n",
       "    <tr>\n",
       "      <th>2</th>\n",
       "      <td>2021-05-08</td>\n",
       "      <td>15</td>\n",
       "      <td>3630</td>\n",
       "      <td>108</td>\n",
       "    </tr>\n",
       "    <tr>\n",
       "      <th>3</th>\n",
       "      <td>2021-05-08</td>\n",
       "      <td>19</td>\n",
       "      <td>3630</td>\n",
       "      <td>126</td>\n",
       "    </tr>\n",
       "    <tr>\n",
       "      <th>4</th>\n",
       "      <td>2021-05-08</td>\n",
       "      <td>20</td>\n",
       "      <td>3630</td>\n",
       "      <td>118</td>\n",
       "    </tr>\n",
       "    <tr>\n",
       "      <th>...</th>\n",
       "      <td>...</td>\n",
       "      <td>...</td>\n",
       "      <td>...</td>\n",
       "      <td>...</td>\n",
       "    </tr>\n",
       "    <tr>\n",
       "      <th>7301</th>\n",
       "      <td>2020-05-09</td>\n",
       "      <td>12</td>\n",
       "      <td>3570</td>\n",
       "      <td>8</td>\n",
       "    </tr>\n",
       "    <tr>\n",
       "      <th>7302</th>\n",
       "      <td>2020-05-09</td>\n",
       "      <td>13</td>\n",
       "      <td>3570</td>\n",
       "      <td>8</td>\n",
       "    </tr>\n",
       "    <tr>\n",
       "      <th>7303</th>\n",
       "      <td>2020-05-09</td>\n",
       "      <td>11</td>\n",
       "      <td>3570</td>\n",
       "      <td>8</td>\n",
       "    </tr>\n",
       "    <tr>\n",
       "      <th>7304</th>\n",
       "      <td>2020-05-09</td>\n",
       "      <td>11</td>\n",
       "      <td>3570</td>\n",
       "      <td>8</td>\n",
       "    </tr>\n",
       "    <tr>\n",
       "      <th>7305</th>\n",
       "      <td>2020-05-09</td>\n",
       "      <td>13</td>\n",
       "      <td>3570</td>\n",
       "      <td>8</td>\n",
       "    </tr>\n",
       "  </tbody>\n",
       "</table>\n",
       "<p>7306 rows × 4 columns</p>\n",
       "</div>"
      ],
      "text/plain": [
       "            Date  Temperature in C°   Voltage im mV   Height in cm\n",
       "0     2021-05-08                  14            3620           112\n",
       "1     2021-05-08                  17            3620           112\n",
       "2     2021-05-08                  15            3630           108\n",
       "3     2021-05-08                  19            3630           126\n",
       "4     2021-05-08                  20            3630           118\n",
       "...          ...                 ...             ...           ...\n",
       "7301  2020-05-09                  12            3570             8\n",
       "7302  2020-05-09                  13            3570             8\n",
       "7303  2020-05-09                  11            3570             8\n",
       "7304  2020-05-09                  11            3570             8\n",
       "7305  2020-05-09                  13            3570             8\n",
       "\n",
       "[7306 rows x 4 columns]"
      ]
     },
     "execution_count": 18,
     "metadata": {},
     "output_type": "execute_result"
    }
   ],
   "source": [
    "sensor_temp = df_decoded_data[\"sensor_data.Temperature\"]\n",
    "sensor_height = df_decoded_data[\"sensor_data.Height 1 (cm)\"]\n",
    "sensor_voltage = df_decoded_data[\"sensor_data.Voltage\"]\n",
    "Time = new_df[\"Time\"]\n",
    "Date = new_df[\"Date\"]\n",
    "all_features_df = pd.DataFrame({\n",
    "                                \"Date\" : Date,\n",
    "                                \"Temperature in C° \" : sensor_temp,\n",
    "                               \"Voltage im mV \" : sensor_voltage,\n",
    "                               \"Height in cm\" : sensor_height})\n",
    "all_features_df\n"
   ]
  },
  {
   "cell_type": "markdown",
   "id": "94c9043e-c02a-424c-8d17-4fa5cc9ea142",
   "metadata": {},
   "source": [
    "## Correlation Matrix for all relevant features : Height / Temperature / Voltage "
   ]
  },
  {
   "cell_type": "code",
   "execution_count": 19,
   "id": "f6d935a4-b046-4be9-b690-eea18e5dc04c",
   "metadata": {},
   "outputs": [
    {
     "data": {
      "text/html": [
       "<div>\n",
       "<style scoped>\n",
       "    .dataframe tbody tr th:only-of-type {\n",
       "        vertical-align: middle;\n",
       "    }\n",
       "\n",
       "    .dataframe tbody tr th {\n",
       "        vertical-align: top;\n",
       "    }\n",
       "\n",
       "    .dataframe thead th {\n",
       "        text-align: right;\n",
       "    }\n",
       "</style>\n",
       "<table border=\"1\" class=\"dataframe\">\n",
       "  <thead>\n",
       "    <tr style=\"text-align: right;\">\n",
       "      <th></th>\n",
       "      <th>Temperature in C°</th>\n",
       "      <th>Voltage im mV</th>\n",
       "      <th>Height in cm</th>\n",
       "    </tr>\n",
       "  </thead>\n",
       "  <tbody>\n",
       "    <tr>\n",
       "      <th>Temperature in C°</th>\n",
       "      <td>1.000000</td>\n",
       "      <td>-0.440321</td>\n",
       "      <td>-0.060656</td>\n",
       "    </tr>\n",
       "    <tr>\n",
       "      <th>Voltage im mV</th>\n",
       "      <td>-0.440321</td>\n",
       "      <td>1.000000</td>\n",
       "      <td>0.103783</td>\n",
       "    </tr>\n",
       "    <tr>\n",
       "      <th>Height in cm</th>\n",
       "      <td>-0.060656</td>\n",
       "      <td>0.103783</td>\n",
       "      <td>1.000000</td>\n",
       "    </tr>\n",
       "  </tbody>\n",
       "</table>\n",
       "</div>"
      ],
      "text/plain": [
       "                    Temperature in C°   Voltage im mV   Height in cm\n",
       "Temperature in C°             1.000000       -0.440321     -0.060656\n",
       "Voltage im mV                -0.440321        1.000000      0.103783\n",
       "Height in cm                 -0.060656        0.103783      1.000000"
      ]
     },
     "execution_count": 19,
     "metadata": {},
     "output_type": "execute_result"
    }
   ],
   "source": [
    "corrM = all_features_df.corr()\n",
    "corrM"
   ]
  },
  {
   "cell_type": "markdown",
   "id": "c3120afd-cd61-40e6-a35d-0ea7e162558e",
   "metadata": {},
   "source": [
    "## Correlations for the whole dataset"
   ]
  },
  {
   "cell_type": "code",
   "execution_count": 27,
   "id": "7110ef5d-1808-4c7d-86ea-62a22c1482fb",
   "metadata": {},
   "outputs": [
    {
     "name": "stdout",
     "output_type": "stream",
     "text": [
      "#### reading C:/Users/bench/PycharmProjects/BDA/data/data/70b3d500700016dA.txt in initial_df ###############\n"
     ]
    },
    {
     "name": "stderr",
     "output_type": "stream",
     "text": [
      "<ipython-input-6-15bd363a455a>:12: FutureWarning: pandas.io.json.json_normalize is deprecated, use pandas.json_normalize instead\n",
      "  df_decoded_data = json_normalize(df_garbage.decoded_data)\n"
     ]
    },
    {
     "name": "stdout",
     "output_type": "stream",
     "text": [
      "##################################Decoded################################\n",
      "                    Temperature in C°   Voltage im mV   Height in cm\n",
      "Temperature in C°             1.000000       -0.440321     -0.060656\n",
      "Voltage im mV                -0.440321        1.000000      0.103783\n",
      "Height in cm                 -0.060656        0.103783      1.000000\n"
     ]
    }
   ],
   "source": [
    "def corr_all(path_in):\n",
    "    df_decoded_data,df_garbage = txt_to_pd(path_in)\n",
    "    x = np.empty((4,7306))\n",
    "    created_at=df_garbage.created_at\n",
    "    # Processed once \n",
    "    df_decoded_data[\"sensor_data.Temperature\"] = df_decoded_data[\"sensor_data.Temperature\"].str.replace(\"C\",\"\").astype(int)\n",
    "    df_decoded_data[\"sensor_data.Voltage\"] = df_decoded_data[\"sensor_data.Voltage\"].str.replace(\"mV\",\"\").astype(int)\n",
    "    new_df = pd.DataFrame(created_at.str.split(' ').tolist())\n",
    "    new_df.columns = ['Date', 'Time']\n",
    "    new_df['Time'] = new_df['Time'].map(lambda x: str(x)[:8])\n",
    "    sensor_temp = df_decoded_data[\"sensor_data.Temperature\"]\n",
    "    sensor_height = df_decoded_data[\"sensor_data.Height 1 (cm)\"]\n",
    "    sensor_voltage = df_decoded_data[\"sensor_data.Voltage\"]\n",
    "    Time = new_df[\"Time\"]\n",
    "    Date = new_df[\"Date\"]\n",
    "    all_features_df = pd.DataFrame({\n",
    "                                \"Date\" : Date,\n",
    "                                \"Temperature in C° \" : sensor_temp,\n",
    "                               \"Voltage im mV \" : sensor_voltage,\n",
    "                               \"Height in cm\" : sensor_height})\n",
    "    \n",
    "    corrM = all_features_df.corr()\n",
    "    print(corrM)\n",
    "    \n",
    "corr_all(\"C:/Users/bench/PycharmProjects/BDA/data/data/70b3d500700016dA.txt\")"
   ]
  },
  {
   "cell_type": "code",
   "execution_count": 28,
   "id": "6c9987b2-02e6-4696-b7fc-9b7cd2990cf5",
   "metadata": {},
   "outputs": [
    {
     "name": "stdout",
     "output_type": "stream",
     "text": [
      "#### reading C:/Users/bench/PycharmProjects/BDA/data/data/70b3d500700016dA.txt in initial_df ###############\n"
     ]
    },
    {
     "name": "stderr",
     "output_type": "stream",
     "text": [
      "<ipython-input-6-15bd363a455a>:12: FutureWarning: pandas.io.json.json_normalize is deprecated, use pandas.json_normalize instead\n",
      "  df_decoded_data = json_normalize(df_garbage.decoded_data)\n"
     ]
    },
    {
     "name": "stdout",
     "output_type": "stream",
     "text": [
      "##################################Decoded################################\n",
      "                    Temperature in C°   Voltage im mV   Height in cm\n",
      "Temperature in C°             1.000000       -0.440321     -0.060656\n",
      "Voltage im mV                -0.440321        1.000000      0.103783\n",
      "Height in cm                 -0.060656        0.103783      1.000000\n",
      "#### reading C:/Users/bench/PycharmProjects/BDA/data/data/70b3d500700016dE.txt in initial_df ###############\n"
     ]
    },
    {
     "name": "stderr",
     "output_type": "stream",
     "text": [
      "<ipython-input-6-15bd363a455a>:12: FutureWarning: pandas.io.json.json_normalize is deprecated, use pandas.json_normalize instead\n",
      "  df_decoded_data = json_normalize(df_garbage.decoded_data)\n"
     ]
    },
    {
     "name": "stdout",
     "output_type": "stream",
     "text": [
      "##################################Decoded################################\n",
      "                    Temperature in C°   Voltage im mV   Height in cm\n",
      "Temperature in C°             1.000000        0.067419      0.032618\n",
      "Voltage im mV                 0.067419        1.000000     -0.115506\n",
      "Height in cm                  0.032618       -0.115506      1.000000\n",
      "#### reading C:/Users/bench/PycharmProjects/BDA/data/data/70b3d500700016dF.txt in initial_df ###############\n"
     ]
    },
    {
     "name": "stderr",
     "output_type": "stream",
     "text": [
      "<ipython-input-6-15bd363a455a>:12: FutureWarning: pandas.io.json.json_normalize is deprecated, use pandas.json_normalize instead\n",
      "  df_decoded_data = json_normalize(df_garbage.decoded_data)\n"
     ]
    },
    {
     "name": "stdout",
     "output_type": "stream",
     "text": [
      "##################################Decoded################################\n",
      "                    Temperature in C°   Voltage im mV   Height in cm\n",
      "Temperature in C°             1.000000       -0.279529      0.057472\n",
      "Voltage im mV                -0.279529        1.000000     -0.154763\n",
      "Height in cm                  0.057472       -0.154763      1.000000\n",
      "#### reading C:/Users/bench/PycharmProjects/BDA/data/data/70b3d500700016E0.txt in initial_df ###############\n"
     ]
    },
    {
     "name": "stderr",
     "output_type": "stream",
     "text": [
      "<ipython-input-6-15bd363a455a>:12: FutureWarning: pandas.io.json.json_normalize is deprecated, use pandas.json_normalize instead\n",
      "  df_decoded_data = json_normalize(df_garbage.decoded_data)\n"
     ]
    },
    {
     "name": "stdout",
     "output_type": "stream",
     "text": [
      "##################################Decoded################################\n",
      "                    Temperature in C°   Voltage im mV   Height in cm\n",
      "Temperature in C°             1.000000         0.76835      0.066251\n",
      "Voltage im mV                 0.768350         1.00000     -0.014250\n",
      "Height in cm                  0.066251        -0.01425      1.000000\n",
      "#### reading C:/Users/bench/PycharmProjects/BDA/data/data/70b3d500700016E5.txt in initial_df ###############\n"
     ]
    },
    {
     "name": "stderr",
     "output_type": "stream",
     "text": [
      "<ipython-input-6-15bd363a455a>:12: FutureWarning: pandas.io.json.json_normalize is deprecated, use pandas.json_normalize instead\n",
      "  df_decoded_data = json_normalize(df_garbage.decoded_data)\n"
     ]
    },
    {
     "name": "stdout",
     "output_type": "stream",
     "text": [
      "##################################Decoded################################\n",
      "                    Temperature in C°   Voltage im mV   Height in cm\n",
      "Temperature in C°             1.000000       -0.291374     -0.112409\n",
      "Voltage im mV                -0.291374        1.000000      0.246251\n",
      "Height in cm                 -0.112409        0.246251      1.000000\n",
      "#### reading C:/Users/bench/PycharmProjects/BDA/data/data/70b3d500700016E6.txt in initial_df ###############\n"
     ]
    },
    {
     "name": "stderr",
     "output_type": "stream",
     "text": [
      "<ipython-input-6-15bd363a455a>:12: FutureWarning: pandas.io.json.json_normalize is deprecated, use pandas.json_normalize instead\n",
      "  df_decoded_data = json_normalize(df_garbage.decoded_data)\n"
     ]
    },
    {
     "name": "stdout",
     "output_type": "stream",
     "text": [
      "##################################Decoded################################\n",
      "                    Temperature in C°   Voltage im mV   Height in cm\n",
      "Temperature in C°             1.000000       -0.259467      0.013356\n",
      "Voltage im mV                -0.259467        1.000000     -0.075314\n",
      "Height in cm                  0.013356       -0.075314      1.000000\n",
      "#### reading C:/Users/bench/PycharmProjects/BDA/data/data/70b3d500700016E7.txt in initial_df ###############\n"
     ]
    },
    {
     "name": "stderr",
     "output_type": "stream",
     "text": [
      "<ipython-input-6-15bd363a455a>:12: FutureWarning: pandas.io.json.json_normalize is deprecated, use pandas.json_normalize instead\n",
      "  df_decoded_data = json_normalize(df_garbage.decoded_data)\n"
     ]
    },
    {
     "name": "stdout",
     "output_type": "stream",
     "text": [
      "##################################Decoded################################\n",
      "                    Temperature in C°   Voltage im mV   Height in cm\n",
      "Temperature in C°             1.000000       -0.178364      0.047947\n",
      "Voltage im mV                -0.178364        1.000000     -0.061552\n",
      "Height in cm                  0.047947       -0.061552      1.000000\n",
      "#### reading C:/Users/bench/PycharmProjects/BDA/data/data/70b3d500700016EB.txt in initial_df ###############\n"
     ]
    },
    {
     "name": "stderr",
     "output_type": "stream",
     "text": [
      "<ipython-input-6-15bd363a455a>:12: FutureWarning: pandas.io.json.json_normalize is deprecated, use pandas.json_normalize instead\n",
      "  df_decoded_data = json_normalize(df_garbage.decoded_data)\n"
     ]
    },
    {
     "name": "stdout",
     "output_type": "stream",
     "text": [
      "##################################Decoded################################\n",
      "                    Temperature in C°   Voltage im mV   Height in cm\n",
      "Temperature in C°             1.000000       -0.239599      0.139073\n",
      "Voltage im mV                -0.239599        1.000000      0.091016\n",
      "Height in cm                  0.139073        0.091016      1.000000\n",
      "#### reading C:/Users/bench/PycharmProjects/BDA/data/data/70b3d500700016EE.txt in initial_df ###############\n"
     ]
    },
    {
     "name": "stderr",
     "output_type": "stream",
     "text": [
      "<ipython-input-6-15bd363a455a>:12: FutureWarning: pandas.io.json.json_normalize is deprecated, use pandas.json_normalize instead\n",
      "  df_decoded_data = json_normalize(df_garbage.decoded_data)\n"
     ]
    },
    {
     "name": "stdout",
     "output_type": "stream",
     "text": [
      "##################################Decoded################################\n",
      "                    Temperature in C°   Voltage im mV   Height in cm\n",
      "Temperature in C°             1.000000       -0.277094     -0.033587\n",
      "Voltage im mV                -0.277094        1.000000     -0.080473\n",
      "Height in cm                 -0.033587       -0.080473      1.000000\n",
      "#### reading C:/Users/bench/PycharmProjects/BDA/data/data/70b3d500700016F1.txt in initial_df ###############\n"
     ]
    },
    {
     "name": "stderr",
     "output_type": "stream",
     "text": [
      "<ipython-input-6-15bd363a455a>:12: FutureWarning: pandas.io.json.json_normalize is deprecated, use pandas.json_normalize instead\n",
      "  df_decoded_data = json_normalize(df_garbage.decoded_data)\n"
     ]
    },
    {
     "name": "stdout",
     "output_type": "stream",
     "text": [
      "##################################Decoded################################\n",
      "                    Temperature in C°   Voltage im mV   Height in cm\n",
      "Temperature in C°             1.000000       -0.098424     -0.144830\n",
      "Voltage im mV                -0.098424        1.000000      0.240955\n",
      "Height in cm                 -0.144830        0.240955      1.000000\n",
      "#### reading C:/Users/bench/PycharmProjects/BDA/data/data/70b3d500700016F2.txt in initial_df ###############\n"
     ]
    },
    {
     "name": "stderr",
     "output_type": "stream",
     "text": [
      "<ipython-input-6-15bd363a455a>:12: FutureWarning: pandas.io.json.json_normalize is deprecated, use pandas.json_normalize instead\n",
      "  df_decoded_data = json_normalize(df_garbage.decoded_data)\n"
     ]
    },
    {
     "name": "stdout",
     "output_type": "stream",
     "text": [
      "##################################Decoded################################\n",
      "                    Temperature in C°   Voltage im mV   Height in cm\n",
      "Temperature in C°             1.000000        0.267212      0.191000\n",
      "Voltage im mV                 0.267212        1.000000     -0.011075\n",
      "Height in cm                  0.191000       -0.011075      1.000000\n",
      "#### reading C:/Users/bench/PycharmProjects/BDA/data/data/70b3d500700016F4.txt in initial_df ###############\n"
     ]
    },
    {
     "name": "stderr",
     "output_type": "stream",
     "text": [
      "<ipython-input-6-15bd363a455a>:12: FutureWarning: pandas.io.json.json_normalize is deprecated, use pandas.json_normalize instead\n",
      "  df_decoded_data = json_normalize(df_garbage.decoded_data)\n"
     ]
    },
    {
     "name": "stdout",
     "output_type": "stream",
     "text": [
      "##################################Decoded################################\n",
      "                    Temperature in C°   Voltage im mV   Height in cm\n",
      "Temperature in C°             1.000000       -0.047813      0.144007\n",
      "Voltage im mV                -0.047813        1.000000     -0.025116\n",
      "Height in cm                  0.144007       -0.025116      1.000000\n",
      "#### reading C:/Users/bench/PycharmProjects/BDA/data/data/70b3d500700016F6.txt in initial_df ###############\n"
     ]
    },
    {
     "name": "stderr",
     "output_type": "stream",
     "text": [
      "<ipython-input-6-15bd363a455a>:12: FutureWarning: pandas.io.json.json_normalize is deprecated, use pandas.json_normalize instead\n",
      "  df_decoded_data = json_normalize(df_garbage.decoded_data)\n"
     ]
    },
    {
     "name": "stdout",
     "output_type": "stream",
     "text": [
      "##################################Decoded################################\n",
      "                    Temperature in C°   Voltage im mV   Height in cm\n",
      "Temperature in C°             1.000000        0.549914     -0.002907\n",
      "Voltage im mV                 0.549914        1.000000      0.013850\n",
      "Height in cm                 -0.002907        0.013850      1.000000\n",
      "#### reading C:/Users/bench/PycharmProjects/BDA/data/data/70b3d500700016F7.txt in initial_df ###############\n"
     ]
    },
    {
     "name": "stderr",
     "output_type": "stream",
     "text": [
      "<ipython-input-6-15bd363a455a>:12: FutureWarning: pandas.io.json.json_normalize is deprecated, use pandas.json_normalize instead\n",
      "  df_decoded_data = json_normalize(df_garbage.decoded_data)\n"
     ]
    },
    {
     "name": "stdout",
     "output_type": "stream",
     "text": [
      "##################################Decoded################################\n",
      "                    Temperature in C°   Voltage im mV   Height in cm\n",
      "Temperature in C°             1.000000       -0.055014      0.129024\n",
      "Voltage im mV                -0.055014        1.000000     -0.024240\n",
      "Height in cm                  0.129024       -0.024240      1.000000\n",
      "#### reading C:/Users/bench/PycharmProjects/BDA/data/data/70b3d500700016FA.txt in initial_df ###############\n"
     ]
    },
    {
     "name": "stderr",
     "output_type": "stream",
     "text": [
      "<ipython-input-6-15bd363a455a>:12: FutureWarning: pandas.io.json.json_normalize is deprecated, use pandas.json_normalize instead\n",
      "  df_decoded_data = json_normalize(df_garbage.decoded_data)\n"
     ]
    },
    {
     "name": "stdout",
     "output_type": "stream",
     "text": [
      "##################################Decoded################################\n",
      "                    Temperature in C°   Voltage im mV   Height in cm\n",
      "Temperature in C°             1.000000        0.820177      0.039847\n",
      "Voltage im mV                 0.820177        1.000000      0.008007\n",
      "Height in cm                  0.039847        0.008007      1.000000\n",
      "#### reading C:/Users/bench/PycharmProjects/BDA/data/data/70b3d500700016FC.txt in initial_df ###############\n"
     ]
    },
    {
     "name": "stderr",
     "output_type": "stream",
     "text": [
      "<ipython-input-6-15bd363a455a>:12: FutureWarning: pandas.io.json.json_normalize is deprecated, use pandas.json_normalize instead\n",
      "  df_decoded_data = json_normalize(df_garbage.decoded_data)\n"
     ]
    },
    {
     "name": "stdout",
     "output_type": "stream",
     "text": [
      "##################################Decoded################################\n",
      "                    Temperature in C°   Voltage im mV   Height in cm\n",
      "Temperature in C°             1.000000       -0.148850     -0.120274\n",
      "Voltage im mV                -0.148850        1.000000     -0.328603\n",
      "Height in cm                 -0.120274       -0.328603      1.000000\n",
      "#### reading C:/Users/bench/PycharmProjects/BDA/data/data/70b3d50070001700.txt in initial_df ###############\n"
     ]
    },
    {
     "name": "stderr",
     "output_type": "stream",
     "text": [
      "<ipython-input-6-15bd363a455a>:12: FutureWarning: pandas.io.json.json_normalize is deprecated, use pandas.json_normalize instead\n",
      "  df_decoded_data = json_normalize(df_garbage.decoded_data)\n"
     ]
    },
    {
     "name": "stdout",
     "output_type": "stream",
     "text": [
      "##################################Decoded################################\n",
      "                    Temperature in C°   Voltage im mV   Height in cm\n",
      "Temperature in C°             1.000000        0.788259      0.226152\n",
      "Voltage im mV                 0.788259        1.000000      0.222948\n",
      "Height in cm                  0.226152        0.222948      1.000000\n",
      "#### reading C:/Users/bench/PycharmProjects/BDA/data/data/70b3d50070001701.txt in initial_df ###############\n"
     ]
    },
    {
     "name": "stderr",
     "output_type": "stream",
     "text": [
      "<ipython-input-6-15bd363a455a>:12: FutureWarning: pandas.io.json.json_normalize is deprecated, use pandas.json_normalize instead\n",
      "  df_decoded_data = json_normalize(df_garbage.decoded_data)\n"
     ]
    },
    {
     "name": "stdout",
     "output_type": "stream",
     "text": [
      "##################################Decoded################################\n",
      "                    Temperature in C°   Voltage im mV   Height in cm\n",
      "Temperature in C°             1.000000        0.477279     -0.046959\n",
      "Voltage im mV                 0.477279        1.000000      0.051178\n",
      "Height in cm                 -0.046959        0.051178      1.000000\n",
      "#### reading C:/Users/bench/PycharmProjects/BDA/data/data/70b3d50070001704.txt in initial_df ###############\n"
     ]
    },
    {
     "name": "stderr",
     "output_type": "stream",
     "text": [
      "<ipython-input-6-15bd363a455a>:12: FutureWarning: pandas.io.json.json_normalize is deprecated, use pandas.json_normalize instead\n",
      "  df_decoded_data = json_normalize(df_garbage.decoded_data)\n"
     ]
    },
    {
     "name": "stdout",
     "output_type": "stream",
     "text": [
      "##################################Decoded################################\n",
      "                    Temperature in C°   Voltage im mV   Height in cm\n",
      "Temperature in C°             1.000000        0.317760      0.093583\n",
      "Voltage im mV                 0.317760        1.000000     -0.230784\n",
      "Height in cm                  0.093583       -0.230784      1.000000\n",
      "#### reading C:/Users/bench/PycharmProjects/BDA/data/data/70b3d50070001706.txt in initial_df ###############\n"
     ]
    },
    {
     "name": "stderr",
     "output_type": "stream",
     "text": [
      "<ipython-input-6-15bd363a455a>:12: FutureWarning: pandas.io.json.json_normalize is deprecated, use pandas.json_normalize instead\n",
      "  df_decoded_data = json_normalize(df_garbage.decoded_data)\n"
     ]
    },
    {
     "name": "stdout",
     "output_type": "stream",
     "text": [
      "##################################Decoded################################\n",
      "                    Temperature in C°   Voltage im mV   Height in cm\n",
      "Temperature in C°             1.000000        0.889797     -0.033388\n",
      "Voltage im mV                 0.889797        1.000000     -0.030315\n",
      "Height in cm                 -0.033388       -0.030315      1.000000\n",
      "#### reading C:/Users/bench/PycharmProjects/BDA/data/data/70b3d50070001708.txt in initial_df ###############\n"
     ]
    },
    {
     "name": "stderr",
     "output_type": "stream",
     "text": [
      "<ipython-input-6-15bd363a455a>:12: FutureWarning: pandas.io.json.json_normalize is deprecated, use pandas.json_normalize instead\n",
      "  df_decoded_data = json_normalize(df_garbage.decoded_data)\n"
     ]
    },
    {
     "name": "stdout",
     "output_type": "stream",
     "text": [
      "##################################Decoded################################\n",
      "                    Temperature in C°   Voltage im mV   Height in cm\n",
      "Temperature in C°             1.000000       -0.107792      0.019517\n",
      "Voltage im mV                -0.107792        1.000000     -0.101928\n",
      "Height in cm                  0.019517       -0.101928      1.000000\n",
      "#### reading C:/Users/bench/PycharmProjects/BDA/data/data/70b3d50070001709.txt in initial_df ###############\n"
     ]
    },
    {
     "name": "stderr",
     "output_type": "stream",
     "text": [
      "<ipython-input-6-15bd363a455a>:12: FutureWarning: pandas.io.json.json_normalize is deprecated, use pandas.json_normalize instead\n",
      "  df_decoded_data = json_normalize(df_garbage.decoded_data)\n"
     ]
    },
    {
     "name": "stdout",
     "output_type": "stream",
     "text": [
      "##################################Decoded################################\n",
      "                    Temperature in C°   Voltage im mV   Height in cm\n",
      "Temperature in C°             1.000000        0.401992     -0.020963\n",
      "Voltage im mV                 0.401992        1.000000      0.088951\n",
      "Height in cm                 -0.020963        0.088951      1.000000\n",
      "#### reading C:/Users/bench/PycharmProjects/BDA/data/data/70b3d5007000170F.txt in initial_df ###############\n"
     ]
    },
    {
     "name": "stderr",
     "output_type": "stream",
     "text": [
      "<ipython-input-6-15bd363a455a>:12: FutureWarning: pandas.io.json.json_normalize is deprecated, use pandas.json_normalize instead\n",
      "  df_decoded_data = json_normalize(df_garbage.decoded_data)\n"
     ]
    },
    {
     "name": "stdout",
     "output_type": "stream",
     "text": [
      "##################################Decoded################################\n",
      "                    Temperature in C°   Voltage im mV   Height in cm\n",
      "Temperature in C°             1.000000        0.526656     -0.084762\n",
      "Voltage im mV                 0.526656        1.000000     -0.033212\n",
      "Height in cm                 -0.084762       -0.033212      1.000000\n",
      "#### reading C:/Users/bench/PycharmProjects/BDA/data/data/70b3d50070001710.txt in initial_df ###############\n"
     ]
    },
    {
     "name": "stderr",
     "output_type": "stream",
     "text": [
      "<ipython-input-6-15bd363a455a>:12: FutureWarning: pandas.io.json.json_normalize is deprecated, use pandas.json_normalize instead\n",
      "  df_decoded_data = json_normalize(df_garbage.decoded_data)\n"
     ]
    },
    {
     "name": "stdout",
     "output_type": "stream",
     "text": [
      "##################################Decoded################################\n",
      "                    Temperature in C°   Voltage im mV   Height in cm\n",
      "Temperature in C°             1.000000       -0.285213     -0.137415\n",
      "Voltage im mV                -0.285213        1.000000      0.182653\n",
      "Height in cm                 -0.137415        0.182653      1.000000\n",
      "#### reading C:/Users/bench/PycharmProjects/BDA/data/data/70b3d50070001712.txt in initial_df ###############\n"
     ]
    },
    {
     "name": "stderr",
     "output_type": "stream",
     "text": [
      "<ipython-input-6-15bd363a455a>:12: FutureWarning: pandas.io.json.json_normalize is deprecated, use pandas.json_normalize instead\n",
      "  df_decoded_data = json_normalize(df_garbage.decoded_data)\n"
     ]
    },
    {
     "name": "stdout",
     "output_type": "stream",
     "text": [
      "##################################Decoded################################\n",
      "                    Temperature in C°   Voltage im mV   Height in cm\n",
      "Temperature in C°             1.000000        0.644752     -0.004156\n",
      "Voltage im mV                 0.644752        1.000000      0.054343\n",
      "Height in cm                 -0.004156        0.054343      1.000000\n",
      "#### reading C:/Users/bench/PycharmProjects/BDA/data/data/70b3d50070001713.txt in initial_df ###############\n"
     ]
    },
    {
     "name": "stderr",
     "output_type": "stream",
     "text": [
      "<ipython-input-6-15bd363a455a>:12: FutureWarning: pandas.io.json.json_normalize is deprecated, use pandas.json_normalize instead\n",
      "  df_decoded_data = json_normalize(df_garbage.decoded_data)\n"
     ]
    },
    {
     "name": "stdout",
     "output_type": "stream",
     "text": [
      "##################################Decoded################################\n",
      "                    Temperature in C°   Voltage im mV   Height in cm\n",
      "Temperature in C°             1.000000       -0.211390     -0.135405\n",
      "Voltage im mV                -0.211390        1.000000      0.007686\n",
      "Height in cm                 -0.135405        0.007686      1.000000\n",
      "#### reading C:/Users/bench/PycharmProjects/BDA/data/data/70b3d50070001714.txt in initial_df ###############\n"
     ]
    },
    {
     "name": "stderr",
     "output_type": "stream",
     "text": [
      "<ipython-input-6-15bd363a455a>:12: FutureWarning: pandas.io.json.json_normalize is deprecated, use pandas.json_normalize instead\n",
      "  df_decoded_data = json_normalize(df_garbage.decoded_data)\n"
     ]
    },
    {
     "name": "stdout",
     "output_type": "stream",
     "text": [
      "##################################Decoded################################\n",
      "                    Temperature in C°   Voltage im mV   Height in cm\n",
      "Temperature in C°             1.000000       -0.371681      0.150096\n",
      "Voltage im mV                -0.371681        1.000000     -0.132119\n",
      "Height in cm                  0.150096       -0.132119      1.000000\n",
      "#### reading C:/Users/bench/PycharmProjects/BDA/data/data/70b3d50070001715.txt in initial_df ###############\n"
     ]
    },
    {
     "name": "stderr",
     "output_type": "stream",
     "text": [
      "<ipython-input-6-15bd363a455a>:12: FutureWarning: pandas.io.json.json_normalize is deprecated, use pandas.json_normalize instead\n",
      "  df_decoded_data = json_normalize(df_garbage.decoded_data)\n"
     ]
    },
    {
     "name": "stdout",
     "output_type": "stream",
     "text": [
      "##################################Decoded################################\n",
      "                    Temperature in C°   Voltage im mV   Height in cm\n",
      "Temperature in C°             1.000000       -0.211429      0.117372\n",
      "Voltage im mV                -0.211429        1.000000      0.211522\n",
      "Height in cm                  0.117372        0.211522      1.000000\n",
      "#### reading C:/Users/bench/PycharmProjects/BDA/data/data/70b3d50070001716.txt in initial_df ###############\n"
     ]
    },
    {
     "name": "stderr",
     "output_type": "stream",
     "text": [
      "<ipython-input-6-15bd363a455a>:12: FutureWarning: pandas.io.json.json_normalize is deprecated, use pandas.json_normalize instead\n",
      "  df_decoded_data = json_normalize(df_garbage.decoded_data)\n"
     ]
    },
    {
     "name": "stdout",
     "output_type": "stream",
     "text": [
      "##################################Decoded################################\n",
      "                    Temperature in C°   Voltage im mV   Height in cm\n",
      "Temperature in C°             1.000000       -0.374776     -0.049143\n",
      "Voltage im mV                -0.374776        1.000000      0.109218\n",
      "Height in cm                 -0.049143        0.109218      1.000000\n",
      "#### reading C:/Users/bench/PycharmProjects/BDA/data/data/70b3d5007000171A.txt in initial_df ###############\n"
     ]
    },
    {
     "name": "stderr",
     "output_type": "stream",
     "text": [
      "<ipython-input-6-15bd363a455a>:12: FutureWarning: pandas.io.json.json_normalize is deprecated, use pandas.json_normalize instead\n",
      "  df_decoded_data = json_normalize(df_garbage.decoded_data)\n"
     ]
    },
    {
     "name": "stdout",
     "output_type": "stream",
     "text": [
      "##################################Decoded################################\n",
      "                    Temperature in C°   Voltage im mV   Height in cm\n",
      "Temperature in C°             1.000000        0.262123     -0.029195\n",
      "Voltage im mV                 0.262123        1.000000     -0.055096\n",
      "Height in cm                 -0.029195       -0.055096      1.000000\n",
      "#### reading C:/Users/bench/PycharmProjects/BDA/data/data/70b3d5007000171E.txt in initial_df ###############\n"
     ]
    },
    {
     "name": "stderr",
     "output_type": "stream",
     "text": [
      "<ipython-input-6-15bd363a455a>:12: FutureWarning: pandas.io.json.json_normalize is deprecated, use pandas.json_normalize instead\n",
      "  df_decoded_data = json_normalize(df_garbage.decoded_data)\n"
     ]
    },
    {
     "name": "stdout",
     "output_type": "stream",
     "text": [
      "##################################Decoded################################\n",
      "                    Temperature in C°   Voltage im mV   Height in cm\n",
      "Temperature in C°             1.000000       -0.346471     -0.033344\n",
      "Voltage im mV                -0.346471        1.000000      0.006194\n",
      "Height in cm                 -0.033344        0.006194      1.000000\n",
      "#### reading C:/Users/bench/PycharmProjects/BDA/data/data/70b3d5007000171F.txt in initial_df ###############\n"
     ]
    },
    {
     "name": "stderr",
     "output_type": "stream",
     "text": [
      "<ipython-input-6-15bd363a455a>:12: FutureWarning: pandas.io.json.json_normalize is deprecated, use pandas.json_normalize instead\n",
      "  df_decoded_data = json_normalize(df_garbage.decoded_data)\n"
     ]
    },
    {
     "name": "stdout",
     "output_type": "stream",
     "text": [
      "##################################Decoded################################\n",
      "                    Temperature in C°   Voltage im mV   Height in cm\n",
      "Temperature in C°             1.000000        0.555486     -0.091510\n",
      "Voltage im mV                 0.555486        1.000000     -0.094542\n",
      "Height in cm                 -0.091510       -0.094542      1.000000\n",
      "#### reading C:/Users/bench/PycharmProjects/BDA/data/data/70b3d50070001722.txt in initial_df ###############\n"
     ]
    },
    {
     "name": "stderr",
     "output_type": "stream",
     "text": [
      "<ipython-input-6-15bd363a455a>:12: FutureWarning: pandas.io.json.json_normalize is deprecated, use pandas.json_normalize instead\n",
      "  df_decoded_data = json_normalize(df_garbage.decoded_data)\n"
     ]
    },
    {
     "name": "stdout",
     "output_type": "stream",
     "text": [
      "##################################Decoded################################\n",
      "                    Temperature in C°   Voltage im mV   Height in cm\n",
      "Temperature in C°             1.000000       -0.422473     -0.089631\n",
      "Voltage im mV                -0.422473        1.000000      0.259336\n",
      "Height in cm                 -0.089631        0.259336      1.000000\n",
      "#### reading C:/Users/bench/PycharmProjects/BDA/data/data/70b3d50070001724.txt in initial_df ###############\n"
     ]
    },
    {
     "name": "stderr",
     "output_type": "stream",
     "text": [
      "<ipython-input-6-15bd363a455a>:12: FutureWarning: pandas.io.json.json_normalize is deprecated, use pandas.json_normalize instead\n",
      "  df_decoded_data = json_normalize(df_garbage.decoded_data)\n"
     ]
    },
    {
     "ename": "KeyboardInterrupt",
     "evalue": "",
     "output_type": "error",
     "traceback": [
      "\u001b[1;31m---------------------------------------------------------------------------\u001b[0m",
      "\u001b[1;31mKeyboardInterrupt\u001b[0m                         Traceback (most recent call last)",
      "\u001b[1;32m<ipython-input-28-3bfc489cdeda>\u001b[0m in \u001b[0;36m<module>\u001b[1;34m\u001b[0m\n\u001b[0;32m      3\u001b[0m        \u001b[1;32mif\u001b[0m \u001b[0mf\u001b[0m\u001b[1;33m.\u001b[0m\u001b[0mendswith\u001b[0m\u001b[1;33m(\u001b[0m\u001b[1;34m\".txt\"\u001b[0m\u001b[1;33m)\u001b[0m\u001b[1;33m:\u001b[0m\u001b[1;33m\u001b[0m\u001b[1;33m\u001b[0m\u001b[0m\n\u001b[0;32m      4\u001b[0m            \u001b[0mpath_in\u001b[0m \u001b[1;33m=\u001b[0m \u001b[0mpath\u001b[0m \u001b[1;33m+\u001b[0m \u001b[0mf\u001b[0m\u001b[1;33m\u001b[0m\u001b[1;33m\u001b[0m\u001b[0m\n\u001b[1;32m----> 5\u001b[1;33m            \u001b[0mcorr_all\u001b[0m\u001b[1;33m(\u001b[0m\u001b[0mpath_in\u001b[0m\u001b[1;33m)\u001b[0m\u001b[1;33m\u001b[0m\u001b[1;33m\u001b[0m\u001b[0m\n\u001b[0m",
      "\u001b[1;32m<ipython-input-27-c0b48fef584c>\u001b[0m in \u001b[0;36mcorr_all\u001b[1;34m(path_in)\u001b[0m\n\u001b[0;32m      1\u001b[0m \u001b[1;32mdef\u001b[0m \u001b[0mcorr_all\u001b[0m\u001b[1;33m(\u001b[0m\u001b[0mpath_in\u001b[0m\u001b[1;33m)\u001b[0m\u001b[1;33m:\u001b[0m\u001b[1;33m\u001b[0m\u001b[1;33m\u001b[0m\u001b[0m\n\u001b[1;32m----> 2\u001b[1;33m     \u001b[0mdf_decoded_data\u001b[0m\u001b[1;33m,\u001b[0m\u001b[0mdf_garbage\u001b[0m \u001b[1;33m=\u001b[0m \u001b[0mtxt_to_pd\u001b[0m\u001b[1;33m(\u001b[0m\u001b[0mpath_in\u001b[0m\u001b[1;33m)\u001b[0m\u001b[1;33m\u001b[0m\u001b[1;33m\u001b[0m\u001b[0m\n\u001b[0m\u001b[0;32m      3\u001b[0m     \u001b[0mx\u001b[0m \u001b[1;33m=\u001b[0m \u001b[0mnp\u001b[0m\u001b[1;33m.\u001b[0m\u001b[0mempty\u001b[0m\u001b[1;33m(\u001b[0m\u001b[1;33m(\u001b[0m\u001b[1;36m4\u001b[0m\u001b[1;33m,\u001b[0m\u001b[1;36m7306\u001b[0m\u001b[1;33m)\u001b[0m\u001b[1;33m)\u001b[0m\u001b[1;33m\u001b[0m\u001b[1;33m\u001b[0m\u001b[0m\n\u001b[0;32m      4\u001b[0m     \u001b[0mcreated_at\u001b[0m\u001b[1;33m=\u001b[0m\u001b[0mdf_garbage\u001b[0m\u001b[1;33m.\u001b[0m\u001b[0mcreated_at\u001b[0m\u001b[1;33m\u001b[0m\u001b[1;33m\u001b[0m\u001b[0m\n\u001b[0;32m      5\u001b[0m     \u001b[1;31m# Processed once\u001b[0m\u001b[1;33m\u001b[0m\u001b[1;33m\u001b[0m\u001b[1;33m\u001b[0m\u001b[0m\n",
      "\u001b[1;32m<ipython-input-6-15bd363a455a>\u001b[0m in \u001b[0;36mtxt_to_pd\u001b[1;34m(path_in)\u001b[0m\n\u001b[0;32m     10\u001b[0m \u001b[1;33m\u001b[0m\u001b[0m\n\u001b[0;32m     11\u001b[0m     \u001b[1;31m# Decoded last column of df containing the sensor Data\u001b[0m\u001b[1;33m\u001b[0m\u001b[1;33m\u001b[0m\u001b[1;33m\u001b[0m\u001b[0m\n\u001b[1;32m---> 12\u001b[1;33m     \u001b[0mdf_decoded_data\u001b[0m \u001b[1;33m=\u001b[0m \u001b[0mjson_normalize\u001b[0m\u001b[1;33m(\u001b[0m\u001b[0mdf_garbage\u001b[0m\u001b[1;33m.\u001b[0m\u001b[0mdecoded_data\u001b[0m\u001b[1;33m)\u001b[0m\u001b[1;33m\u001b[0m\u001b[1;33m\u001b[0m\u001b[0m\n\u001b[0m\u001b[0;32m     13\u001b[0m \u001b[1;33m\u001b[0m\u001b[0m\n\u001b[0;32m     14\u001b[0m     \u001b[1;31m# print(df_decoded_data)\u001b[0m\u001b[1;33m\u001b[0m\u001b[1;33m\u001b[0m\u001b[1;33m\u001b[0m\u001b[0m\n",
      "\u001b[1;32m~\\anaconda3\\envs\\BDA\\lib\\site-packages\\pandas\\util\\_decorators.py\u001b[0m in \u001b[0;36mwrapper\u001b[1;34m(*args, **kwargs)\u001b[0m\n\u001b[0;32m     50\u001b[0m     \u001b[1;32mdef\u001b[0m \u001b[0mwrapper\u001b[0m\u001b[1;33m(\u001b[0m\u001b[1;33m*\u001b[0m\u001b[0margs\u001b[0m\u001b[1;33m,\u001b[0m \u001b[1;33m**\u001b[0m\u001b[0mkwargs\u001b[0m\u001b[1;33m)\u001b[0m \u001b[1;33m->\u001b[0m \u001b[0mCallable\u001b[0m\u001b[1;33m[\u001b[0m\u001b[1;33m...\u001b[0m\u001b[1;33m,\u001b[0m \u001b[0mAny\u001b[0m\u001b[1;33m]\u001b[0m\u001b[1;33m:\u001b[0m\u001b[1;33m\u001b[0m\u001b[1;33m\u001b[0m\u001b[0m\n\u001b[0;32m     51\u001b[0m         \u001b[0mwarnings\u001b[0m\u001b[1;33m.\u001b[0m\u001b[0mwarn\u001b[0m\u001b[1;33m(\u001b[0m\u001b[0mwarning_msg\u001b[0m\u001b[1;33m,\u001b[0m \u001b[0mklass\u001b[0m\u001b[1;33m,\u001b[0m \u001b[0mstacklevel\u001b[0m\u001b[1;33m=\u001b[0m\u001b[0mstacklevel\u001b[0m\u001b[1;33m)\u001b[0m\u001b[1;33m\u001b[0m\u001b[1;33m\u001b[0m\u001b[0m\n\u001b[1;32m---> 52\u001b[1;33m         \u001b[1;32mreturn\u001b[0m \u001b[0malternative\u001b[0m\u001b[1;33m(\u001b[0m\u001b[1;33m*\u001b[0m\u001b[0margs\u001b[0m\u001b[1;33m,\u001b[0m \u001b[1;33m**\u001b[0m\u001b[0mkwargs\u001b[0m\u001b[1;33m)\u001b[0m\u001b[1;33m\u001b[0m\u001b[1;33m\u001b[0m\u001b[0m\n\u001b[0m\u001b[0;32m     53\u001b[0m \u001b[1;33m\u001b[0m\u001b[0m\n\u001b[0;32m     54\u001b[0m     \u001b[1;31m# adding deprecated directive to the docstring\u001b[0m\u001b[1;33m\u001b[0m\u001b[1;33m\u001b[0m\u001b[1;33m\u001b[0m\u001b[0m\n",
      "\u001b[1;32m~\\anaconda3\\envs\\BDA\\lib\\site-packages\\pandas\\io\\json\\_normalize.py\u001b[0m in \u001b[0;36m_json_normalize\u001b[1;34m(data, record_path, meta, meta_prefix, record_prefix, errors, sep, max_level)\u001b[0m\n\u001b[0;32m    276\u001b[0m             \u001b[1;31m# TODO: handle record value which are lists, at least error\u001b[0m\u001b[1;33m\u001b[0m\u001b[1;33m\u001b[0m\u001b[1;33m\u001b[0m\u001b[0m\n\u001b[0;32m    277\u001b[0m             \u001b[1;31m#       reasonably\u001b[0m\u001b[1;33m\u001b[0m\u001b[1;33m\u001b[0m\u001b[1;33m\u001b[0m\u001b[0m\n\u001b[1;32m--> 278\u001b[1;33m             \u001b[0mdata\u001b[0m \u001b[1;33m=\u001b[0m \u001b[0mnested_to_record\u001b[0m\u001b[1;33m(\u001b[0m\u001b[0mdata\u001b[0m\u001b[1;33m,\u001b[0m \u001b[0msep\u001b[0m\u001b[1;33m=\u001b[0m\u001b[0msep\u001b[0m\u001b[1;33m,\u001b[0m \u001b[0mmax_level\u001b[0m\u001b[1;33m=\u001b[0m\u001b[0mmax_level\u001b[0m\u001b[1;33m)\u001b[0m\u001b[1;33m\u001b[0m\u001b[1;33m\u001b[0m\u001b[0m\n\u001b[0m\u001b[0;32m    279\u001b[0m         \u001b[1;32mreturn\u001b[0m \u001b[0mDataFrame\u001b[0m\u001b[1;33m(\u001b[0m\u001b[0mdata\u001b[0m\u001b[1;33m)\u001b[0m\u001b[1;33m\u001b[0m\u001b[1;33m\u001b[0m\u001b[0m\n\u001b[0;32m    280\u001b[0m     \u001b[1;32melif\u001b[0m \u001b[1;32mnot\u001b[0m \u001b[0misinstance\u001b[0m\u001b[1;33m(\u001b[0m\u001b[0mrecord_path\u001b[0m\u001b[1;33m,\u001b[0m \u001b[0mlist\u001b[0m\u001b[1;33m)\u001b[0m\u001b[1;33m:\u001b[0m\u001b[1;33m\u001b[0m\u001b[1;33m\u001b[0m\u001b[0m\n",
      "\u001b[1;32m~\\anaconda3\\envs\\BDA\\lib\\site-packages\\pandas\\io\\json\\_normalize.py\u001b[0m in \u001b[0;36mnested_to_record\u001b[1;34m(ds, prefix, sep, level, max_level)\u001b[0m\n\u001b[0;32m    102\u001b[0m             \u001b[1;32melse\u001b[0m\u001b[1;33m:\u001b[0m\u001b[1;33m\u001b[0m\u001b[1;33m\u001b[0m\u001b[0m\n\u001b[0;32m    103\u001b[0m                 \u001b[0mv\u001b[0m \u001b[1;33m=\u001b[0m \u001b[0mnew_d\u001b[0m\u001b[1;33m.\u001b[0m\u001b[0mpop\u001b[0m\u001b[1;33m(\u001b[0m\u001b[0mk\u001b[0m\u001b[1;33m)\u001b[0m\u001b[1;33m\u001b[0m\u001b[1;33m\u001b[0m\u001b[0m\n\u001b[1;32m--> 104\u001b[1;33m                 \u001b[0mnew_d\u001b[0m\u001b[1;33m.\u001b[0m\u001b[0mupdate\u001b[0m\u001b[1;33m(\u001b[0m\u001b[0mnested_to_record\u001b[0m\u001b[1;33m(\u001b[0m\u001b[0mv\u001b[0m\u001b[1;33m,\u001b[0m \u001b[0mnewkey\u001b[0m\u001b[1;33m,\u001b[0m \u001b[0msep\u001b[0m\u001b[1;33m,\u001b[0m \u001b[0mlevel\u001b[0m \u001b[1;33m+\u001b[0m \u001b[1;36m1\u001b[0m\u001b[1;33m,\u001b[0m \u001b[0mmax_level\u001b[0m\u001b[1;33m)\u001b[0m\u001b[1;33m)\u001b[0m\u001b[1;33m\u001b[0m\u001b[1;33m\u001b[0m\u001b[0m\n\u001b[0m\u001b[0;32m    105\u001b[0m         \u001b[0mnew_ds\u001b[0m\u001b[1;33m.\u001b[0m\u001b[0mappend\u001b[0m\u001b[1;33m(\u001b[0m\u001b[0mnew_d\u001b[0m\u001b[1;33m)\u001b[0m\u001b[1;33m\u001b[0m\u001b[1;33m\u001b[0m\u001b[0m\n\u001b[0;32m    106\u001b[0m \u001b[1;33m\u001b[0m\u001b[0m\n",
      "\u001b[1;32m~\\anaconda3\\envs\\BDA\\lib\\site-packages\\pandas\\io\\json\\_normalize.py\u001b[0m in \u001b[0;36mnested_to_record\u001b[1;34m(ds, prefix, sep, level, max_level)\u001b[0m\n\u001b[0;32m     97\u001b[0m             ):\n\u001b[0;32m     98\u001b[0m                 \u001b[1;32mif\u001b[0m \u001b[0mlevel\u001b[0m \u001b[1;33m!=\u001b[0m \u001b[1;36m0\u001b[0m\u001b[1;33m:\u001b[0m  \u001b[1;31m# so we skip copying for top level, common case\u001b[0m\u001b[1;33m\u001b[0m\u001b[1;33m\u001b[0m\u001b[0m\n\u001b[1;32m---> 99\u001b[1;33m                     \u001b[0mv\u001b[0m \u001b[1;33m=\u001b[0m \u001b[0mnew_d\u001b[0m\u001b[1;33m.\u001b[0m\u001b[0mpop\u001b[0m\u001b[1;33m(\u001b[0m\u001b[0mk\u001b[0m\u001b[1;33m)\u001b[0m\u001b[1;33m\u001b[0m\u001b[1;33m\u001b[0m\u001b[0m\n\u001b[0m\u001b[0;32m    100\u001b[0m                     \u001b[0mnew_d\u001b[0m\u001b[1;33m[\u001b[0m\u001b[0mnewkey\u001b[0m\u001b[1;33m]\u001b[0m \u001b[1;33m=\u001b[0m \u001b[0mv\u001b[0m\u001b[1;33m\u001b[0m\u001b[1;33m\u001b[0m\u001b[0m\n\u001b[0;32m    101\u001b[0m                 \u001b[1;32mcontinue\u001b[0m\u001b[1;33m\u001b[0m\u001b[1;33m\u001b[0m\u001b[0m\n",
      "\u001b[1;31mKeyboardInterrupt\u001b[0m: "
     ]
    }
   ],
   "source": [
    "path= \"C:/Users/bench/PycharmProjects/BDA/data/data/\"\n",
    "for f in listdir(path):\n",
    "        if f.endswith(\".txt\"):\n",
    "            path_in = path + f\n",
    "            corr_all(path_in)"
   ]
  },
  {
   "cell_type": "code",
   "execution_count": null,
   "id": "ad3e8977-8e9e-4caa-b173-72b58c18824f",
   "metadata": {},
   "outputs": [],
   "source": []
  }
 ],
 "metadata": {
  "kernelspec": {
   "display_name": "Python 3",
   "language": "python",
   "name": "python3"
  },
  "language_info": {
   "codemirror_mode": {
    "name": "ipython",
    "version": 3
   },
   "file_extension": ".py",
   "mimetype": "text/x-python",
   "name": "python",
   "nbconvert_exporter": "python",
   "pygments_lexer": "ipython3",
   "version": "3.8.10"
  }
 },
 "nbformat": 4,
 "nbformat_minor": 5
}
