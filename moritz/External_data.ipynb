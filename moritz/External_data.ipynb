{
 "cells": [
  {
   "cell_type": "code",
   "execution_count": 1,
   "id": "b4209984",
   "metadata": {},
   "outputs": [],
   "source": [
    "import pandas as pd\n",
    "import json as json\n",
    "from pandas import json_normalize\n",
    "import os\n",
    "import csv\n",
    "from matplotlib import pyplot as plt"
   ]
  },
  {
   "cell_type": "code",
   "execution_count": 2,
   "id": "32e660c2",
   "metadata": {},
   "outputs": [],
   "source": [
    "srcDir = \"../data/preprocessed/\""
   ]
  },
  {
   "cell_type": "code",
   "execution_count": 3,
   "id": "54c8d3dd",
   "metadata": {},
   "outputs": [],
   "source": [
    "with open(srcDir + \"cleaned_data.csv\", 'r') as f:\n",
    "    data = list(csv.reader(f))"
   ]
  },
  {
   "cell_type": "code",
   "execution_count": 4,
   "id": "612571c7",
   "metadata": {},
   "outputs": [
    {
     "data": {
      "text/html": [
       "<div>\n",
       "<style scoped>\n",
       "    .dataframe tbody tr th:only-of-type {\n",
       "        vertical-align: middle;\n",
       "    }\n",
       "\n",
       "    .dataframe tbody tr th {\n",
       "        vertical-align: top;\n",
       "    }\n",
       "\n",
       "    .dataframe thead th {\n",
       "        text-align: right;\n",
       "    }\n",
       "</style>\n",
       "<table border=\"1\" class=\"dataframe\">\n",
       "  <thead>\n",
       "    <tr style=\"text-align: right;\">\n",
       "      <th></th>\n",
       "      <th>id</th>\n",
       "      <th>deveui</th>\n",
       "      <th>created_at</th>\n",
       "      <th>decoded_data.sensor_data.Events</th>\n",
       "      <th>decoded_data.sensor_data.Height 1</th>\n",
       "      <th>decoded_data.sensor_data.Temperature</th>\n",
       "      <th>decoded_data.sensor_data.Tilt</th>\n",
       "      <th>decoded_data.sensor_data.Tx Event</th>\n",
       "    </tr>\n",
       "  </thead>\n",
       "  <tbody>\n",
       "    <tr>\n",
       "      <th>0</th>\n",
       "      <td>4110576</td>\n",
       "      <td>70B3D500700016DA</td>\n",
       "      <td>2021-05-08 20:26:00.596017</td>\n",
       "      <td>SENS_EVENT_MEASURE</td>\n",
       "      <td>112</td>\n",
       "      <td>14</td>\n",
       "      <td>1</td>\n",
       "      <td>193</td>\n",
       "    </tr>\n",
       "    <tr>\n",
       "      <th>1</th>\n",
       "      <td>4110093</td>\n",
       "      <td>70B3D500700016DA</td>\n",
       "      <td>2021-05-08 19:26:05.713448</td>\n",
       "      <td>SENS_EVENT_MEASURE</td>\n",
       "      <td>112</td>\n",
       "      <td>17</td>\n",
       "      <td>1</td>\n",
       "      <td>192</td>\n",
       "    </tr>\n",
       "    <tr>\n",
       "      <th>2</th>\n",
       "      <td>4109607</td>\n",
       "      <td>70B3D500700016DA</td>\n",
       "      <td>2021-05-08 18:25:59.323267</td>\n",
       "      <td>SENS_EVENT_MEASURE</td>\n",
       "      <td>108</td>\n",
       "      <td>15</td>\n",
       "      <td>0</td>\n",
       "      <td>191</td>\n",
       "    </tr>\n",
       "    <tr>\n",
       "      <th>3</th>\n",
       "      <td>4109118</td>\n",
       "      <td>70B3D500700016DA</td>\n",
       "      <td>2021-05-08 17:25:59.523137</td>\n",
       "      <td>SENS_EVENT_MEASURE</td>\n",
       "      <td>126</td>\n",
       "      <td>19</td>\n",
       "      <td>1</td>\n",
       "      <td>190</td>\n",
       "    </tr>\n",
       "    <tr>\n",
       "      <th>4</th>\n",
       "      <td>4108627</td>\n",
       "      <td>70B3D500700016DA</td>\n",
       "      <td>2021-05-08 16:25:59.577446</td>\n",
       "      <td>SENS_EVENT_MEASURE</td>\n",
       "      <td>118</td>\n",
       "      <td>20</td>\n",
       "      <td>0</td>\n",
       "      <td>189</td>\n",
       "    </tr>\n",
       "  </tbody>\n",
       "</table>\n",
       "</div>"
      ],
      "text/plain": [
       "        id            deveui                  created_at  \\\n",
       "0  4110576  70B3D500700016DA  2021-05-08 20:26:00.596017   \n",
       "1  4110093  70B3D500700016DA  2021-05-08 19:26:05.713448   \n",
       "2  4109607  70B3D500700016DA  2021-05-08 18:25:59.323267   \n",
       "3  4109118  70B3D500700016DA  2021-05-08 17:25:59.523137   \n",
       "4  4108627  70B3D500700016DA  2021-05-08 16:25:59.577446   \n",
       "\n",
       "  decoded_data.sensor_data.Events decoded_data.sensor_data.Height 1  \\\n",
       "0              SENS_EVENT_MEASURE                               112   \n",
       "1              SENS_EVENT_MEASURE                               112   \n",
       "2              SENS_EVENT_MEASURE                               108   \n",
       "3              SENS_EVENT_MEASURE                               126   \n",
       "4              SENS_EVENT_MEASURE                               118   \n",
       "\n",
       "  decoded_data.sensor_data.Temperature decoded_data.sensor_data.Tilt  \\\n",
       "0                                   14                             1   \n",
       "1                                   17                             1   \n",
       "2                                   15                             0   \n",
       "3                                   19                             1   \n",
       "4                                   20                             0   \n",
       "\n",
       "  decoded_data.sensor_data.Tx Event  \n",
       "0                               193  \n",
       "1                               192  \n",
       "2                               191  \n",
       "3                               190  \n",
       "4                               189  "
      ]
     },
     "execution_count": 4,
     "metadata": {},
     "output_type": "execute_result"
    }
   ],
   "source": [
    "df = pd.DataFrame(data[1:], columns=data[0])\n",
    "df.head()"
   ]
  },
  {
   "cell_type": "code",
   "execution_count": 5,
   "id": "df626463",
   "metadata": {},
   "outputs": [],
   "source": [
    "#drop, weil nur id + externe daten übrig sein sollen\n",
    "\n",
    "df = df.drop(columns=[\"decoded_data.sensor_data.Events\", \"decoded_data.sensor_data.Height 1\", \"decoded_data.sensor_data.Temperature\", \"decoded_data.sensor_data.Tilt\", \"decoded_data.sensor_data.Tx Event\"])"
   ]
  },
  {
   "cell_type": "markdown",
   "id": "2354964e",
   "metadata": {},
   "source": [
    "# Relevant time period"
   ]
  },
  {
   "cell_type": "code",
   "execution_count": 6,
   "id": "ddb5bb7d",
   "metadata": {},
   "outputs": [],
   "source": [
    "from datetime import datetime\n",
    "\n",
    "time = df[\"created_at\"]\n",
    "\n",
    "date = []\n",
    "\n",
    "for x in range(1,len(time)):\n",
    "    stemp = time[x].split(\" \")\n",
    "    date_stemp = datetime.strptime(stemp[0].replace(\"-\", \"/\"), '%Y/%m/%d')\n",
    "    date.append(stemp[0])\n",
    "#date"
   ]
  },
  {
   "cell_type": "code",
   "execution_count": 7,
   "id": "8b9548af",
   "metadata": {},
   "outputs": [
    {
     "name": "stdout",
     "output_type": "stream",
     "text": [
      "2020-05-09  to  2021-05-08\n"
     ]
    }
   ],
   "source": [
    "print(min(date), \" to \", max(date))"
   ]
  },
  {
   "cell_type": "markdown",
   "id": "078ae2a3",
   "metadata": {},
   "source": [
    "# Load holiday file"
   ]
  },
  {
   "cell_type": "code",
   "execution_count": 8,
   "id": "41320bc7",
   "metadata": {},
   "outputs": [
    {
     "data": {
      "text/plain": [
       "['2021.01.01',\n",
       " '2021.04.02',\n",
       " '2021.04.05',\n",
       " '2021.05.01',\n",
       " '2021.05.13',\n",
       " '2021.05.24',\n",
       " '2021.06.03',\n",
       " '2021.10.03',\n",
       " '2021.12.25',\n",
       " '2021.12.26',\n",
       " '2020.01.01',\n",
       " '2020.05.01',\n",
       " '2020.10.03',\n",
       " '2020.12.25',\n",
       " '2020.12.26',\n",
       " '2020.04.10',\n",
       " '2020.04.12',\n",
       " '2020.04.13',\n",
       " '2020.05.21',\n",
       " '2020.05.31',\n",
       " '2020.06.01',\n",
       " '2020.06.11']"
      ]
     },
     "execution_count": 8,
     "metadata": {},
     "output_type": "execute_result"
    }
   ],
   "source": [
    "with open(srcDir + \"holidays.csv\", 'r') as f:\n",
    "    holidays = list(csv.reader(f))\n",
    "holidays[0]\n",
    "\n",
    "# Ferien interessant?"
   ]
  },
  {
   "cell_type": "markdown",
   "id": "06f3756b",
   "metadata": {},
   "source": [
    "# Extend DataFrame and join holidays"
   ]
  },
  {
   "cell_type": "code",
   "execution_count": 9,
   "id": "28ddb48f",
   "metadata": {},
   "outputs": [
    {
     "name": "stderr",
     "output_type": "stream",
     "text": [
      "<ipython-input-9-5d834490ce56>:6: SettingWithCopyWarning: \n",
      "A value is trying to be set on a copy of a slice from a DataFrame\n",
      "\n",
      "See the caveats in the documentation: https://pandas.pydata.org/pandas-docs/stable/user_guide/indexing.html#returning-a-view-versus-a-copy\n",
      "  df[\"is_holiday\"][x] = 1\n"
     ]
    }
   ],
   "source": [
    "df[\"is_holiday\"] = 0\n",
    "\n",
    "for x in range(0,len(df[\"created_at\"])):\n",
    "    date = df[\"created_at\"][x].split(\" \")[0].replace(\"-\", \".\")\n",
    "    if date in holidays[0]:\n",
    "        df[\"is_holiday\"][x] = 1"
   ]
  },
  {
   "cell_type": "code",
   "execution_count": 10,
   "id": "84dd936e",
   "metadata": {},
   "outputs": [
    {
     "data": {
      "text/html": [
       "<div>\n",
       "<style scoped>\n",
       "    .dataframe tbody tr th:only-of-type {\n",
       "        vertical-align: middle;\n",
       "    }\n",
       "\n",
       "    .dataframe tbody tr th {\n",
       "        vertical-align: top;\n",
       "    }\n",
       "\n",
       "    .dataframe thead th {\n",
       "        text-align: right;\n",
       "    }\n",
       "</style>\n",
       "<table border=\"1\" class=\"dataframe\">\n",
       "  <thead>\n",
       "    <tr style=\"text-align: right;\">\n",
       "      <th></th>\n",
       "      <th>id</th>\n",
       "      <th>deveui</th>\n",
       "      <th>created_at</th>\n",
       "      <th>is_holiday</th>\n",
       "    </tr>\n",
       "  </thead>\n",
       "  <tbody>\n",
       "    <tr>\n",
       "      <th>0</th>\n",
       "      <td>4110576</td>\n",
       "      <td>70B3D500700016DA</td>\n",
       "      <td>2021-05-08 20:26:00.596017</td>\n",
       "      <td>0</td>\n",
       "    </tr>\n",
       "    <tr>\n",
       "      <th>1</th>\n",
       "      <td>4110093</td>\n",
       "      <td>70B3D500700016DA</td>\n",
       "      <td>2021-05-08 19:26:05.713448</td>\n",
       "      <td>0</td>\n",
       "    </tr>\n",
       "    <tr>\n",
       "      <th>2</th>\n",
       "      <td>4109607</td>\n",
       "      <td>70B3D500700016DA</td>\n",
       "      <td>2021-05-08 18:25:59.323267</td>\n",
       "      <td>0</td>\n",
       "    </tr>\n",
       "    <tr>\n",
       "      <th>3</th>\n",
       "      <td>4109118</td>\n",
       "      <td>70B3D500700016DA</td>\n",
       "      <td>2021-05-08 17:25:59.523137</td>\n",
       "      <td>0</td>\n",
       "    </tr>\n",
       "    <tr>\n",
       "      <th>4</th>\n",
       "      <td>4108627</td>\n",
       "      <td>70B3D500700016DA</td>\n",
       "      <td>2021-05-08 16:25:59.577446</td>\n",
       "      <td>0</td>\n",
       "    </tr>\n",
       "  </tbody>\n",
       "</table>\n",
       "</div>"
      ],
      "text/plain": [
       "        id            deveui                  created_at  is_holiday\n",
       "0  4110576  70B3D500700016DA  2021-05-08 20:26:00.596017           0\n",
       "1  4110093  70B3D500700016DA  2021-05-08 19:26:05.713448           0\n",
       "2  4109607  70B3D500700016DA  2021-05-08 18:25:59.323267           0\n",
       "3  4109118  70B3D500700016DA  2021-05-08 17:25:59.523137           0\n",
       "4  4108627  70B3D500700016DA  2021-05-08 16:25:59.577446           0"
      ]
     },
     "execution_count": 10,
     "metadata": {},
     "output_type": "execute_result"
    }
   ],
   "source": [
    "df.head()"
   ]
  },
  {
   "cell_type": "code",
   "execution_count": 11,
   "id": "aeb6a242",
   "metadata": {},
   "outputs": [
    {
     "data": {
      "text/html": [
       "<div>\n",
       "<style scoped>\n",
       "    .dataframe tbody tr th:only-of-type {\n",
       "        vertical-align: middle;\n",
       "    }\n",
       "\n",
       "    .dataframe tbody tr th {\n",
       "        vertical-align: top;\n",
       "    }\n",
       "\n",
       "    .dataframe thead th {\n",
       "        text-align: right;\n",
       "    }\n",
       "</style>\n",
       "<table border=\"1\" class=\"dataframe\">\n",
       "  <thead>\n",
       "    <tr style=\"text-align: right;\">\n",
       "      <th></th>\n",
       "      <th>id</th>\n",
       "      <th>deveui</th>\n",
       "      <th>created_at</th>\n",
       "      <th>is_holiday</th>\n",
       "    </tr>\n",
       "  </thead>\n",
       "  <tbody>\n",
       "    <tr>\n",
       "      <th>112</th>\n",
       "      <td>4050063</td>\n",
       "      <td>70B3D500700016DA</td>\n",
       "      <td>2021-05-01 23:26:36.559595</td>\n",
       "      <td>1</td>\n",
       "    </tr>\n",
       "    <tr>\n",
       "      <th>113</th>\n",
       "      <td>4049616</td>\n",
       "      <td>70B3D500700016DA</td>\n",
       "      <td>2021-05-01 22:26:36.729609</td>\n",
       "      <td>1</td>\n",
       "    </tr>\n",
       "    <tr>\n",
       "      <th>114</th>\n",
       "      <td>4048853</td>\n",
       "      <td>70B3D500700016DA</td>\n",
       "      <td>2021-05-01 19:26:37.281386</td>\n",
       "      <td>1</td>\n",
       "    </tr>\n",
       "    <tr>\n",
       "      <th>115</th>\n",
       "      <td>4048420</td>\n",
       "      <td>70B3D500700016DA</td>\n",
       "      <td>2021-05-01 18:26:35.786206</td>\n",
       "      <td>1</td>\n",
       "    </tr>\n",
       "    <tr>\n",
       "      <th>116</th>\n",
       "      <td>4047998</td>\n",
       "      <td>70B3D500700016DA</td>\n",
       "      <td>2021-05-01 17:26:35.994673</td>\n",
       "      <td>1</td>\n",
       "    </tr>\n",
       "    <tr>\n",
       "      <th>...</th>\n",
       "      <td>...</td>\n",
       "      <td>...</td>\n",
       "      <td>...</td>\n",
       "      <td>...</td>\n",
       "    </tr>\n",
       "    <tr>\n",
       "      <th>514814</th>\n",
       "      <td>669959</td>\n",
       "      <td>70B3D50070001789</td>\n",
       "      <td>2020-05-21 06:49:27.463635</td>\n",
       "      <td>1</td>\n",
       "    </tr>\n",
       "    <tr>\n",
       "      <th>514815</th>\n",
       "      <td>669713</td>\n",
       "      <td>70B3D50070001789</td>\n",
       "      <td>2020-05-21 05:49:27.638371</td>\n",
       "      <td>1</td>\n",
       "    </tr>\n",
       "    <tr>\n",
       "      <th>514816</th>\n",
       "      <td>669444</td>\n",
       "      <td>70B3D50070001789</td>\n",
       "      <td>2020-05-21 04:49:27.789209</td>\n",
       "      <td>1</td>\n",
       "    </tr>\n",
       "    <tr>\n",
       "      <th>514817</th>\n",
       "      <td>668950</td>\n",
       "      <td>70B3D50070001789</td>\n",
       "      <td>2020-05-21 02:49:34.600864</td>\n",
       "      <td>1</td>\n",
       "    </tr>\n",
       "    <tr>\n",
       "      <th>514818</th>\n",
       "      <td>668494</td>\n",
       "      <td>70B3D50070001789</td>\n",
       "      <td>2020-05-21 00:49:28.945174</td>\n",
       "      <td>1</td>\n",
       "    </tr>\n",
       "  </tbody>\n",
       "</table>\n",
       "<p>15628 rows × 4 columns</p>\n",
       "</div>"
      ],
      "text/plain": [
       "             id            deveui                  created_at  is_holiday\n",
       "112     4050063  70B3D500700016DA  2021-05-01 23:26:36.559595           1\n",
       "113     4049616  70B3D500700016DA  2021-05-01 22:26:36.729609           1\n",
       "114     4048853  70B3D500700016DA  2021-05-01 19:26:37.281386           1\n",
       "115     4048420  70B3D500700016DA  2021-05-01 18:26:35.786206           1\n",
       "116     4047998  70B3D500700016DA  2021-05-01 17:26:35.994673           1\n",
       "...         ...               ...                         ...         ...\n",
       "514814   669959  70B3D50070001789  2020-05-21 06:49:27.463635           1\n",
       "514815   669713  70B3D50070001789  2020-05-21 05:49:27.638371           1\n",
       "514816   669444  70B3D50070001789  2020-05-21 04:49:27.789209           1\n",
       "514817   668950  70B3D50070001789  2020-05-21 02:49:34.600864           1\n",
       "514818   668494  70B3D50070001789  2020-05-21 00:49:28.945174           1\n",
       "\n",
       "[15628 rows x 4 columns]"
      ]
     },
     "execution_count": 11,
     "metadata": {},
     "output_type": "execute_result"
    }
   ],
   "source": [
    "df.loc[df[\"is_holiday\"]==1]"
   ]
  },
  {
   "cell_type": "markdown",
   "id": "3df11315",
   "metadata": {},
   "source": [
    "# Include rain per hour"
   ]
  },
  {
   "cell_type": "code",
   "execution_count": 12,
   "id": "56780d9e",
   "metadata": {},
   "outputs": [
    {
     "data": {
      "text/html": [
       "<div>\n",
       "<style scoped>\n",
       "    .dataframe tbody tr th:only-of-type {\n",
       "        vertical-align: middle;\n",
       "    }\n",
       "\n",
       "    .dataframe tbody tr th {\n",
       "        vertical-align: top;\n",
       "    }\n",
       "\n",
       "    .dataframe thead th {\n",
       "        text-align: right;\n",
       "    }\n",
       "</style>\n",
       "<table border=\"1\" class=\"dataframe\">\n",
       "  <thead>\n",
       "    <tr style=\"text-align: right;\">\n",
       "      <th></th>\n",
       "      <th>MESS_DATUM</th>\n",
       "      <th>rain (mm)</th>\n",
       "    </tr>\n",
       "  </thead>\n",
       "  <tbody>\n",
       "    <tr>\n",
       "      <th>0</th>\n",
       "      <td>2020050900</td>\n",
       "      <td>0.0</td>\n",
       "    </tr>\n",
       "    <tr>\n",
       "      <th>1</th>\n",
       "      <td>2020050901</td>\n",
       "      <td>0.0</td>\n",
       "    </tr>\n",
       "    <tr>\n",
       "      <th>2</th>\n",
       "      <td>2020050902</td>\n",
       "      <td>0.0</td>\n",
       "    </tr>\n",
       "    <tr>\n",
       "      <th>3</th>\n",
       "      <td>2020050903</td>\n",
       "      <td>0.0</td>\n",
       "    </tr>\n",
       "    <tr>\n",
       "      <th>4</th>\n",
       "      <td>2020050904</td>\n",
       "      <td>0.0</td>\n",
       "    </tr>\n",
       "    <tr>\n",
       "      <th>...</th>\n",
       "      <td>...</td>\n",
       "      <td>...</td>\n",
       "    </tr>\n",
       "    <tr>\n",
       "      <th>9307</th>\n",
       "      <td>2021060119</td>\n",
       "      <td>0.0</td>\n",
       "    </tr>\n",
       "    <tr>\n",
       "      <th>9308</th>\n",
       "      <td>2021060120</td>\n",
       "      <td>0.0</td>\n",
       "    </tr>\n",
       "    <tr>\n",
       "      <th>9309</th>\n",
       "      <td>2021060121</td>\n",
       "      <td>0.0</td>\n",
       "    </tr>\n",
       "    <tr>\n",
       "      <th>9310</th>\n",
       "      <td>2021060122</td>\n",
       "      <td>0.0</td>\n",
       "    </tr>\n",
       "    <tr>\n",
       "      <th>9311</th>\n",
       "      <td>2021060123</td>\n",
       "      <td>0.0</td>\n",
       "    </tr>\n",
       "  </tbody>\n",
       "</table>\n",
       "<p>9312 rows × 2 columns</p>\n",
       "</div>"
      ],
      "text/plain": [
       "      MESS_DATUM  rain (mm)\n",
       "0     2020050900        0.0\n",
       "1     2020050901        0.0\n",
       "2     2020050902        0.0\n",
       "3     2020050903        0.0\n",
       "4     2020050904        0.0\n",
       "...          ...        ...\n",
       "9307  2021060119        0.0\n",
       "9308  2021060120        0.0\n",
       "9309  2021060121        0.0\n",
       "9310  2021060122        0.0\n",
       "9311  2021060123        0.0\n",
       "\n",
       "[9312 rows x 2 columns]"
      ]
     },
     "execution_count": 12,
     "metadata": {},
     "output_type": "execute_result"
    }
   ],
   "source": [
    "rain_file = pd.read_csv('../data/raw/stdl_niederschlag/produkt_rr_stunde_20191130_20210601_01420.txt', delimiter=\";\")\n",
    "rain_file = rain_file.rename(columns={\"  R1\": \"rain (mm)\"})\n",
    "rain_file = rain_file.drop(columns=[\"STATIONS_ID\", \"QN_8\", \"RS_IND\", \"WRTR\", \"eor\"])\n",
    "rain_file = rain_file.astype({\"MESS_DATUM\": \"str\"})\n",
    "rain_file"
   ]
  },
  {
   "cell_type": "code",
   "execution_count": 13,
   "id": "7b35c296",
   "metadata": {},
   "outputs": [
    {
     "data": {
      "text/plain": [
       "str"
      ]
     },
     "execution_count": 13,
     "metadata": {},
     "output_type": "execute_result"
    }
   ],
   "source": [
    "type(rain_file[\"MESS_DATUM\"][0])"
   ]
  },
  {
   "cell_type": "code",
   "execution_count": 14,
   "id": "18393f85",
   "metadata": {},
   "outputs": [
    {
     "name": "stderr",
     "output_type": "stream",
     "text": [
      "<ipython-input-14-3f9d9e6f8e1c>:4: SettingWithCopyWarning: \n",
      "A value is trying to be set on a copy of a slice from a DataFrame\n",
      "\n",
      "See the caveats in the documentation: https://pandas.pydata.org/pandas-docs/stable/user_guide/indexing.html#returning-a-view-versus-a-copy\n",
      "  rain_file[\"MESS_DATUM\"][x] = result\n"
     ]
    },
    {
     "data": {
      "text/html": [
       "<div>\n",
       "<style scoped>\n",
       "    .dataframe tbody tr th:only-of-type {\n",
       "        vertical-align: middle;\n",
       "    }\n",
       "\n",
       "    .dataframe tbody tr th {\n",
       "        vertical-align: top;\n",
       "    }\n",
       "\n",
       "    .dataframe thead th {\n",
       "        text-align: right;\n",
       "    }\n",
       "</style>\n",
       "<table border=\"1\" class=\"dataframe\">\n",
       "  <thead>\n",
       "    <tr style=\"text-align: right;\">\n",
       "      <th></th>\n",
       "      <th>MESS_DATUM</th>\n",
       "      <th>rain (mm)</th>\n",
       "    </tr>\n",
       "  </thead>\n",
       "  <tbody>\n",
       "    <tr>\n",
       "      <th>0</th>\n",
       "      <td>2020-05-09 00</td>\n",
       "      <td>0.0</td>\n",
       "    </tr>\n",
       "    <tr>\n",
       "      <th>1</th>\n",
       "      <td>2020-05-09 01</td>\n",
       "      <td>0.0</td>\n",
       "    </tr>\n",
       "    <tr>\n",
       "      <th>2</th>\n",
       "      <td>2020-05-09 02</td>\n",
       "      <td>0.0</td>\n",
       "    </tr>\n",
       "    <tr>\n",
       "      <th>3</th>\n",
       "      <td>2020-05-09 03</td>\n",
       "      <td>0.0</td>\n",
       "    </tr>\n",
       "    <tr>\n",
       "      <th>4</th>\n",
       "      <td>2020-05-09 04</td>\n",
       "      <td>0.0</td>\n",
       "    </tr>\n",
       "    <tr>\n",
       "      <th>...</th>\n",
       "      <td>...</td>\n",
       "      <td>...</td>\n",
       "    </tr>\n",
       "    <tr>\n",
       "      <th>9307</th>\n",
       "      <td>2021-06-01 19</td>\n",
       "      <td>0.0</td>\n",
       "    </tr>\n",
       "    <tr>\n",
       "      <th>9308</th>\n",
       "      <td>2021-06-01 20</td>\n",
       "      <td>0.0</td>\n",
       "    </tr>\n",
       "    <tr>\n",
       "      <th>9309</th>\n",
       "      <td>2021-06-01 21</td>\n",
       "      <td>0.0</td>\n",
       "    </tr>\n",
       "    <tr>\n",
       "      <th>9310</th>\n",
       "      <td>2021-06-01 22</td>\n",
       "      <td>0.0</td>\n",
       "    </tr>\n",
       "    <tr>\n",
       "      <th>9311</th>\n",
       "      <td>2021-06-01 23</td>\n",
       "      <td>0.0</td>\n",
       "    </tr>\n",
       "  </tbody>\n",
       "</table>\n",
       "<p>9312 rows × 2 columns</p>\n",
       "</div>"
      ],
      "text/plain": [
       "         MESS_DATUM  rain (mm)\n",
       "0     2020-05-09 00        0.0\n",
       "1     2020-05-09 01        0.0\n",
       "2     2020-05-09 02        0.0\n",
       "3     2020-05-09 03        0.0\n",
       "4     2020-05-09 04        0.0\n",
       "...             ...        ...\n",
       "9307  2021-06-01 19        0.0\n",
       "9308  2021-06-01 20        0.0\n",
       "9309  2021-06-01 21        0.0\n",
       "9310  2021-06-01 22        0.0\n",
       "9311  2021-06-01 23        0.0\n",
       "\n",
       "[9312 rows x 2 columns]"
      ]
     },
     "execution_count": 14,
     "metadata": {},
     "output_type": "execute_result"
    }
   ],
   "source": [
    "for x in range(len(rain_file)):\n",
    "    o = rain_file[\"MESS_DATUM\"][x]\n",
    "    result = o[:4] + \"-\" + o[4:6] + \"-\" + o[6:8] + \" \" + o[8:]\n",
    "    rain_file[\"MESS_DATUM\"][x] = result\n",
    "rain_file"
   ]
  },
  {
   "cell_type": "code",
   "execution_count": 15,
   "id": "a37b2962",
   "metadata": {},
   "outputs": [],
   "source": [
    "df[\"date_formated\"] = df[\"created_at\"].str[0:13]"
   ]
  },
  {
   "cell_type": "code",
   "execution_count": 16,
   "id": "e8f2a64f",
   "metadata": {},
   "outputs": [
    {
     "data": {
      "text/plain": [
       "'2021-05-08 20'"
      ]
     },
     "execution_count": 16,
     "metadata": {},
     "output_type": "execute_result"
    }
   ],
   "source": [
    "df[\"date_formated\"][0]"
   ]
  },
  {
   "cell_type": "code",
   "execution_count": 17,
   "id": "7027b561",
   "metadata": {
    "scrolled": false
   },
   "outputs": [],
   "source": [
    "df = df.join(rain_file.set_index('MESS_DATUM'), on='date_formated')"
   ]
  },
  {
   "cell_type": "code",
   "execution_count": 18,
   "id": "cccb8f8f",
   "metadata": {},
   "outputs": [
    {
     "name": "stderr",
     "output_type": "stream",
     "text": [
      "<ipython-input-18-a8d4f24ebc5f>:9: SettingWithCopyWarning: \n",
      "A value is trying to be set on a copy of a slice from a DataFrame\n",
      "\n",
      "See the caveats in the documentation: https://pandas.pydata.org/pandas-docs/stable/user_guide/indexing.html#returning-a-view-versus-a-copy\n",
      "  df[\"rain (mm)\"][x] = 0.0\n",
      "<ipython-input-18-a8d4f24ebc5f>:6: SettingWithCopyWarning: \n",
      "A value is trying to be set on a copy of a slice from a DataFrame\n",
      "\n",
      "See the caveats in the documentation: https://pandas.pydata.org/pandas-docs/stable/user_guide/indexing.html#returning-a-view-versus-a-copy\n",
      "  df[\"rain (mm)\"][x] = 0.0\n"
     ]
    },
    {
     "data": {
      "text/html": [
       "<div>\n",
       "<style scoped>\n",
       "    .dataframe tbody tr th:only-of-type {\n",
       "        vertical-align: middle;\n",
       "    }\n",
       "\n",
       "    .dataframe tbody tr th {\n",
       "        vertical-align: top;\n",
       "    }\n",
       "\n",
       "    .dataframe thead th {\n",
       "        text-align: right;\n",
       "    }\n",
       "</style>\n",
       "<table border=\"1\" class=\"dataframe\">\n",
       "  <thead>\n",
       "    <tr style=\"text-align: right;\">\n",
       "      <th></th>\n",
       "      <th>id</th>\n",
       "      <th>deveui</th>\n",
       "      <th>created_at</th>\n",
       "      <th>is_holiday</th>\n",
       "      <th>date_formated</th>\n",
       "      <th>rain (mm)</th>\n",
       "    </tr>\n",
       "  </thead>\n",
       "  <tbody>\n",
       "    <tr>\n",
       "      <th>0</th>\n",
       "      <td>4110576</td>\n",
       "      <td>70B3D500700016DA</td>\n",
       "      <td>2021-05-08 20:26:00.596017</td>\n",
       "      <td>0</td>\n",
       "      <td>2021-05-08 20</td>\n",
       "      <td>0.0</td>\n",
       "    </tr>\n",
       "    <tr>\n",
       "      <th>1</th>\n",
       "      <td>4110093</td>\n",
       "      <td>70B3D500700016DA</td>\n",
       "      <td>2021-05-08 19:26:05.713448</td>\n",
       "      <td>0</td>\n",
       "      <td>2021-05-08 19</td>\n",
       "      <td>0.0</td>\n",
       "    </tr>\n",
       "    <tr>\n",
       "      <th>2</th>\n",
       "      <td>4109607</td>\n",
       "      <td>70B3D500700016DA</td>\n",
       "      <td>2021-05-08 18:25:59.323267</td>\n",
       "      <td>0</td>\n",
       "      <td>2021-05-08 18</td>\n",
       "      <td>0.0</td>\n",
       "    </tr>\n",
       "    <tr>\n",
       "      <th>3</th>\n",
       "      <td>4109118</td>\n",
       "      <td>70B3D500700016DA</td>\n",
       "      <td>2021-05-08 17:25:59.523137</td>\n",
       "      <td>0</td>\n",
       "      <td>2021-05-08 17</td>\n",
       "      <td>0.0</td>\n",
       "    </tr>\n",
       "    <tr>\n",
       "      <th>4</th>\n",
       "      <td>4108627</td>\n",
       "      <td>70B3D500700016DA</td>\n",
       "      <td>2021-05-08 16:25:59.577446</td>\n",
       "      <td>0</td>\n",
       "      <td>2021-05-08 16</td>\n",
       "      <td>0.0</td>\n",
       "    </tr>\n",
       "    <tr>\n",
       "      <th>...</th>\n",
       "      <td>...</td>\n",
       "      <td>...</td>\n",
       "      <td>...</td>\n",
       "      <td>...</td>\n",
       "      <td>...</td>\n",
       "      <td>...</td>\n",
       "    </tr>\n",
       "    <tr>\n",
       "      <th>515032</th>\n",
       "      <td>598759</td>\n",
       "      <td>70B3D50070001789</td>\n",
       "      <td>2020-05-09 04:50:15.056761</td>\n",
       "      <td>0</td>\n",
       "      <td>2020-05-09 04</td>\n",
       "      <td>0.0</td>\n",
       "    </tr>\n",
       "    <tr>\n",
       "      <th>515033</th>\n",
       "      <td>598510</td>\n",
       "      <td>70B3D50070001789</td>\n",
       "      <td>2020-05-09 03:50:15.256986</td>\n",
       "      <td>0</td>\n",
       "      <td>2020-05-09 03</td>\n",
       "      <td>0.0</td>\n",
       "    </tr>\n",
       "    <tr>\n",
       "      <th>515034</th>\n",
       "      <td>598261</td>\n",
       "      <td>70B3D50070001789</td>\n",
       "      <td>2020-05-09 02:50:15.408009</td>\n",
       "      <td>0</td>\n",
       "      <td>2020-05-09 02</td>\n",
       "      <td>0.0</td>\n",
       "    </tr>\n",
       "    <tr>\n",
       "      <th>515035</th>\n",
       "      <td>598017</td>\n",
       "      <td>70B3D50070001789</td>\n",
       "      <td>2020-05-09 01:50:15.558981</td>\n",
       "      <td>0</td>\n",
       "      <td>2020-05-09 01</td>\n",
       "      <td>0.0</td>\n",
       "    </tr>\n",
       "    <tr>\n",
       "      <th>515036</th>\n",
       "      <td>597775</td>\n",
       "      <td>70B3D50070001789</td>\n",
       "      <td>2020-05-09 00:50:15.726339</td>\n",
       "      <td>0</td>\n",
       "      <td>2020-05-09 00</td>\n",
       "      <td>0.0</td>\n",
       "    </tr>\n",
       "  </tbody>\n",
       "</table>\n",
       "<p>515037 rows × 6 columns</p>\n",
       "</div>"
      ],
      "text/plain": [
       "             id            deveui                  created_at  is_holiday  \\\n",
       "0       4110576  70B3D500700016DA  2021-05-08 20:26:00.596017           0   \n",
       "1       4110093  70B3D500700016DA  2021-05-08 19:26:05.713448           0   \n",
       "2       4109607  70B3D500700016DA  2021-05-08 18:25:59.323267           0   \n",
       "3       4109118  70B3D500700016DA  2021-05-08 17:25:59.523137           0   \n",
       "4       4108627  70B3D500700016DA  2021-05-08 16:25:59.577446           0   \n",
       "...         ...               ...                         ...         ...   \n",
       "515032   598759  70B3D50070001789  2020-05-09 04:50:15.056761           0   \n",
       "515033   598510  70B3D50070001789  2020-05-09 03:50:15.256986           0   \n",
       "515034   598261  70B3D50070001789  2020-05-09 02:50:15.408009           0   \n",
       "515035   598017  70B3D50070001789  2020-05-09 01:50:15.558981           0   \n",
       "515036   597775  70B3D50070001789  2020-05-09 00:50:15.726339           0   \n",
       "\n",
       "        date_formated  rain (mm)  \n",
       "0       2021-05-08 20        0.0  \n",
       "1       2021-05-08 19        0.0  \n",
       "2       2021-05-08 18        0.0  \n",
       "3       2021-05-08 17        0.0  \n",
       "4       2021-05-08 16        0.0  \n",
       "...               ...        ...  \n",
       "515032  2020-05-09 04        0.0  \n",
       "515033  2020-05-09 03        0.0  \n",
       "515034  2020-05-09 02        0.0  \n",
       "515035  2020-05-09 01        0.0  \n",
       "515036  2020-05-09 00        0.0  \n",
       "\n",
       "[515037 rows x 6 columns]"
      ]
     },
     "execution_count": 18,
     "metadata": {},
     "output_type": "execute_result"
    }
   ],
   "source": [
    "# rain file contains 69 empty or -999.0 values\n",
    "# setting them to 0.0\n",
    "\n",
    "for x in range(len(df)):\n",
    "    if pd.isnull(df[\"rain (mm)\"].iloc[x]):\n",
    "        df[\"rain (mm)\"][x] = 0.0\n",
    "    else:\n",
    "        if df[\"rain (mm)\"][x] == -999.0:\n",
    "            df[\"rain (mm)\"][x] = 0.0\n",
    "\n",
    "df"
   ]
  },
  {
   "cell_type": "markdown",
   "id": "c27be8f0",
   "metadata": {},
   "source": [
    "# Visualisierung des Niederschlags eines Containers"
   ]
  },
  {
   "cell_type": "code",
   "execution_count": 19,
   "id": "370e3b29",
   "metadata": {},
   "outputs": [
    {
     "data": {
      "text/plain": [
       "100"
      ]
     },
     "execution_count": 19,
     "metadata": {},
     "output_type": "execute_result"
    }
   ],
   "source": [
    "snapshot = df.loc[df[\"deveui\"] == \"70B3D500700016DA\"]\n",
    "date = snapshot[\"created_at\"].tolist()[0:100]\n",
    "rain = snapshot[\"rain (mm)\"].tolist()[0:100]\n",
    "len(date)"
   ]
  },
  {
   "cell_type": "code",
   "execution_count": 24,
   "id": "33e6c7f0",
   "metadata": {},
   "outputs": [
    {
     "data": {
      "text/plain": [
       "1.9"
      ]
     },
     "execution_count": 24,
     "metadata": {},
     "output_type": "execute_result"
    }
   ],
   "source": [
    "max(rain)"
   ]
  },
  {
   "cell_type": "code",
   "execution_count": 21,
   "id": "b845461a",
   "metadata": {},
   "outputs": [
    {
     "data": {
      "image/png": "[encoded data removed]",
      "text/plain": [
       "<Figure size 720x576 with 1 Axes>"
      ]
     },
     "metadata": {
      "needs_background": "light"
     },
     "output_type": "display_data"
    }
   ],
   "source": [
    "plt.figure(figsize=(10,8))\n",
    "plt.plot(date, rain)\n",
    "\n",
    "plt.xticks(fontsize=8, rotation=90)\n",
    "plt.yticks(fontsize=10)\n",
    "\n",
    "plt.show()"
   ]
  },
  {
   "cell_type": "code",
   "execution_count": 22,
   "id": "40006653",
   "metadata": {},
   "outputs": [],
   "source": [
    "df = df.drop(columns=[\"created_at\", \"date_formated\"])"
   ]
  },
  {
   "cell_type": "code",
   "execution_count": 23,
   "id": "4740b216",
   "metadata": {},
   "outputs": [],
   "source": [
    "df.to_csv(os.path.join(srcDir, \"augmented_data.csv\"), index=False)"
   ]
  }
 ],
 "metadata": {
  "kernelspec": {
   "display_name": "chally",
   "language": "python",
   "name": "chally"
  },
  "language_info": {
   "codemirror_mode": {
    "name": "ipython",
    "version": 3
   },
   "file_extension": ".py",
   "mimetype": "text/x-python",
   "name": "python",
   "nbconvert_exporter": "python",
   "pygments_lexer": "ipython3",
   "version": "3.8.5"
  }
 },
 "nbformat": 4,
 "nbformat_minor": 5
}
