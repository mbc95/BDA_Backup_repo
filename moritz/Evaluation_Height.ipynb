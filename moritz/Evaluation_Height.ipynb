{
 "cells": [
  {
   "cell_type": "code",
   "execution_count": 1,
   "id": "96222f2d",
   "metadata": {},
   "outputs": [],
   "source": [
    "import pandas as pd\n",
    "import json as json\n",
    "from pandas import json_normalize\n",
    "import os\n",
    "import numpy as np\n",
    "import csv\n",
    "from matplotlib import pyplot as plt\n",
    "\n",
    "import keras\n",
    "import tensorflow as tf\n",
    "from keras.layers import Input, Flatten, Dense, Lambda, Reshape, Dropout\n",
    "from keras.layers import BatchNormalization\n",
    "from keras.models import Model\n",
    "from keras.losses import binary_crossentropy\n",
    "from keras.metrics import mse, accuracy\n",
    "from keras.callbacks import ReduceLROnPlateau\n",
    "from keras import backend as K\n",
    "\n",
    "keras.backend.clear_session()\n",
    "\n",
    "\n",
    "srcDir = \"../data/preprocessed/\"\n",
    "model_path = srcDir + \"models/model_future/\""
   ]
  },
  {
   "cell_type": "markdown",
   "id": "7fb678e5",
   "metadata": {},
   "source": [
    "# Height Eval"
   ]
  },
  {
   "cell_type": "code",
   "execution_count": 2,
   "id": "3a7075a1",
   "metadata": {},
   "outputs": [],
   "source": [
    "fc_model = keras.models.load_model(model_path + \"model\")"
   ]
  },
  {
   "cell_type": "code",
   "execution_count": 3,
   "id": "e139410d",
   "metadata": {},
   "outputs": [
    {
     "data": {
      "text/html": [
       "<div>\n",
       "<style scoped>\n",
       "    .dataframe tbody tr th:only-of-type {\n",
       "        vertical-align: middle;\n",
       "    }\n",
       "\n",
       "    .dataframe tbody tr th {\n",
       "        vertical-align: top;\n",
       "    }\n",
       "\n",
       "    .dataframe thead th {\n",
       "        text-align: right;\n",
       "    }\n",
       "</style>\n",
       "<table border=\"1\" class=\"dataframe\">\n",
       "  <thead>\n",
       "    <tr style=\"text-align: right;\">\n",
       "      <th></th>\n",
       "      <th>height_in_cm</th>\n",
       "      <th>temperatur_in_grad</th>\n",
       "      <th>tilt_in_grad</th>\n",
       "      <th>niederschlag_in_mm</th>\n",
       "      <th>laengengrad</th>\n",
       "      <th>breitengrad</th>\n",
       "      <th>ist_industriegebiet</th>\n",
       "      <th>ist_wohngebiet</th>\n",
       "      <th>ist_feiertag</th>\n",
       "      <th>sekunde</th>\n",
       "      <th>minute</th>\n",
       "      <th>stunde</th>\n",
       "      <th>wochentag</th>\n",
       "      <th>kalenderwoche</th>\n",
       "      <th>monat</th>\n",
       "      <th>jahr</th>\n",
       "      <th>farbe_brown</th>\n",
       "      <th>farbe_green</th>\n",
       "      <th>farbe_white</th>\n",
       "      <th>container_Id</th>\n",
       "    </tr>\n",
       "  </thead>\n",
       "  <tbody>\n",
       "    <tr>\n",
       "      <th>0</th>\n",
       "      <td>0.8</td>\n",
       "      <td>0.21212122</td>\n",
       "      <td>0.0043668123</td>\n",
       "      <td>0.0</td>\n",
       "      <td>0.9998518</td>\n",
       "      <td>0.9930974</td>\n",
       "      <td>0.0</td>\n",
       "      <td>1.0</td>\n",
       "      <td>0.0</td>\n",
       "      <td>0.0</td>\n",
       "      <td>0.44067797</td>\n",
       "      <td>0.8695652</td>\n",
       "      <td>0.8333333</td>\n",
       "      <td>0.33962265</td>\n",
       "      <td>0.41666666</td>\n",
       "      <td>1.0</td>\n",
       "      <td>0.0</td>\n",
       "      <td>0.0</td>\n",
       "      <td>1.0</td>\n",
       "      <td>1.0</td>\n",
       "    </tr>\n",
       "    <tr>\n",
       "      <th>1</th>\n",
       "      <td>0.8</td>\n",
       "      <td>0.25757575</td>\n",
       "      <td>0.0043668123</td>\n",
       "      <td>0.0</td>\n",
       "      <td>0.9998518</td>\n",
       "      <td>0.9930974</td>\n",
       "      <td>0.0</td>\n",
       "      <td>1.0</td>\n",
       "      <td>0.0</td>\n",
       "      <td>0.084745765</td>\n",
       "      <td>0.44067797</td>\n",
       "      <td>0.82608694</td>\n",
       "      <td>0.8333333</td>\n",
       "      <td>0.33962265</td>\n",
       "      <td>0.41666666</td>\n",
       "      <td>1.0</td>\n",
       "      <td>0.0</td>\n",
       "      <td>0.0</td>\n",
       "      <td>1.0</td>\n",
       "      <td>1.0</td>\n",
       "    </tr>\n",
       "    <tr>\n",
       "      <th>2</th>\n",
       "      <td>0.7714286</td>\n",
       "      <td>0.22727273</td>\n",
       "      <td>0.0</td>\n",
       "      <td>0.0</td>\n",
       "      <td>0.9998518</td>\n",
       "      <td>0.9930974</td>\n",
       "      <td>0.0</td>\n",
       "      <td>1.0</td>\n",
       "      <td>0.0</td>\n",
       "      <td>1.0</td>\n",
       "      <td>0.42372882</td>\n",
       "      <td>0.7826087</td>\n",
       "      <td>0.8333333</td>\n",
       "      <td>0.33962265</td>\n",
       "      <td>0.41666666</td>\n",
       "      <td>1.0</td>\n",
       "      <td>0.0</td>\n",
       "      <td>0.0</td>\n",
       "      <td>1.0</td>\n",
       "      <td>1.0</td>\n",
       "    </tr>\n",
       "    <tr>\n",
       "      <th>3</th>\n",
       "      <td>0.9</td>\n",
       "      <td>0.28787878</td>\n",
       "      <td>0.0043668123</td>\n",
       "      <td>0.0</td>\n",
       "      <td>0.9998518</td>\n",
       "      <td>0.9930974</td>\n",
       "      <td>0.0</td>\n",
       "      <td>1.0</td>\n",
       "      <td>0.0</td>\n",
       "      <td>1.0</td>\n",
       "      <td>0.42372882</td>\n",
       "      <td>0.73913044</td>\n",
       "      <td>0.8333333</td>\n",
       "      <td>0.33962265</td>\n",
       "      <td>0.41666666</td>\n",
       "      <td>1.0</td>\n",
       "      <td>0.0</td>\n",
       "      <td>0.0</td>\n",
       "      <td>1.0</td>\n",
       "      <td>1.0</td>\n",
       "    </tr>\n",
       "    <tr>\n",
       "      <th>4</th>\n",
       "      <td>0.8428571</td>\n",
       "      <td>0.3030303</td>\n",
       "      <td>0.0</td>\n",
       "      <td>0.0</td>\n",
       "      <td>0.9998518</td>\n",
       "      <td>0.9930974</td>\n",
       "      <td>0.0</td>\n",
       "      <td>1.0</td>\n",
       "      <td>0.0</td>\n",
       "      <td>1.0</td>\n",
       "      <td>0.42372882</td>\n",
       "      <td>0.6956522</td>\n",
       "      <td>0.8333333</td>\n",
       "      <td>0.33962265</td>\n",
       "      <td>0.41666666</td>\n",
       "      <td>1.0</td>\n",
       "      <td>0.0</td>\n",
       "      <td>0.0</td>\n",
       "      <td>1.0</td>\n",
       "      <td>1.0</td>\n",
       "    </tr>\n",
       "  </tbody>\n",
       "</table>\n",
       "</div>"
      ],
      "text/plain": [
       "  height_in_cm temperatur_in_grad  tilt_in_grad niederschlag_in_mm  \\\n",
       "0          0.8         0.21212122  0.0043668123                0.0   \n",
       "1          0.8         0.25757575  0.0043668123                0.0   \n",
       "2    0.7714286         0.22727273           0.0                0.0   \n",
       "3          0.9         0.28787878  0.0043668123                0.0   \n",
       "4    0.8428571          0.3030303           0.0                0.0   \n",
       "\n",
       "  laengengrad breitengrad ist_industriegebiet ist_wohngebiet ist_feiertag  \\\n",
       "0   0.9998518   0.9930974                 0.0            1.0          0.0   \n",
       "1   0.9998518   0.9930974                 0.0            1.0          0.0   \n",
       "2   0.9998518   0.9930974                 0.0            1.0          0.0   \n",
       "3   0.9998518   0.9930974                 0.0            1.0          0.0   \n",
       "4   0.9998518   0.9930974                 0.0            1.0          0.0   \n",
       "\n",
       "       sekunde      minute      stunde  wochentag kalenderwoche       monat  \\\n",
       "0          0.0  0.44067797   0.8695652  0.8333333    0.33962265  0.41666666   \n",
       "1  0.084745765  0.44067797  0.82608694  0.8333333    0.33962265  0.41666666   \n",
       "2          1.0  0.42372882   0.7826087  0.8333333    0.33962265  0.41666666   \n",
       "3          1.0  0.42372882  0.73913044  0.8333333    0.33962265  0.41666666   \n",
       "4          1.0  0.42372882   0.6956522  0.8333333    0.33962265  0.41666666   \n",
       "\n",
       "  jahr farbe_brown farbe_green farbe_white container_Id  \n",
       "0  1.0         0.0         0.0         1.0          1.0  \n",
       "1  1.0         0.0         0.0         1.0          1.0  \n",
       "2  1.0         0.0         0.0         1.0          1.0  \n",
       "3  1.0         0.0         0.0         1.0          1.0  \n",
       "4  1.0         0.0         0.0         1.0          1.0  "
      ]
     },
     "execution_count": 3,
     "metadata": {},
     "output_type": "execute_result"
    }
   ],
   "source": [
    "# Load cleaned data\n",
    "with open(srcDir + \"cleaned_data_normalized.csv\", 'r') as f:\n",
    "    data = list(csv.reader(f))\n",
    "\n",
    "df = pd.DataFrame(data[1:], columns=data[0])\n",
    "df = df.drop(columns=[\"height_delta\", \"height_increase\", \"datum\"])\n",
    "df[\"container_Id\"] = df[\"container_id\"]\n",
    "df.drop(columns=[\"container_id\"], inplace=True)\n",
    "data = df.values.tolist()\n",
    "df.head()"
   ]
  },
  {
   "cell_type": "code",
   "execution_count": 4,
   "id": "1cffbbb0",
   "metadata": {},
   "outputs": [],
   "source": [
    "data = np.array(data[1:]).astype(\"float32\")"
   ]
  },
  {
   "cell_type": "code",
   "execution_count": 5,
   "id": "248ace92",
   "metadata": {},
   "outputs": [
    {
     "data": {
      "text/plain": [
       "(515036,)"
      ]
     },
     "execution_count": 5,
     "metadata": {},
     "output_type": "execute_result"
    }
   ],
   "source": [
    "x_test = data[:, 0]\n",
    "x_test.shape"
   ]
  },
  {
   "cell_type": "code",
   "execution_count": 6,
   "id": "6102ce21",
   "metadata": {},
   "outputs": [
    {
     "data": {
      "text/plain": [
       "(515036, 19)"
      ]
     },
     "execution_count": 6,
     "metadata": {},
     "output_type": "execute_result"
    }
   ],
   "source": [
    "x_train = data[:, 1:]\n",
    "x_train.shape"
   ]
  },
  {
   "cell_type": "code",
   "execution_count": 7,
   "id": "69da80b8",
   "metadata": {},
   "outputs": [],
   "source": [
    "# 254 is max height\n",
    "\n",
    "def prediction(index):\n",
    "    data_point = np.array([x_train[index]])\n",
    "    pred_height = fc_model.predict(data_point)[0][0] * 254\n",
    "    real_height = x_test[index] * 254\n",
    "    \n",
    "    print(\"Real value: \", real_height, \" estimated: \", pred_height)\n",
    "    \n",
    "def prediction_Plot(train, test, num):\n",
    "    index_list = np.linspace(0, len(train)-1, num).astype(\"int\")\n",
    "    #print(index_list)\n",
    "    pred_list = []\n",
    "    sum_heigth = 0.0\n",
    "    for x in index_list:\n",
    "        data_point = np.array([train[x]])\n",
    "        pred_height = fc_model.predict(data_point)[0][0] * 254\n",
    "        real_height = test[x] * 254\n",
    "        pred_list.append(abs(pred_height - real_height))\n",
    "        sum_heigth = sum_heigth + abs(pred_height - real_height)\n",
    "        \n",
    "    print(\"Average absolute error in \", num, \" data points: \" , sum_heigth / num)\n",
    "    plt.plot(pred_list)\n",
    "    plt.ylabel('total Error')\n",
    "    plt.savefig(model_path + \"plots/predcition_plot.svg\")\n",
    "    plt.show()"
   ]
  },
  {
   "cell_type": "code",
   "execution_count": 8,
   "id": "fe7c5882",
   "metadata": {},
   "outputs": [
    {
     "name": "stdout",
     "output_type": "stream",
     "text": [
      "Real value:  214.08570909500122  estimated:  211.30260014533997\n"
     ]
    }
   ],
   "source": [
    "prediction(43357)"
   ]
  },
  {
   "cell_type": "code",
   "execution_count": 9,
   "id": "60b41090",
   "metadata": {},
   "outputs": [
    {
     "name": "stdout",
     "output_type": "stream",
     "text": [
      "Average absolute error in  1000  data points:  30.69489640473202\n"
     ]
    },
    {
     "data": {
      "image/png": "[encoded data removed]",
      "text/plain": [
       "<Figure size 432x288 with 1 Axes>"
      ]
     },
     "metadata": {
      "needs_background": "light"
     },
     "output_type": "display_data"
    }
   ],
   "source": [
    "prediction_Plot(x_train, x_test, 1000)"
   ]
  },
  {
   "cell_type": "code",
   "execution_count": 10,
   "id": "78aed522",
   "metadata": {},
   "outputs": [],
   "source": [
    "# zeigt den geschätzten Füllhöhenverlauf\n",
    "# c_id = nummer vom Container (0-77)\n",
    "# size = wie viele messungen gezeigt werden sollen\n",
    "\n",
    "def estimate_container(df, c_id, size, save):\n",
    "    intrest_x = []\n",
    "    intrest_y = []\n",
    "    c_id = float(c_id)\n",
    "    \n",
    "    for x in range(len(df)):\n",
    "        if df[\"container_Id\"][x] == str(c_id):\n",
    "            intrest_x.append(x_train[x])\n",
    "            intrest_y.append(x_test[x])\n",
    "            \n",
    "            if size < len(intrest_x):\n",
    "                break\n",
    "            \n",
    "    height = []\n",
    "    estimation = []\n",
    "\n",
    "    for x in range(len(intrest_x)):\n",
    "        data_point = np.array([intrest_x[x]])\n",
    "        pred_height = fc_model.predict(data_point)[0][0] * 254\n",
    "        estimation.append(pred_height)\n",
    "        real_height = intrest_y[x] * 254\n",
    "        height.append(real_height)\n",
    "\n",
    "\n",
    "    plt.plot(height)\n",
    "    plt.plot(estimation)\n",
    "    plt.legend([\"real\", \"estimated\"], loc=\"upper left\")\n",
    "    if save:\n",
    "        plt.savefig(model_path + \"plots/Container_\" + str(c_id + 1) + \".svg\")\n",
    "        plt.close()\n",
    "    else:\n",
    "        plt.show()\n",
    "        plt.close()"
   ]
  },
  {
   "cell_type": "code",
   "execution_count": 11,
   "id": "5b679357",
   "metadata": {},
   "outputs": [],
   "source": [
    "# für alle n = 76\n",
    "#for x in range(76):\n",
    "#    estimate_container(df,x,2000, True)"
   ]
  },
  {
   "cell_type": "code",
   "execution_count": 12,
   "id": "5176d0d4",
   "metadata": {},
   "outputs": [],
   "source": [
    "estimate_container(df,4,1000, True)"
   ]
  },
  {
   "cell_type": "code",
   "execution_count": null,
   "id": "60142025",
   "metadata": {},
   "outputs": [],
   "source": []
  },
  {
   "cell_type": "code",
   "execution_count": null,
   "id": "48056a8a",
   "metadata": {},
   "outputs": [],
   "source": []
  }
 ],
 "metadata": {
  "kernelspec": {
   "display_name": "chally_ai",
   "language": "python",
   "name": "chally_ai"
  },
  "language_info": {
   "codemirror_mode": {
    "name": "ipython",
    "version": 3
   },
   "file_extension": ".py",
   "mimetype": "text/x-python",
   "name": "python",
   "nbconvert_exporter": "python",
   "pygments_lexer": "ipython3",
   "version": "3.8.5"
  }
 },
 "nbformat": 4,
 "nbformat_minor": 5
}
