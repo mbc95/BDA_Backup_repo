{
 "cells": [
  {
   "cell_type": "code",
   "execution_count": 1,
   "metadata": {},
   "outputs": [],
   "source": [
    "import pandas as pd\n",
    "pd.set_option('display.max_columns', None)\n",
    "pd.set_option('display.max_colwidth', 20000)\n",
    "pd.options.mode.chained_assignment = None #Ignore Error: SettingWithCopyWarning\n",
    "import math\n",
    "import matplotlib.pyplot as plt\n",
    "import numpy as np\n",
    "from keras.models import Sequential\n",
    "from keras.layers import Dense\n",
    "from keras.layers import LSTM\n",
    "from keras.layers import Dropout\n",
    "from keras.layers import *\n",
    "from keras.callbacks import LearningRateScheduler\n",
    "from sklearn.preprocessing import MinMaxScaler\n",
    "from sklearn.metrics import mean_squared_error\n",
    "from sklearn.metrics import mean_absolute_error\n",
    "from sklearn.model_selection import train_test_split\n",
    "from keras.callbacks import EarlyStopping\n",
    "import os\n",
    "import keras\n",
    "import tensorflow as tf\n",
    "from keras.layers import Input, Flatten, Dense, Lambda, Reshape, Dropout\n",
    "from keras.layers import BatchNormalization\n",
    "from keras.models import Model\n",
    "from keras.losses import binary_crossentropy\n",
    "from keras.metrics import mse, accuracy\n",
    "from keras.callbacks import ReduceLROnPlateau\n",
    "from keras import backend as K\n",
    "\n",
    "keras.backend.clear_session()"
   ]
  },
  {
   "cell_type": "markdown",
   "metadata": {},
   "source": [
    "# Load the data"
   ]
  },
  {
   "cell_type": "code",
   "execution_count": 2,
   "metadata": {},
   "outputs": [],
   "source": [
    "#df = pd.read_csv('../data/preprocessed/cleaned_data_v7.csv', delimiter=\",\")\n",
    "df = pd.read_csv('../data/preprocessed/cleaned_data_v8.csv', delimiter=\",\")\n",
    "\n",
    "key_list = df.keys().tolist()\n",
    "\n",
    "for x in range(len(key_list)):\n",
    "    if not df.columns[x] == \"datum\":\n",
    "        if not df.columns[x] == \"container_id\":\n",
    "            df = df.astype({key_list[x]: \"float32\"})"
   ]
  },
  {
   "cell_type": "markdown",
   "metadata": {},
   "source": [
    "# Delete unwanted data; cast datetime"
   ]
  },
  {
   "cell_type": "code",
   "execution_count": 3,
   "metadata": {},
   "outputs": [],
   "source": [
    "df = df.drop(columns=[\"height_in_cm\"])\n",
    "\n",
    "# set date as index ancd convert to float\n",
    "df['datum'] = pd.to_datetime(df['datum'])\n",
    "df = df.set_index(df['datum'])\n",
    "df = df.sort_index()\n",
    "df['datum_float'] = df['datum'].values.astype(float)"
   ]
  },
  {
   "cell_type": "markdown",
   "metadata": {},
   "source": [
    "# Split into train/test"
   ]
  },
  {
   "cell_type": "code",
   "execution_count": 4,
   "metadata": {},
   "outputs": [
    {
     "name": "stdout",
     "output_type": "stream",
     "text": [
      "Train Dataset: (5501, 25)\n",
      "Test Dataset: (1805, 25)\n"
     ]
    }
   ],
   "source": [
    "# create train test partition\n",
    "training_set = df['2020-05-09 00:00:00':'2021-01-29 23:59:59']\n",
    "test_set  = df['2021-01-30 00:00:00':]\n",
    "container_number = 1\n",
    "training_set = training_set[training_set['container_id']==container_number]\n",
    "test_set = test_set[test_set['container_id']==container_number]\n",
    "print('Train Dataset:',training_set.shape)\n",
    "print('Test Dataset:',test_set.shape)"
   ]
  },
  {
   "cell_type": "code",
   "execution_count": 5,
   "metadata": {},
   "outputs": [],
   "source": [
    "y_training_set = pd.DataFrame(training_set[\"hight_delta\"].values.tolist(), columns=[\"hight_delta\"])\n",
    "training_set = training_set.drop(columns=[\"hight_delta\", \"datum\"])\n",
    "####\n",
    "y_test_set = pd.DataFrame(test_set[\"hight_delta\"].values.tolist(), columns=[\"hight_delta\"])\n",
    "test_set = test_set.drop(columns=[\"hight_delta\", \"datum\"])"
   ]
  },
  {
   "cell_type": "code",
   "execution_count": 6,
   "metadata": {},
   "outputs": [
    {
     "data": {
      "text/plain": [
       "Index(['container_id', 'temperatur_in_grad', 'aussentemperatur',\n",
       "       'niederschlag_in_mm', 'ist_industriegebiet', 'ist_wohngebiet',\n",
       "       'ist_feiertag', 'sekunde', 'minute', 'stunde', 'wochentag',\n",
       "       'kalenderwoche', 'monat', 'jahr', 'farbe_brown', 'farbe_green',\n",
       "       'farbe_white', 'unix_time', 'time_delta', 'ist_ferien', 'laengengrad',\n",
       "       'breitengrad', 'datum_float'],\n",
       "      dtype='object')"
      ]
     },
     "execution_count": 6,
     "metadata": {},
     "output_type": "execute_result"
    }
   ],
   "source": [
    "training_set.keys()"
   ]
  },
  {
   "cell_type": "markdown",
   "metadata": {},
   "source": [
    "# Prepare the training data"
   ]
  },
  {
   "cell_type": "code",
   "execution_count": 7,
   "metadata": {},
   "outputs": [],
   "source": [
    "#https://towardsdatascience.com/lstm-time-series-forecasting-predicting-stock-prices-using-an-lstm-model-6223e9644a2f\n",
    "#https://analyticsindiamag.com/hands-on-guide-to-lstm-recurrent-neural-network-for-stock-market-prediction/\n",
    "# Feature Scaling\n",
    "\n",
    "# ****************** START TUNING *************\n",
    "timelag = 6 #10\n",
    "epochs_number = 200 #10\n",
    "batch_size_number = 16 #32\n",
    "\n",
    "\n",
    "# ****************** END TUNING *************\n",
    "\n",
    "train_set = training_set.iloc[:,:].values\n",
    "y_train_set = y_training_set.iloc[:,:].values\n",
    "\n",
    "sc = MinMaxScaler(feature_range = (0, 1))\n",
    "sc1 = MinMaxScaler(feature_range = (0, 1))\n",
    "training_set_scaled = sc.fit_transform(train_set)\n",
    "y_train_set_scaled = sc1.fit_transform(y_train_set)\n",
    "\n",
    "X_train = []\n",
    "y_train = []\n",
    "for i in range(timelag, len(training_set)-1):\n",
    "    X_train.append(training_set_scaled[i-timelag:i, :])\n",
    "    y_train.append(y_train_set_scaled[i-1, 0]) \n",
    "X_train, y_train = np.array(X_train), np.array(y_train)"
   ]
  },
  {
   "cell_type": "code",
   "execution_count": 8,
   "metadata": {},
   "outputs": [
    {
     "data": {
      "text/plain": [
       "array([1.])"
      ]
     },
     "execution_count": 8,
     "metadata": {},
     "output_type": "execute_result"
    }
   ],
   "source": [
    "y_train_set_scaled[2]"
   ]
  },
  {
   "cell_type": "markdown",
   "metadata": {},
   "source": [
    "# Configure the model"
   ]
  },
  {
   "cell_type": "code",
   "execution_count": 9,
   "metadata": {},
   "outputs": [],
   "source": [
    "dropout = 0.2\n",
    "regressor = Sequential()\n",
    "regressor.add(LSTM(units = 50, return_sequences = True, input_shape = X_train[0].shape))\n",
    "regressor.add(Dropout(dropout))\n",
    "regressor.add(LSTM(units = 50, return_sequences = True))\n",
    "regressor.add(Dropout(dropout))\n",
    "regressor.add(LSTM(units = 50, return_sequences = True))\n",
    "regressor.add(Dropout(dropout))\n",
    "regressor.add(LSTM(units = 50, return_sequences = True))\n",
    "regressor.add(Dropout(dropout))\n",
    "regressor.add(LSTM(units = 50, return_sequences = True))\n",
    "regressor.add(Dropout(dropout))\n",
    "regressor.add(LSTM(units = 50, return_sequences = True))\n",
    "regressor.add(Dropout(dropout))\n",
    "regressor.add(LSTM(units = 50, return_sequences = True))\n",
    "regressor.add(Dropout(dropout))\n",
    "regressor.add(LSTM(units = 50))\n",
    "regressor.add(Dropout(dropout))\n",
    "# regressor.add(Dense(units = 25))\n",
    "# regressor.add(Dropout(dropout))\n",
    "regressor.add(Dense(units = 1))\n",
    "\n",
    "#first callback method\n",
    "reduce_lr = ReduceLROnPlateau(monitor=\"mean_squared_error\", factor=0.1, verbose=1,\n",
    "patience=100, min_lr=0.0000001)\n",
    "#default value lr = 0.001\n",
    "# callbacks = [reduce_lr]\n",
    "\n",
    "def lr_sched(epoch, current_lr):\n",
    "    if epoch == 700:\n",
    "        print(\"Reduced learningrate from \" + str(current_lr))\n",
    "        current_lr = current_lr * 0.1\n",
    "        print(\"To learningrate  \" + str(current_lr))\n",
    "    return current_lr\n",
    "\n",
    "change_lr = LearningRateScheduler(lr_sched)\n",
    "callbacks = [change_lr]\n",
    "\n",
    "# Second callback mehod\n",
    "#es_callback = keras.callbacks.EarlyStopping(monitor='val_loss', patience=3)"
   ]
  },
  {
   "cell_type": "markdown",
   "metadata": {},
   "source": [
    "# Train the model"
   ]
  },
  {
   "cell_type": "code",
   "execution_count": 10,
   "metadata": {
    "scrolled": true
   },
   "outputs": [
    {
     "name": "stdout",
     "output_type": "stream",
     "text": [
      "Epoch 1/200\n",
      "344/344 [==============================] - 29s 19ms/step - loss: 0.1463 - mae: 0.2365\n",
      "Epoch 2/200\n",
      "344/344 [==============================] - 7s 19ms/step - loss: 0.0087 - mae: 0.0711\n",
      "Epoch 3/200\n",
      "344/344 [==============================] - 6s 19ms/step - loss: 0.0078 - mae: 0.0658\n",
      "Epoch 4/200\n",
      "344/344 [==============================] - 7s 19ms/step - loss: 0.0081 - mae: 0.0686\n",
      "Epoch 5/200\n",
      "344/344 [==============================] - 6s 19ms/step - loss: 0.0076 - mae: 0.0641\n",
      "Epoch 6/200\n",
      "344/344 [==============================] - 7s 19ms/step - loss: 0.0069 - mae: 0.0620\n",
      "Epoch 7/200\n",
      "344/344 [==============================] - 6s 19ms/step - loss: 0.0066 - mae: 0.0602\n",
      "Epoch 8/200\n",
      "344/344 [==============================] - 6s 19ms/step - loss: 0.0062 - mae: 0.0577\n",
      "Epoch 9/200\n",
      "344/344 [==============================] - 7s 19ms/step - loss: 0.0062 - mae: 0.0564\n",
      "Epoch 10/200\n",
      "344/344 [==============================] - 6s 19ms/step - loss: 0.0061 - mae: 0.0551\n",
      "Epoch 11/200\n",
      "344/344 [==============================] - 6s 19ms/step - loss: 0.0056 - mae: 0.0535\n",
      "Epoch 12/200\n",
      "344/344 [==============================] - 6s 19ms/step - loss: 0.0048 - mae: 0.0497\n",
      "Epoch 13/200\n",
      "344/344 [==============================] - 6s 19ms/step - loss: 0.0046 - mae: 0.0477\n",
      "Epoch 14/200\n",
      "344/344 [==============================] - 6s 19ms/step - loss: 0.0047 - mae: 0.0478\n",
      "Epoch 15/200\n",
      "344/344 [==============================] - 6s 19ms/step - loss: 0.0049 - mae: 0.0466\n",
      "Epoch 16/200\n",
      "344/344 [==============================] - 7s 19ms/step - loss: 0.0038 - mae: 0.0425\n",
      "Epoch 17/200\n",
      "344/344 [==============================] - 6s 19ms/step - loss: 0.0042 - mae: 0.0423\n",
      "Epoch 18/200\n",
      "344/344 [==============================] - 6s 19ms/step - loss: 0.0035 - mae: 0.0398\n",
      "Epoch 19/200\n",
      "344/344 [==============================] - 6s 19ms/step - loss: 0.0036 - mae: 0.0391\n",
      "Epoch 20/200\n",
      "344/344 [==============================] - 7s 19ms/step - loss: 0.0037 - mae: 0.0381\n",
      "Epoch 21/200\n",
      "344/344 [==============================] - 7s 19ms/step - loss: 0.0042 - mae: 0.0387\n",
      "Epoch 22/200\n",
      "344/344 [==============================] - 6s 19ms/step - loss: 0.0032 - mae: 0.0363\n",
      "Epoch 23/200\n",
      "344/344 [==============================] - 7s 19ms/step - loss: 0.0033 - mae: 0.0356\n",
      "Epoch 24/200\n",
      "344/344 [==============================] - 6s 19ms/step - loss: 0.0032 - mae: 0.0348\n",
      "Epoch 25/200\n",
      "344/344 [==============================] - 6s 19ms/step - loss: 0.0035 - mae: 0.0344\n",
      "Epoch 26/200\n",
      "344/344 [==============================] - 7s 19ms/step - loss: 0.0032 - mae: 0.0327\n",
      "Epoch 27/200\n",
      "344/344 [==============================] - 6s 19ms/step - loss: 0.0033 - mae: 0.0331\n",
      "Epoch 28/200\n",
      "344/344 [==============================] - 7s 19ms/step - loss: 0.0029 - mae: 0.0322\n",
      "Epoch 29/200\n",
      "344/344 [==============================] - 7s 19ms/step - loss: 0.0044 - mae: 0.0336\n",
      "Epoch 30/200\n",
      "344/344 [==============================] - 6s 19ms/step - loss: 0.0028 - mae: 0.0315\n",
      "Epoch 31/200\n",
      "344/344 [==============================] - 6s 19ms/step - loss: 0.0030 - mae: 0.0308\n",
      "Epoch 32/200\n",
      "344/344 [==============================] - 6s 19ms/step - loss: 0.0029 - mae: 0.0311\n",
      "Epoch 33/200\n",
      "344/344 [==============================] - 7s 19ms/step - loss: 0.0028 - mae: 0.0318\n",
      "Epoch 34/200\n",
      "344/344 [==============================] - 6s 19ms/step - loss: 0.0029 - mae: 0.0307\n",
      "Epoch 35/200\n",
      "344/344 [==============================] - 6s 19ms/step - loss: 0.0026 - mae: 0.0297\n",
      "Epoch 36/200\n",
      "344/344 [==============================] - 6s 19ms/step - loss: 0.0027 - mae: 0.0302\n",
      "Epoch 37/200\n",
      "344/344 [==============================] - 6s 19ms/step - loss: 0.0030 - mae: 0.0304\n",
      "Epoch 38/200\n",
      "344/344 [==============================] - 6s 19ms/step - loss: 0.0027 - mae: 0.0311\n",
      "Epoch 39/200\n",
      "344/344 [==============================] - 6s 19ms/step - loss: 0.0027 - mae: 0.0293\n",
      "Epoch 40/200\n",
      "344/344 [==============================] - 7s 19ms/step - loss: 0.0030 - mae: 0.0307\n",
      "Epoch 41/200\n",
      "344/344 [==============================] - 6s 19ms/step - loss: 0.0027 - mae: 0.0296\n",
      "Epoch 42/200\n",
      "344/344 [==============================] - 7s 19ms/step - loss: 0.0030 - mae: 0.0309\n",
      "Epoch 43/200\n",
      "344/344 [==============================] - 6s 19ms/step - loss: 0.0030 - mae: 0.0303\n",
      "Epoch 44/200\n",
      "344/344 [==============================] - 6s 19ms/step - loss: 0.0025 - mae: 0.0289\n",
      "Epoch 45/200\n",
      "344/344 [==============================] - ETA: 0s - loss: 0.0028 - mae: 0.030 - 7s 19ms/step - loss: 0.0028 - mae: 0.0305\n",
      "Epoch 46/200\n",
      "344/344 [==============================] - 6s 19ms/step - loss: 0.0028 - mae: 0.0308\n",
      "Epoch 47/200\n",
      "344/344 [==============================] - 6s 19ms/step - loss: 0.0036 - mae: 0.0319\n",
      "Epoch 48/200\n",
      "344/344 [==============================] - 6s 19ms/step - loss: 0.0026 - mae: 0.0292\n",
      "Epoch 49/200\n",
      "344/344 [==============================] - 6s 19ms/step - loss: 0.0023 - mae: 0.0278\n",
      "Epoch 50/200\n",
      "344/344 [==============================] - 7s 19ms/step - loss: 0.0033 - mae: 0.0308\n",
      "Epoch 51/200\n",
      "344/344 [==============================] - 6s 19ms/step - loss: 0.0029 - mae: 0.0306\n",
      "Epoch 52/200\n",
      "344/344 [==============================] - 7s 19ms/step - loss: 0.0029 - mae: 0.0311\n",
      "Epoch 53/200\n",
      "344/344 [==============================] - 6s 19ms/step - loss: 0.0027 - mae: 0.0287\n",
      "Epoch 54/200\n",
      "344/344 [==============================] - 7s 19ms/step - loss: 0.0029 - mae: 0.0288\n",
      "Epoch 55/200\n",
      "344/344 [==============================] - 6s 19ms/step - loss: 0.0027 - mae: 0.0298\n",
      "Epoch 56/200\n",
      "344/344 [==============================] - 6s 19ms/step - loss: 0.0031 - mae: 0.0304\n",
      "Epoch 57/200\n",
      "344/344 [==============================] - 6s 19ms/step - loss: 0.0027 - mae: 0.0305\n",
      "Epoch 58/200\n",
      "344/344 [==============================] - 6s 19ms/step - loss: 0.0031 - mae: 0.0316\n",
      "Epoch 59/200\n",
      "344/344 [==============================] - 6s 19ms/step - loss: 0.0030 - mae: 0.0301\n",
      "Epoch 60/200\n",
      "344/344 [==============================] - 6s 19ms/step - loss: 0.0025 - mae: 0.0287\n",
      "Epoch 61/200\n",
      "344/344 [==============================] - 6s 19ms/step - loss: 0.0025 - mae: 0.0289\n",
      "Epoch 62/200\n",
      "344/344 [==============================] - 7s 19ms/step - loss: 0.0026 - mae: 0.0297\n",
      "Epoch 63/200\n",
      "344/344 [==============================] - 6s 19ms/step - loss: 0.0028 - mae: 0.0294\n",
      "Epoch 64/200\n",
      "344/344 [==============================] - 7s 19ms/step - loss: 0.0029 - mae: 0.0297\n",
      "Epoch 65/200\n",
      "344/344 [==============================] - 6s 19ms/step - loss: 0.0027 - mae: 0.0299\n",
      "Epoch 66/200\n",
      "344/344 [==============================] - 7s 19ms/step - loss: 0.0024 - mae: 0.0292\n",
      "Epoch 67/200\n",
      "344/344 [==============================] - 7s 19ms/step - loss: 0.0025 - mae: 0.0283\n",
      "Epoch 68/200\n",
      "344/344 [==============================] - 7s 19ms/step - loss: 0.0028 - mae: 0.0311\n",
      "Epoch 69/200\n",
      "344/344 [==============================] - 6s 19ms/step - loss: 0.0026 - mae: 0.0299\n",
      "Epoch 70/200\n",
      "344/344 [==============================] - 6s 19ms/step - loss: 0.0029 - mae: 0.0307\n",
      "Epoch 71/200\n",
      "344/344 [==============================] - 6s 19ms/step - loss: 0.0026 - mae: 0.0284\n",
      "Epoch 72/200\n",
      "344/344 [==============================] - 6s 19ms/step - loss: 0.0027 - mae: 0.0300\n",
      "Epoch 73/200\n",
      "344/344 [==============================] - 7s 19ms/step - loss: 0.0027 - mae: 0.0288\n",
      "Epoch 74/200\n",
      "344/344 [==============================] - 6s 19ms/step - loss: 0.0029 - mae: 0.0316\n",
      "Epoch 75/200\n",
      "344/344 [==============================] - 6s 19ms/step - loss: 0.0032 - mae: 0.0309\n",
      "Epoch 76/200\n",
      "344/344 [==============================] - 6s 19ms/step - loss: 0.0026 - mae: 0.0296\n",
      "Epoch 77/200\n",
      " 82/344 [======>.......................] - ETA: 5s - loss: 0.0035 - mae: 0.0319"
     ]
    },
    {
     "ename": "KeyboardInterrupt",
     "evalue": "",
     "output_type": "error",
     "traceback": [
      "\u001b[0;31m---------------------------------------------------------------------------\u001b[0m",
      "\u001b[0;31mKeyboardInterrupt\u001b[0m                         Traceback (most recent call last)",
      "\u001b[0;32m<ipython-input-10-f8522feeb6c4>\u001b[0m in \u001b[0;36m<module>\u001b[0;34m\u001b[0m\n\u001b[1;32m      1\u001b[0m \u001b[0mregressor\u001b[0m\u001b[0;34m.\u001b[0m\u001b[0mcompile\u001b[0m\u001b[0;34m(\u001b[0m\u001b[0moptimizer\u001b[0m \u001b[0;34m=\u001b[0m \u001b[0;34m'adam'\u001b[0m\u001b[0;34m,\u001b[0m \u001b[0mloss\u001b[0m \u001b[0;34m=\u001b[0m \u001b[0;34m'mse'\u001b[0m\u001b[0;34m,\u001b[0m \u001b[0mmetrics\u001b[0m\u001b[0;34m=\u001b[0m\u001b[0;34m[\u001b[0m\u001b[0;34m\"mae\"\u001b[0m\u001b[0;34m]\u001b[0m\u001b[0;34m)\u001b[0m\u001b[0;34m\u001b[0m\u001b[0;34m\u001b[0m\u001b[0m\n\u001b[0;32m----> 2\u001b[0;31m history = regressor.fit(X_train, y_train, epochs = epochs_number, batch_size = batch_size_number\n\u001b[0m\u001b[1;32m      3\u001b[0m \u001b[0;31m#                         , callbacks=callbacks\u001b[0m\u001b[0;34m\u001b[0m\u001b[0;34m\u001b[0m\u001b[0;34m\u001b[0m\u001b[0m\n\u001b[1;32m      4\u001b[0m                        )\n\u001b[1;32m      5\u001b[0m \u001b[0;31m#, callbacks = callbacks\u001b[0m\u001b[0;34m\u001b[0m\u001b[0;34m\u001b[0m\u001b[0;34m\u001b[0m\u001b[0m\n",
      "\u001b[0;32m/disk/users/is789/.Envs/chally_ai/lib/python3.8/site-packages/keras/engine/training.py\u001b[0m in \u001b[0;36mfit\u001b[0;34m(self, x, y, batch_size, epochs, verbose, callbacks, validation_split, validation_data, shuffle, class_weight, sample_weight, initial_epoch, steps_per_epoch, validation_steps, validation_batch_size, validation_freq, max_queue_size, workers, use_multiprocessing)\u001b[0m\n\u001b[1;32m   1156\u001b[0m                 _r=1):\n\u001b[1;32m   1157\u001b[0m               \u001b[0mcallbacks\u001b[0m\u001b[0;34m.\u001b[0m\u001b[0mon_train_batch_begin\u001b[0m\u001b[0;34m(\u001b[0m\u001b[0mstep\u001b[0m\u001b[0;34m)\u001b[0m\u001b[0;34m\u001b[0m\u001b[0;34m\u001b[0m\u001b[0m\n\u001b[0;32m-> 1158\u001b[0;31m               \u001b[0mtmp_logs\u001b[0m \u001b[0;34m=\u001b[0m \u001b[0mself\u001b[0m\u001b[0;34m.\u001b[0m\u001b[0mtrain_function\u001b[0m\u001b[0;34m(\u001b[0m\u001b[0miterator\u001b[0m\u001b[0;34m)\u001b[0m\u001b[0;34m\u001b[0m\u001b[0;34m\u001b[0m\u001b[0m\n\u001b[0m\u001b[1;32m   1159\u001b[0m               \u001b[0;32mif\u001b[0m \u001b[0mdata_handler\u001b[0m\u001b[0;34m.\u001b[0m\u001b[0mshould_sync\u001b[0m\u001b[0;34m:\u001b[0m\u001b[0;34m\u001b[0m\u001b[0;34m\u001b[0m\u001b[0m\n\u001b[1;32m   1160\u001b[0m                 \u001b[0mcontext\u001b[0m\u001b[0;34m.\u001b[0m\u001b[0masync_wait\u001b[0m\u001b[0;34m(\u001b[0m\u001b[0;34m)\u001b[0m\u001b[0;34m\u001b[0m\u001b[0;34m\u001b[0m\u001b[0m\n",
      "\u001b[0;32m/disk/users/is789/.Envs/chally_ai/lib/python3.8/site-packages/tensorflow/python/eager/def_function.py\u001b[0m in \u001b[0;36m__call__\u001b[0;34m(self, *args, **kwds)\u001b[0m\n\u001b[1;32m    887\u001b[0m \u001b[0;34m\u001b[0m\u001b[0m\n\u001b[1;32m    888\u001b[0m       \u001b[0;32mwith\u001b[0m \u001b[0mOptionalXlaContext\u001b[0m\u001b[0;34m(\u001b[0m\u001b[0mself\u001b[0m\u001b[0;34m.\u001b[0m\u001b[0m_jit_compile\u001b[0m\u001b[0;34m)\u001b[0m\u001b[0;34m:\u001b[0m\u001b[0;34m\u001b[0m\u001b[0;34m\u001b[0m\u001b[0m\n\u001b[0;32m--> 889\u001b[0;31m         \u001b[0mresult\u001b[0m \u001b[0;34m=\u001b[0m \u001b[0mself\u001b[0m\u001b[0;34m.\u001b[0m\u001b[0m_call\u001b[0m\u001b[0;34m(\u001b[0m\u001b[0;34m*\u001b[0m\u001b[0margs\u001b[0m\u001b[0;34m,\u001b[0m \u001b[0;34m**\u001b[0m\u001b[0mkwds\u001b[0m\u001b[0;34m)\u001b[0m\u001b[0;34m\u001b[0m\u001b[0;34m\u001b[0m\u001b[0m\n\u001b[0m\u001b[1;32m    890\u001b[0m \u001b[0;34m\u001b[0m\u001b[0m\n\u001b[1;32m    891\u001b[0m       \u001b[0mnew_tracing_count\u001b[0m \u001b[0;34m=\u001b[0m \u001b[0mself\u001b[0m\u001b[0;34m.\u001b[0m\u001b[0mexperimental_get_tracing_count\u001b[0m\u001b[0;34m(\u001b[0m\u001b[0;34m)\u001b[0m\u001b[0;34m\u001b[0m\u001b[0;34m\u001b[0m\u001b[0m\n",
      "\u001b[0;32m/disk/users/is789/.Envs/chally_ai/lib/python3.8/site-packages/tensorflow/python/eager/def_function.py\u001b[0m in \u001b[0;36m_call\u001b[0;34m(self, *args, **kwds)\u001b[0m\n\u001b[1;32m    915\u001b[0m       \u001b[0;31m# In this case we have created variables on the first call, so we run the\u001b[0m\u001b[0;34m\u001b[0m\u001b[0;34m\u001b[0m\u001b[0;34m\u001b[0m\u001b[0m\n\u001b[1;32m    916\u001b[0m       \u001b[0;31m# defunned version which is guaranteed to never create variables.\u001b[0m\u001b[0;34m\u001b[0m\u001b[0;34m\u001b[0m\u001b[0;34m\u001b[0m\u001b[0m\n\u001b[0;32m--> 917\u001b[0;31m       \u001b[0;32mreturn\u001b[0m \u001b[0mself\u001b[0m\u001b[0;34m.\u001b[0m\u001b[0m_stateless_fn\u001b[0m\u001b[0;34m(\u001b[0m\u001b[0;34m*\u001b[0m\u001b[0margs\u001b[0m\u001b[0;34m,\u001b[0m \u001b[0;34m**\u001b[0m\u001b[0mkwds\u001b[0m\u001b[0;34m)\u001b[0m  \u001b[0;31m# pylint: disable=not-callable\u001b[0m\u001b[0;34m\u001b[0m\u001b[0;34m\u001b[0m\u001b[0m\n\u001b[0m\u001b[1;32m    918\u001b[0m     \u001b[0;32melif\u001b[0m \u001b[0mself\u001b[0m\u001b[0;34m.\u001b[0m\u001b[0m_stateful_fn\u001b[0m \u001b[0;32mis\u001b[0m \u001b[0;32mnot\u001b[0m \u001b[0;32mNone\u001b[0m\u001b[0;34m:\u001b[0m\u001b[0;34m\u001b[0m\u001b[0;34m\u001b[0m\u001b[0m\n\u001b[1;32m    919\u001b[0m       \u001b[0;31m# Release the lock early so that multiple threads can perform the call\u001b[0m\u001b[0;34m\u001b[0m\u001b[0;34m\u001b[0m\u001b[0;34m\u001b[0m\u001b[0m\n",
      "\u001b[0;32m/disk/users/is789/.Envs/chally_ai/lib/python3.8/site-packages/tensorflow/python/eager/function.py\u001b[0m in \u001b[0;36m__call__\u001b[0;34m(self, *args, **kwargs)\u001b[0m\n\u001b[1;32m   3021\u001b[0m       (graph_function,\n\u001b[1;32m   3022\u001b[0m        filtered_flat_args) = self._maybe_define_function(args, kwargs)\n\u001b[0;32m-> 3023\u001b[0;31m     return graph_function._call_flat(\n\u001b[0m\u001b[1;32m   3024\u001b[0m         filtered_flat_args, captured_inputs=graph_function.captured_inputs)  # pylint: disable=protected-access\n\u001b[1;32m   3025\u001b[0m \u001b[0;34m\u001b[0m\u001b[0m\n",
      "\u001b[0;32m/disk/users/is789/.Envs/chally_ai/lib/python3.8/site-packages/tensorflow/python/eager/function.py\u001b[0m in \u001b[0;36m_call_flat\u001b[0;34m(self, args, captured_inputs, cancellation_manager)\u001b[0m\n\u001b[1;32m   1958\u001b[0m         and executing_eagerly):\n\u001b[1;32m   1959\u001b[0m       \u001b[0;31m# No tape is watching; skip to running the function.\u001b[0m\u001b[0;34m\u001b[0m\u001b[0;34m\u001b[0m\u001b[0;34m\u001b[0m\u001b[0m\n\u001b[0;32m-> 1960\u001b[0;31m       return self._build_call_outputs(self._inference_function.call(\n\u001b[0m\u001b[1;32m   1961\u001b[0m           ctx, args, cancellation_manager=cancellation_manager))\n\u001b[1;32m   1962\u001b[0m     forward_backward = self._select_forward_and_backward_functions(\n",
      "\u001b[0;32m/disk/users/is789/.Envs/chally_ai/lib/python3.8/site-packages/tensorflow/python/eager/function.py\u001b[0m in \u001b[0;36mcall\u001b[0;34m(self, ctx, args, cancellation_manager)\u001b[0m\n\u001b[1;32m    589\u001b[0m       \u001b[0;32mwith\u001b[0m \u001b[0m_InterpolateFunctionError\u001b[0m\u001b[0;34m(\u001b[0m\u001b[0mself\u001b[0m\u001b[0;34m)\u001b[0m\u001b[0;34m:\u001b[0m\u001b[0;34m\u001b[0m\u001b[0;34m\u001b[0m\u001b[0m\n\u001b[1;32m    590\u001b[0m         \u001b[0;32mif\u001b[0m \u001b[0mcancellation_manager\u001b[0m \u001b[0;32mis\u001b[0m \u001b[0;32mNone\u001b[0m\u001b[0;34m:\u001b[0m\u001b[0;34m\u001b[0m\u001b[0;34m\u001b[0m\u001b[0m\n\u001b[0;32m--> 591\u001b[0;31m           outputs = execute.execute(\n\u001b[0m\u001b[1;32m    592\u001b[0m               \u001b[0mstr\u001b[0m\u001b[0;34m(\u001b[0m\u001b[0mself\u001b[0m\u001b[0;34m.\u001b[0m\u001b[0msignature\u001b[0m\u001b[0;34m.\u001b[0m\u001b[0mname\u001b[0m\u001b[0;34m)\u001b[0m\u001b[0;34m,\u001b[0m\u001b[0;34m\u001b[0m\u001b[0;34m\u001b[0m\u001b[0m\n\u001b[1;32m    593\u001b[0m               \u001b[0mnum_outputs\u001b[0m\u001b[0;34m=\u001b[0m\u001b[0mself\u001b[0m\u001b[0;34m.\u001b[0m\u001b[0m_num_outputs\u001b[0m\u001b[0;34m,\u001b[0m\u001b[0;34m\u001b[0m\u001b[0;34m\u001b[0m\u001b[0m\n",
      "\u001b[0;32m/disk/users/is789/.Envs/chally_ai/lib/python3.8/site-packages/tensorflow/python/eager/execute.py\u001b[0m in \u001b[0;36mquick_execute\u001b[0;34m(op_name, num_outputs, inputs, attrs, ctx, name)\u001b[0m\n\u001b[1;32m     57\u001b[0m   \u001b[0;32mtry\u001b[0m\u001b[0;34m:\u001b[0m\u001b[0;34m\u001b[0m\u001b[0;34m\u001b[0m\u001b[0m\n\u001b[1;32m     58\u001b[0m     \u001b[0mctx\u001b[0m\u001b[0;34m.\u001b[0m\u001b[0mensure_initialized\u001b[0m\u001b[0;34m(\u001b[0m\u001b[0;34m)\u001b[0m\u001b[0;34m\u001b[0m\u001b[0;34m\u001b[0m\u001b[0m\n\u001b[0;32m---> 59\u001b[0;31m     tensors = pywrap_tfe.TFE_Py_Execute(ctx._handle, device_name, op_name,\n\u001b[0m\u001b[1;32m     60\u001b[0m                                         inputs, attrs, num_outputs)\n\u001b[1;32m     61\u001b[0m   \u001b[0;32mexcept\u001b[0m \u001b[0mcore\u001b[0m\u001b[0;34m.\u001b[0m\u001b[0m_NotOkStatusException\u001b[0m \u001b[0;32mas\u001b[0m \u001b[0me\u001b[0m\u001b[0;34m:\u001b[0m\u001b[0;34m\u001b[0m\u001b[0;34m\u001b[0m\u001b[0m\n",
      "\u001b[0;31mKeyboardInterrupt\u001b[0m: "
     ]
    }
   ],
   "source": [
    "regressor.compile(optimizer = 'adam', loss = 'mse', metrics=[\"mae\"])\n",
    "history = regressor.fit(X_train, y_train, epochs = epochs_number, batch_size = batch_size_number\n",
    "#                         , callbacks=callbacks\n",
    "                       )\n",
    "#, callbacks = callbacks\n",
    "# callbacks=[es_callback]\n",
    "plt.figure(figsize=(20,10))\n",
    "plt.plot(history.history['loss'], label='train')\n",
    "plt.legend()\n",
    "plt.show()"
   ]
  },
  {
   "cell_type": "markdown",
   "metadata": {},
   "source": [
    "# Prepare the test data"
   ]
  },
  {
   "cell_type": "code",
   "execution_count": 11,
   "metadata": {},
   "outputs": [],
   "source": [
    "test_set = test_set.iloc[:,:].values\n",
    "y_test_set = y_test_set.iloc[:,:].values\n",
    "\n",
    "sc = MinMaxScaler(feature_range = (0, 1))\n",
    "test_set_scaled = sc.fit_transform(test_set)\n",
    "\n",
    "Y_test = []\n",
    "X_test = []\n",
    "for i in range(timelag, len(test_set)-1):\n",
    "    X_test.append(test_set_scaled[i-timelag:i, :])\n",
    "    Y_test.append(y_test_set[i-1,0])\n",
    "X_test, Y_test = np.array(X_test), np.array(Y_test)"
   ]
  },
  {
   "cell_type": "code",
   "execution_count": 12,
   "metadata": {},
   "outputs": [
    {
     "data": {
      "text/plain": [
       "(1798, 6, 23)"
      ]
     },
     "execution_count": 12,
     "metadata": {},
     "output_type": "execute_result"
    }
   ],
   "source": [
    "X_test.shape"
   ]
  },
  {
   "cell_type": "markdown",
   "metadata": {},
   "source": [
    "# Predict"
   ]
  },
  {
   "cell_type": "code",
   "execution_count": 13,
   "metadata": {},
   "outputs": [],
   "source": [
    "predicted_height = regressor.predict(X_test)\n",
    "predicted_height = sc1.inverse_transform(predicted_height)"
   ]
  },
  {
   "cell_type": "markdown",
   "metadata": {},
   "source": [
    "# Plot the prediction"
   ]
  },
  {
   "cell_type": "code",
   "execution_count": 15,
   "metadata": {},
   "outputs": [
    {
     "data": {
      "image/png": "[encoded data removed]",
      "text/plain": [
       "<Figure size 1440x720 with 1 Axes>"
      ]
     },
     "metadata": {
      "needs_background": "light"
     },
     "output_type": "display_data"
    }
   ],
   "source": [
    "plt.figure(figsize=(20,10))\n",
    "plt.plot(y_test_set[:100], color = 'green', label = 'Real Height')\n",
    "plt.plot(predicted_height[:100], color = 'red', label = 'Predicted Height')\n",
    "plt.title('Height Prediction with Timelag '+ str(timelag) + ' for container number ' +str(container_number))\n",
    "plt.xlabel('Time')\n",
    "plt.ylabel('Height Delta')\n",
    "plt.legend()\n",
    "plt.show()"
   ]
  },
  {
   "cell_type": "markdown",
   "metadata": {},
   "source": [
    "# Export Model"
   ]
  },
  {
   "cell_type": "code",
   "execution_count": null,
   "metadata": {},
   "outputs": [],
   "source": [
    "regressor.save('../data/modeling/dev/test_model')"
   ]
  },
  {
   "cell_type": "markdown",
   "metadata": {},
   "source": [
    "# TEST FOR A SINGLE PREDICTION"
   ]
  },
  {
   "cell_type": "code",
   "execution_count": null,
   "metadata": {},
   "outputs": [],
   "source": [
    "# reconstructed_model = keras.models.load_model(\"../data/modeling/dev/test_model\")"
   ]
  },
  {
   "cell_type": "code",
   "execution_count": null,
   "metadata": {},
   "outputs": [],
   "source": [
    "# test_set_sub = test_set[test_set['container_id']==1].head(1)\n",
    "# training_set_sub = training_set[training_set['container_id']==1]\n",
    "\n",
    "# real_height = test_set_sub.iloc[:, 20:21].values\n",
    "# dataset_total = pd.concat((training_set_sub['hight_delta'], test_set_sub['hight_delta']), axis = 0)\n",
    "# inputs = dataset_total[len(dataset_total) - len(test_set_sub) - timelag:].values\n",
    "# inputs = inputs.reshape(-1,1)\n",
    "# inputs = sc.transform(inputs)\n",
    "# X_test = []\n",
    "# for i in range(timelag, len(test_set_sub)+timelag):\n",
    "#     X_test.append(inputs[i-timelag:i, 0])\n",
    "# X_test = np.array(X_test)\n",
    "# X_test = np.reshape(X_test, (X_test.shape[0], X_test.shape[1], 1))\n",
    "\n",
    "# predicted_height = reconstructed_model.predict(X_test)\n",
    "# predicted_height = sc.inverse_transform(predicted_height)\n",
    "\n",
    "# print(\"Pred =\"+str(predicted_height)+\" and real height = \"+str(real_height))"
   ]
  },
  {
   "cell_type": "code",
   "execution_count": null,
   "metadata": {},
   "outputs": [],
   "source": [
    "# test_set_sub"
   ]
  }
 ],
 "metadata": {
  "kernelspec": {
   "display_name": "chally_ai",
   "language": "python",
   "name": "chally_ai"
  },
  "language_info": {
   "codemirror_mode": {
    "name": "ipython",
    "version": 3
   },
   "file_extension": ".py",
   "mimetype": "text/x-python",
   "name": "python",
   "nbconvert_exporter": "python",
   "pygments_lexer": "ipython3",
   "version": "3.8.10"
  }
 },
 "nbformat": 4,
 "nbformat_minor": 4
}
